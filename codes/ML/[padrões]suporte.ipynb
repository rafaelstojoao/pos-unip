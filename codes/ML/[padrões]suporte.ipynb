{
 "cells": [
  {
   "cell_type": "code",
   "execution_count": 23,
   "metadata": {},
   "outputs": [],
   "source": [
    "dataset = [\n",
    "            ['a','b','c','d'],\n",
    "            ['e','f','a','c'],\n",
    "            ['a','c','f'],\n",
    "            ['a','c']]\n",
    " \n",
    "    \n",
    "    \n",
    "    \n",
    "    \n",
    "#supondo um dataset de páginas acessadas por visitantes de um site \n",
    "datasetSite = [\n",
    "            ['index.html','sobre-nos.html','contato.html','produto1.html','produto3.html','produto8.html'],       \n",
    "            ['produto1.html','produto3.html','produto12.html','produto21.html'],\n",
    "            ['produto12.html'],\n",
    "            ['produto3.html','contato.html','produto8.html','sobre-nos.html']\n",
    "]\n",
    "\n",
    "\n",
    "\n"
   ]
  },
  {
   "cell_type": "code",
   "execution_count": 24,
   "metadata": {},
   "outputs": [],
   "source": [
    "def calcularSuporte(dataset,itemBuscado):\n",
    "    suporte  = 0.0\n",
    "    contador = 0\n",
    "    \n",
    "    for registro in dataset:\n",
    "        for itemDataset in registro:\n",
    "            if itemDataset == itemBuscado:\n",
    "                contador +=1\n",
    "    suporte = contador/len(dataset)\n",
    "    return suporte\n",
    "\n"
   ]
  },
  {
   "cell_type": "code",
   "execution_count": 28,
   "metadata": {},
   "outputs": [
    {
     "data": {
      "text/plain": [
       "0.75"
      ]
     },
     "execution_count": 28,
     "metadata": {},
     "output_type": "execute_result"
    }
   ],
   "source": [
    "calcularSuporte(datasetSite,'produto3.html')"
   ]
  },
  {
   "cell_type": "code",
   "execution_count": null,
   "metadata": {},
   "outputs": [],
   "source": []
  }
 ],
 "metadata": {
  "kernelspec": {
   "display_name": "Python 3",
   "language": "python",
   "name": "python3"
  },
  "language_info": {
   "codemirror_mode": {
    "name": "ipython",
    "version": 3
   },
   "file_extension": ".py",
   "mimetype": "text/x-python",
   "name": "python",
   "nbconvert_exporter": "python",
   "pygments_lexer": "ipython3",
   "version": "3.7.3"
  }
 },
 "nbformat": 4,
 "nbformat_minor": 4
}
