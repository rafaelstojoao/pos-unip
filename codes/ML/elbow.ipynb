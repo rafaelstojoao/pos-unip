{
 "cells": [
  {
   "cell_type": "code",
   "execution_count": 1,
   "metadata": {},
   "outputs": [
    {
     "name": "stdout",
     "output_type": "stream",
     "text": [
      "1 1869.2334484713758\n",
      "2 434.39683124186536\n",
      "3 105.95877741731238\n",
      "4 80.64532277504064\n",
      "5 67.67400241337953\n",
      "6 61.83949352172546\n",
      "7 44.852643583717864\n",
      "8 38.82708593409563\n",
      "9 31.98037167606727\n"
     ]
    },
    {
     "data": {
      "text/plain": [
       "<module 'matplotlib.pyplot' from '/usr/local/lib/python3.7/dist-packages/matplotlib/pyplot.py'>"
      ]
     },
     "execution_count": 1,
     "metadata": {},
     "output_type": "execute_result"
    }
   ],
   "source": [
    "import matplotlib.pyplot as plt\n",
    "from sklearn.datasets import make_blobs\n",
    "from sklearn.cluster import KMeans\n",
    "\n",
    "\n",
    "X, y = make_blobs(n_samples=50, n_features=2)\n",
    "\n",
    " \n",
    "wcss = [] #somatório dos erros quadráticos das instâncias de cada cluste\n",
    "\n",
    "for i in range(1, 10):\n",
    "    kmeans = KMeans(n_clusters=i, init='random')\n",
    "    kmeans.fit(X)\n",
    "    print(     i, kmeans.inertia_)\n",
    "    \n",
    "    wcss.append(kmeans.inertia_)\n",
    "    \n",
    "    \n",
    "plt.plot(range(1, 10), wcss)\n",
    "plt.title('O Metodo Elbow (cotovelo)')\n",
    "plt.xlabel('Numero de Clusters')\n",
    "plt.ylabel('Somatório das distâncias quadráticos')  # within cluster sum of squares\n",
    "plt\n",
    "\n",
    "\n",
    "\n"
   ]
  }
 ],
 "metadata": {
  "kernelspec": {
   "display_name": "Python 3",
   "language": "python",
   "name": "python3"
  },
  "language_info": {
   "codemirror_mode": {
    "name": "ipython",
    "version": 3
   },
   "file_extension": ".py",
   "mimetype": "text/x-python",
   "name": "python",
   "nbconvert_exporter": "python",
   "pygments_lexer": "ipython3",
   "version": "3.7.3"
  }
 },
 "nbformat": 4,
 "nbformat_minor": 4
}
