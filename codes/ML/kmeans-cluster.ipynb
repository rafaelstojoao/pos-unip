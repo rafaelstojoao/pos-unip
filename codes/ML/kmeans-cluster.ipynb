{
 "cells": [
  {
   "cell_type": "code",
   "execution_count": 3,
   "metadata": {},
   "outputs": [
    {
     "name": "stdout",
     "output_type": "stream",
     "text": [
      "791.0481\n"
     ]
    }
   ],
   "source": [
    "C   =   [45,0.4,0.6,12.34]\n",
    "reg =   [72,0.8,1.25,4.5]\n",
    "\n",
    "distanciaEuclidiana =  sum((attReg - attC)*(attReg - attC) for attReg, attC in zip( reg, C))\n",
    "print(distanciaEuclidiana)"
   ]
  },
  {
   "cell_type": "code",
   "execution_count": 4,
   "metadata": {},
   "outputs": [],
   "source": [
    "Clusters = [\n",
    "    [\n",
    "        [45,0.4,0.6,12.34],\n",
    "        [55,0.3,0.3,81.5],\n",
    "        [57,0.5,-0.2,4.81],\n",
    "        [58,0.9,-3.2,4.41]\n",
    "    ],\n",
    "    [\n",
    "        [75,0.74,1.6,2.34],\n",
    "        [75,0.7,1.3,1.5],\n",
    "        [87,0.85,2.2,1.87],\n",
    "        [78,0.9,3.2,2.1]\n",
    "    ],\n",
    "    [\n",
    "        [65,0.14,0.6,24.8],\n",
    "        [71,0.47,-1.1,51.3],\n",
    "        [68,0.45,-1.2,14.83],\n",
    "        [68,0.19,-5.2,141]\n",
    "      ]\n",
    "    ]"
   ]
  },
  {
   "cell_type": "code",
   "execution_count": 5,
   "metadata": {},
   "outputs": [],
   "source": [
    "C1 = [53.75,0.525,-0.625,25.765]\n",
    "C2 = [78.75,0.7975,2.075,1.9525]\n",
    "C3 = [68,0.3125,-1.725,57.9825]\n"
   ]
  },
  {
   "cell_type": "code",
   "execution_count": 6,
   "metadata": {},
   "outputs": [
    {
     "name": "stdout",
     "output_type": "stream",
     "text": [
      "788.853975\n"
     ]
    }
   ],
   "source": [
    "distanciaEuclidianaC1 =  sum((attReg - attC)*(attReg - attC) for attReg, attC in zip( reg, C1))\n",
    "print(distanciaEuclidianaC1)"
   ]
  },
  {
   "cell_type": "code",
   "execution_count": 7,
   "metadata": {},
   "outputs": [
    {
     "name": "stdout",
     "output_type": "stream",
     "text": [
      "52.7328875\n"
     ]
    }
   ],
   "source": [
    "distanciaEuclidianaC2 =  sum((attReg - attC)*(attReg - attC) for attReg, attC in zip( reg, C2))\n",
    "print(distanciaEuclidianaC2)"
   ]
  },
  {
   "cell_type": "code",
   "execution_count": 8,
   "metadata": {},
   "outputs": [
    {
     "name": "stdout",
     "output_type": "stream",
     "text": [
      "2885.4660875\n"
     ]
    }
   ],
   "source": [
    "distanciaEuclidianaC3 =  sum((attReg - attC)*(attReg - attC) for attReg, attC in zip( reg, C3))\n",
    "print(distanciaEuclidianaC3)"
   ]
  },
  {
   "cell_type": "code",
   "execution_count": 9,
   "metadata": {},
   "outputs": [
    {
     "name": "stdout",
     "output_type": "stream",
     "text": [
      "52.7328875\n"
     ]
    }
   ],
   "source": [
    "print(min(distanciaEuclidianaC1,distanciaEuclidianaC2,distanciaEuclidianaC3))"
   ]
  }
 ],
 "metadata": {
  "kernelspec": {
   "display_name": "Python 3",
   "language": "python",
   "name": "python3"
  },
  "language_info": {
   "codemirror_mode": {
    "name": "ipython",
    "version": 3
   },
   "file_extension": ".py",
   "mimetype": "text/x-python",
   "name": "python",
   "nbconvert_exporter": "python",
   "pygments_lexer": "ipython3",
   "version": "3.7.3"
  }
 },
 "nbformat": 4,
 "nbformat_minor": 4
}
