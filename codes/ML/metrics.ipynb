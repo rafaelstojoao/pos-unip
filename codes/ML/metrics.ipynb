{
 "cells": [
  {
   "cell_type": "code",
   "execution_count": 153,
   "metadata": {},
   "outputs": [
    {
     "name": "stdout",
     "output_type": "stream",
     "text": [
      "2\n"
     ]
    }
   ],
   "source": [
    "\n",
    "class_real    = [0, 1, 0, 1, 1,1,1,0]\n",
    "class_predita = [0, 0, 1, 1, 1,0,1,0]\n",
    "\n",
    "\n",
    "def contador_de_ocorrencias(classe_esperada,predicao):\n",
    "    contador = 0\n",
    "    for i in range(len(class_real)):\n",
    "        if class_real[i] == classe_esperada and class_predita[i] == predicao:\n",
    "            contador+=1\n",
    "    return contador\n",
    "\n",
    "    \n",
    "    \n",
    "    \n",
    "verdPositivo  = contador_de_ocorrencias(1,1)\n",
    "# print(verdPositivo)\n",
    "\n",
    "falsoPositivo = contador_de_ocorrencias(0,1)\n",
    "# print(falsoPositivo)\n",
    "\n",
    "verdNegativo  = contador_de_ocorrencias(0,0)\n",
    "# print(verdNegativo)\n",
    "\n",
    "falsoNegativo =  contador_de_ocorrencias(1,0)\n",
    "print(falsoNegativo)"
   ]
  },
  {
   "cell_type": "code",
   "execution_count": 150,
   "metadata": {},
   "outputs": [
    {
     "name": "stdout",
     "output_type": "stream",
     "text": [
      "[3, 1]\n",
      "[2, 2]\n"
     ]
    }
   ],
   "source": [
    "\n",
    "def matriz_confusao():\n",
    "    matriz = [  \n",
    "                [verdPositivo,falsoPositivo],\n",
    "                [falsoNegativo,verdNegativo],\n",
    "                \n",
    "             ]\n",
    "   \n",
    "\n",
    "    for linha in matriz:\n",
    "         print(linha)\n",
    "    return #matriz\n",
    "\n",
    "matriz_confusao()\n"
   ]
  },
  {
   "cell_type": "code",
   "execution_count": 90,
   "metadata": {},
   "outputs": [
    {
     "name": "stdout",
     "output_type": "stream",
     "text": [
      "\n",
      " O erro do modelo é de : 0.375ou: 37.5%\n"
     ]
    }
   ],
   "source": [
    "erro = (falsoPositivo+falsoNegativo)/len(class_real)\n",
    "print('\\n O erro do modelo é de : '+ str(erro)+ 'ou: '+str(erro*100)+'%')"
   ]
  },
  {
   "cell_type": "code",
   "execution_count": 92,
   "metadata": {},
   "outputs": [
    {
     "name": "stdout",
     "output_type": "stream",
     "text": [
      "acurácia do modelo é de: 0.625 ou :62.5%\n"
     ]
    }
   ],
   "source": [
    "# para calcular a acurácia \n",
    "acc =  (verdPositivo + verdNegativo) / len(class_real)\n",
    "print('acurácia do modelo é de: '+str(acc)+ ' ou :'+str(acc*100)+'%')\n",
    "\n",
    "\n"
   ]
  },
  {
   "cell_type": "code",
   "execution_count": 94,
   "metadata": {},
   "outputs": [
    {
     "name": "stdout",
     "output_type": "stream",
     "text": [
      "precisão do modelo é de: 0.75 ou :75.0%\n"
     ]
    }
   ],
   "source": [
    "#para calcular a precisão\n",
    "precisao = (verdPositivo) / (verdPositivo +falsoPositivo)\n",
    "print('precisão do modelo é de: '+str(precisao)+ ' ou :'+str(precisao*100)+'%')"
   ]
  },
  {
   "cell_type": "code",
   "execution_count": 95,
   "metadata": {},
   "outputs": [
    {
     "name": "stdout",
     "output_type": "stream",
     "text": [
      "revogação do modelo é de: 0.6 ou :60.0%\n"
     ]
    }
   ],
   "source": [
    "#para calcular a revogação\n",
    "recall = (verdPositivo) / (verdPositivo +falsoNegativo)\n",
    "print('revogação do modelo é de: '+str(recall)+ ' ou :'+str(recall*100)+'%')"
   ]
  },
  {
   "cell_type": "code",
   "execution_count": 96,
   "metadata": {},
   "outputs": [
    {
     "name": "stdout",
     "output_type": "stream",
     "text": [
      "a medida F1 do modelo é de: 0.6666666666666665 ou :66.66666666666666%\n"
     ]
    }
   ],
   "source": [
    "f1_score = (2*precisao*recall)/(precisao+recall)\n",
    "print('a medida F1 do modelo é de: '+str(f1_score)+ ' ou :'+str(f1_score*100)+'%')"
   ]
  },
  {
   "cell_type": "code",
   "execution_count": 100,
   "metadata": {},
   "outputs": [
    {
     "name": "stdout",
     "output_type": "stream",
     "text": [
      "                precision    recall  f1-score   support\n",
      "\n",
      "covid_positivo       0.50      0.67      0.57         3\n",
      "covid_negativo       0.75      0.60      0.67         5\n",
      "\n",
      "      accuracy                           0.62         8\n",
      "     macro avg       0.62      0.63      0.62         8\n",
      "  weighted avg       0.66      0.62      0.63         8\n",
      "\n",
      "0.625\n"
     ]
    }
   ],
   "source": [
    "from sklearn.metrics import classification_report\n",
    "from sklearn.metrics import accuracy_score\n",
    "\n",
    "\n",
    "\n",
    "class_real    = [0, 1, 0, 1, 1,1,1,0]\n",
    "class_predita = [0, 0, 1, 1, 1,0,1,0]\n",
    "\n",
    "\n",
    "target_names = ['covid_positivo', 'covid_negativo']\n",
    "print(classification_report(class_real, class_predita, target_names=target_names))\n",
    "print(accuracy_score(class_real,class_predita))\n",
    "\n",
    "\n",
    "\n"
   ]
  },
  {
   "cell_type": "code",
   "execution_count": 152,
   "metadata": {},
   "outputs": [
    {
     "name": "stdout",
     "output_type": "stream",
     "text": [
      "Carregue uma base de dados com o pandas e aplique um conjunto de classificadores vistos em aulas passadas (à sua escolha)\n",
      "\n",
      " Utilize os códigos acima para estimar as métricas de cada um dos modelos\n",
      "\n",
      " plote em um gráfico os resultados, onde os eixos são a revogação (x) e a acurácia (y) - todos de 0 até 1\n",
      "\n",
      " por fim,  faça a média dos resultados -- esses resultados combinados são o Ensemble construído\n"
     ]
    }
   ],
   "source": [
    "print('Carregue uma base de dados com o pandas e aplique um conjunto de classificadores vistos em aulas passadas (à sua escolha)') \n",
    "print('\\n Utilize os códigos acima para estimar as métricas de cada um dos modelos')\n",
    "print('\\n plote em um gráfico os resultados, onde os eixos são a revogação (x) e a acurácia (y) - todos de 0 até 1')\n",
    "print('\\n por fim,  faça a média dos resultados -- esses resultados combinados são o Ensemble construído')"
   ]
  }
 ],
 "metadata": {
  "kernelspec": {
   "display_name": "Python 3",
   "language": "python",
   "name": "python3"
  },
  "language_info": {
   "codemirror_mode": {
    "name": "ipython",
    "version": 3
   },
   "file_extension": ".py",
   "mimetype": "text/x-python",
   "name": "python",
   "nbconvert_exporter": "python",
   "pygments_lexer": "ipython3",
   "version": "3.7.3"
  }
 },
 "nbformat": 4,
 "nbformat_minor": 4
}
