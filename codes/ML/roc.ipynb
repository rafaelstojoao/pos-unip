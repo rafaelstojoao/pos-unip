{
 "cells": [
  {
   "cell_type": "code",
   "execution_count": 224,
   "metadata": {},
   "outputs": [
    {
     "name": "stdout",
     "output_type": "stream",
     "text": [
      "[False False False False False False False False False False False False\n",
      " False False False False False False False False False False False False\n",
      " False False False False False False False False False False False False\n",
      " False False False False False False False False False False False False\n",
      " False False False False False False False False False False False  True\n",
      "  True  True  True  True  True  True  True  True  True  True  True  True\n",
      "  True  True  True  True  True  True  True  True  True  True  True  True\n",
      "  True  True  True  True  True  True  True  True  True  True  True  True\n",
      "  True  True  True  True  True  True  True  True  True  True  True  True\n",
      "  True  True  True  True  True  True  True  True  True  True  True  True\n",
      "  True  True  True  True  True  True  True  True  True  True False False\n",
      " False False False False False False False False False False False False\n",
      " False False False False False False False False False False False False\n",
      " False False False False False False False False False False False False\n",
      " False False False False False False False False False False]\n"
     ]
    },
    {
     "data": {
      "image/png": "[encoded data removed]",
      "text/plain": [
       "<Figure size 432x288 with 1 Axes>"
      ]
     },
     "metadata": {
      "needs_background": "light"
     },
     "output_type": "display_data"
    }
   ],
   "source": [
    "import matplotlib.pyplot as plt\n",
    "\n",
    "from sklearn.datasets import *\n",
    "\n",
    "from sklearn.svm import SVC\n",
    "\n",
    "\n",
    "from sklearn.metrics import plot_roc_curve\n",
    "\n",
    "from sklearn.model_selection import train_test_split\n",
    "\n",
    "\n",
    "#X == dados - valores\n",
    "#y == classes\n",
    "X, y = load_wine(return_X_y=True)\n",
    "\n",
    "\n",
    "\n",
    "y = y == 1 #simplesmente transforma as classes em apenas 2 possibilidades\n",
    "\n",
    "print(y)\n",
    "X_train, X_test, y_train, y_test = train_test_split(X, y, test_size=0.25)\n",
    "\n",
    "svc = SVC()\n",
    "svc.fit(X_train, y_train)\n",
    "\n",
    "svc_disp = plot_roc_curve(svc, X_test, y_test)\n",
    "\n"
   ]
  },
  {
   "cell_type": "code",
   "execution_count": 225,
   "metadata": {},
   "outputs": [
    {
     "data": {
      "text/plain": [
       "<sklearn.metrics._plot.roc_curve.RocCurveDisplay at 0x7f043e5ac4e0>"
      ]
     },
     "execution_count": 225,
     "metadata": {},
     "output_type": "execute_result"
    },
    {
     "data": {
      "image/png": "[encoded data removed]",
      "text/plain": [
       "<Figure size 432x288 with 1 Axes>"
      ]
     },
     "metadata": {
      "needs_background": "light"
     },
     "output_type": "display_data"
    }
   ],
   "source": [
    "from sklearn.ensemble import RandomForestClassifier\n",
    "\n",
    "rfc = RandomForestClassifier(n_estimators=20)\n",
    "\n",
    "rfc.fit(X_train, y_train)\n",
    "\n",
    "\n",
    "ax = plt.gca()\n",
    "rfc_disp = plot_roc_curve(rfc, X_test, y_test, ax=ax)\n",
    "\n",
    "\n",
    "svc_disp.plot(ax=ax)  #ax=ax apenas para ajustar os eixos da figura. Se nada for indicado ele gera uma nova imagem e não coloca as curvas na mesma fgura\n",
    "\n",
    "\n",
    "\n"
   ]
  },
  {
   "cell_type": "code",
   "execution_count": null,
   "metadata": {},
   "outputs": [],
   "source": []
  },
  {
   "cell_type": "code",
   "execution_count": 227,
   "metadata": {},
   "outputs": [
    {
     "data": {
      "text/plain": [
       "array([1.8 , 0.8 , 0.4 , 0.35, 0.1 ])"
      ]
     },
     "execution_count": 227,
     "metadata": {},
     "output_type": "execute_result"
    }
   ],
   "source": [
    "import numpy as np\n",
    "from sklearn.metrics import roc_auc_score\n",
    "from sklearn import metrics\n",
    " \n",
    "classes_real = np.array([0, 0, 1, 1])\n",
    "classes_probPreditas = np.array([0.1, 0.4, 0.35, 0.8])   #note 3 acertos para um erro  == 75% de eficiência\n",
    "\n",
    "\n",
    "roc_auc_score(y_true, y_scores)\n",
    "\n",
    "   \n",
    "taxa_falsoPositivo, taxa_verdadeiroPositivo, limiares = metrics.roc_curve(classes_real, classes_probPreditas)\n",
    "metrics.auc(taxa_falsoPositivo, taxa_verdadeiroPositivo)\n",
    "\n",
    " limiares\n",
    "#limiares testados\n",
    "#limiares\n"
   ]
  },
  {
   "cell_type": "code",
   "execution_count": 219,
   "metadata": {},
   "outputs": [
    {
     "name": "stdout",
     "output_type": "stream",
     "text": [
      "\n",
      " Treinamento-----   Utilizar o pandas para carregar uma base de dados, \n",
      "\n",
      " Criar os seguintes classificadores:  RandomForest, SVM, Naive Bayes e Rede Neural \n",
      "\n",
      " Plotar as curvas ROC e avaliar qual o melhor AUC\n"
     ]
    }
   ],
   "source": [
    "\n",
    "\n",
    "print('\\n Treinamento-----   Utilizar o pandas para carregar uma base de dados, ')\n",
    "\n",
    "\n",
    "print('\\n Criar os seguintes classificadores:  RandomForest, SVM, Naive Bayes e Rede Neural ')\n",
    "\n",
    "\n",
    "print('\\n Plotar as curvas ROC e avaliar qual o melhor AUC')"
   ]
  }
 ],
 "metadata": {
  "kernelspec": {
   "display_name": "Python 3",
   "language": "python",
   "name": "python3"
  },
  "language_info": {
   "codemirror_mode": {
    "name": "ipython",
    "version": 3
   },
   "file_extension": ".py",
   "mimetype": "text/x-python",
   "name": "python",
   "nbconvert_exporter": "python",
   "pygments_lexer": "ipython3",
   "version": "3.7.3"
  }
 },
 "nbformat": 4,
 "nbformat_minor": 4
}
