{
 "cells": [
  {
   "cell_type": "code",
   "execution_count": 131,
   "metadata": {},
   "outputs": [
    {
     "data": {
      "text/plain": [
       "array([1])"
      ]
     },
     "execution_count": 131,
     "metadata": {},
     "output_type": "execute_result"
    }
   ],
   "source": [
    "from sklearn.neural_network import MLPClassifier\n",
    "Dados= [[0., 0.], [1., 1.]]\n",
    "saidas = [0, 1]\n",
    "mlpClassificado = MLPClassifier( hidden_layer_sizes=(5,2),max_iter=5000)\n",
    "\n",
    "mlpClassificado.fit(X, y)\n",
    "mlpClassificado.predict([[2., 2.]])\n",
    "#mlpClassificado.score(X, y)"
   ]
  },
  {
   "cell_type": "code",
   "execution_count": 133,
   "metadata": {},
   "outputs": [
    {
     "data": {
      "text/plain": [
       "array([0.36926446])"
      ]
     },
     "execution_count": 133,
     "metadata": {},
     "output_type": "execute_result"
    }
   ],
   "source": [
    "from sklearn.neural_network import MLPRegressor\n",
    "Entradas = [[10.1, 10.2], [-1.0, -21.0]]\n",
    "SAidas= [0, 1]\n",
    "mlpRegressor = MLPRegressor(hidden_layer_sizes=(5,2))\n",
    "\n",
    "mlpRegressor.fit(X, y)\n",
    "mlpRegressor.predict([[2., 2.]])\n"
   ]
  }
 ],
 "metadata": {
  "kernelspec": {
   "display_name": "Python 3",
   "language": "python",
   "name": "python3"
  },
  "language_info": {
   "codemirror_mode": {
    "name": "ipython",
    "version": 3
   },
   "file_extension": ".py",
   "mimetype": "text/x-python",
   "name": "python",
   "nbconvert_exporter": "python",
   "pygments_lexer": "ipython3",
   "version": "3.7.3"
  }
 },
 "nbformat": 4,
 "nbformat_minor": 4
}
