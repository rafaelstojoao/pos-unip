{
 "cells": [
  {
   "cell_type": "code",
   "execution_count": 138,
   "metadata": {},
   "outputs": [
    {
     "data": {
      "text/plain": [
       "1.0"
      ]
     },
     "execution_count": 138,
     "metadata": {},
     "output_type": "execute_result"
    }
   ],
   "source": [
    "from sklearn.neural_network import MLPClassifier\n",
    "\n",
    "\n",
    "Dados= [[0., 0.], [1., 1.]]\n",
    "saidas = [0, 1]\n",
    "\n",
    "\n",
    "mlpClassificador = MLPClassifier( hidden_layer_sizes=(5,2),max_iter=5000)\n",
    "\n",
    "mlpClassificador.fit(Dados, saidas)\n",
    "\n",
    "\n",
    "\n",
    "\n",
    "mlpClassificador.predict([[2., 2.1]])\n",
    "\n",
    "mlpClassificador.score(Dados, saidas)\n",
    "\n",
    "\n",
    "\n"
   ]
  },
  {
   "cell_type": "code",
   "execution_count": 140,
   "metadata": {},
   "outputs": [
    {
     "data": {
      "text/plain": [
       "array([35.41463921])"
      ]
     },
     "execution_count": 140,
     "metadata": {},
     "output_type": "execute_result"
    }
   ],
   "source": [
    "from sklearn.neural_network import MLPRegressor\n",
    "\n",
    "\n",
    "Entradas = [[10.1, 10.2], [-1.0, -21.0]]\n",
    "SAidas= [0, 1]\n",
    "\n",
    "\n",
    "mlpRegressor = MLPRegressor(hidden_layer_sizes=(5,2))\n",
    "\n",
    "mlpRegressor.fit(Entradas, SAidas)\n",
    "\n",
    "\n",
    "mlpRegressor.predict([[212.0, 12.8]])\n"
   ]
  }
 ],
 "metadata": {
  "kernelspec": {
   "display_name": "Python 3",
   "language": "python",
   "name": "python3"
  },
  "language_info": {
   "codemirror_mode": {
    "name": "ipython",
    "version": 3
   },
   "file_extension": ".py",
   "mimetype": "text/x-python",
   "name": "python",
   "nbconvert_exporter": "python",
   "pygments_lexer": "ipython3",
   "version": "3.7.3"
  }
 },
 "nbformat": 4,
 "nbformat_minor": 4
}
