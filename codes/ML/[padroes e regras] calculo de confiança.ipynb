{
 "cells": [
  {
   "cell_type": "code",
   "execution_count": 76,
   "metadata": {},
   "outputs": [],
   "source": [
    "dataset = [\n",
    "            ['a','b','c','d'],\n",
    "            ['e','f','h','f'],\n",
    "            ['a','c','f'],\n",
    "            ['a','c','d']]\n",
    " \n",
    "    \n",
    "\n",
    "        \n",
    "regraExemplo = [ ['pendrive','cabousb'] , ['hdexterno'] ]   #clientes gamers\n",
    "\n",
    "vendaocorrida = ['mouse','mousepad','cabo coaxial','pendrive','cabousb','hdexterno']  #opa, tem chance dele ser gamer\n",
    "\n",
    "\n",
    "\n",
    "\n",
    "#regraExemplo[0] # é o X\n",
    "#regraExemplo[1] # é o Y\n",
    "contador = 0\n",
    "\n",
    "#    para X\n",
    "#for registro in dataset: # o algoritmo DEVE percorrer a base de daos N vezes: N = numero de candidatos\n",
    "#         if set(regraExemplo[0]).intersection(set(registro)):\n",
    "#            contador += 1\n",
    "# \n",
    "# suporteX = contador / len(dataset)\n",
    " \n",
    "\n",
    "\n",
    "#confianca  =  suporte(R) / suporte(X)    :::  suporte('a','c','d')/ suporte('a','c')\n",
    "#lift       =  clonfianca(R) / suporte(Y)\n",
    "#convicao   =  1 - suporte(Y) / 1 - confianca(R)\n",
    "\n",
    "\n",
    "##como combinar os itens do padrão a fim de construir as regras???\n",
    "#calcular os valores das metricas\n",
    "\n",
    " \n",
    "\n",
    "    \n",
    "    \n",
    "    \n",
    "    [castanha,vinho]  tem suporte igual a 0.59\n",
    "    [sopa,frutas frescas, queijo]  tem suporte igual a 0.42%"
   ]
  },
  {
   "cell_type": "code",
   "execution_count": 77,
   "metadata": {},
   "outputs": [
    {
     "name": "stdout",
     "output_type": "stream",
     "text": [
      "1\n",
      "2\n",
      "3\n",
      "Suporte de ['a', 'c']: 0.75\n",
      "1\n",
      "2\n",
      "Suporte de ['d']: 0.5\n",
      "{'d', 'c', 'a'}\n",
      "{'d', 'b', 'c', 'a'}\n",
      "1\n",
      "{'d', 'c', 'a'}\n",
      "{'f', 'c', 'a'}\n",
      "2\n",
      "{'d', 'c', 'a'}\n",
      "{'d', 'c', 'a'}\n",
      "3\n",
      "Suporte do ['a', 'c', 'd']: 0.75\n"
     ]
    }
   ],
   "source": [
    "import numpy as np \n",
    "contador = 0 \n",
    "for registro in dataset: \n",
    "    if set(regraExemplo[0]).intersection(set(registro)): \n",
    "        # print(registro) \n",
    "        contador += 1 \n",
    "        print(contador) \n",
    "\n",
    "print('Suporte de '+str(regraExemplo[0])+': '+str(contador/len(dataset))) \n",
    "suporteX = contador/len(dataset) \n",
    "\n",
    "contador = 0 \n",
    "for registro in dataset: \n",
    "    if set(regraExemplo[1]).intersection(set(registro)): \n",
    "        # print(registro) \n",
    "        contador += 1 \n",
    "        print(contador) \n",
    "print('Suporte de '+str(regraExemplo[1])+': '+str(contador/len(dataset))) \n",
    "suporteY = contador/len(dataset)\n",
    "\n",
    "\n",
    "\n",
    "\n",
    "contadorpadrao = 0 \n",
    "for registro in dataset: \n",
    "    if set(padrao[0]).intersection(set(registro)): \n",
    "        print(set(padrao[0]))\n",
    "        print(set(registro))\n",
    "        contadorpadrao += 1 \n",
    "        print(contadorpadrao) \n",
    "\n",
    "print('Suporte do '+str(padrao[0])+': '+str(contadorpadrao/len(dataset))) \n",
    "suportePadrao = 0.5#contadorpadrao/len(dataset) "
   ]
  },
  {
   "cell_type": "code",
   "execution_count": 78,
   "metadata": {},
   "outputs": [
    {
     "name": "stdout",
     "output_type": "stream",
     "text": [
      "0.6666666666666666\n",
      "1.3333333333333333\n",
      "1.4999999999999998\n"
     ]
    }
   ],
   "source": [
    "confianca = suportePadrao / suporteX \n",
    "print(confianca)\n",
    "\n",
    "lift = confianca / suporteY \n",
    "print(lift) \n",
    "\n",
    "conviccao = (1 - suporteY) / (1 - confianca) \n",
    "print(conviccao) "
   ]
  },
  {
   "cell_type": "code",
   "execution_count": 29,
   "metadata": {},
   "outputs": [
    {
     "data": {
      "text/plain": [
       "3"
      ]
     },
     "execution_count": 29,
     "metadata": {},
     "output_type": "execute_result"
    }
   ],
   "source": [
    "#como combinar os itens do padrão a fim de construir as regras???\n",
    "#ac->d\n",
    "#ad->c\n",
    "#cd->a\n",
    "#a->cd\n",
    "#c->ad\n",
    "#d->ac\n",
    "\n",
    "\n",
    "\n",
    "#após isso, como calcular a confiança, lift e convicção?.....\n",
    "len(padrao)"
   ]
  }
 ],
 "metadata": {
  "kernelspec": {
   "display_name": "Python 3",
   "language": "python",
   "name": "python3"
  },
  "language_info": {
   "codemirror_mode": {
    "name": "ipython",
    "version": 3
   },
   "file_extension": ".py",
   "mimetype": "text/x-python",
   "name": "python",
   "nbconvert_exporter": "python",
   "pygments_lexer": "ipython3",
   "version": "3.7.3"
  }
 },
 "nbformat": 4,
 "nbformat_minor": 4
}
