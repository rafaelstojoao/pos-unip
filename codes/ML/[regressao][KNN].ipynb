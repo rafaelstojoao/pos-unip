{
 "cells": [
  {
   "cell_type": "code",
   "execution_count": 1,
   "metadata": {},
   "outputs": [
    {
     "name": "stdout",
     "output_type": "stream",
     "text": [
      "[5.2705]\n"
     ]
    }
   ],
   "source": [
    "from sklearn.neighbors import KNeighborsRegressor\n",
    "\n",
    "cotacAoCompraVenda = [ \n",
    "    [5.5265,5.5278], \n",
    "    [5.4089,5.4094], \n",
    "    [5.3072,5.3092], \n",
    "    [5.2329,5.2359]\n",
    "    \n",
    "    \n",
    "]\n",
    "\n",
    "cotacaoMaximaDia = [5.5265, 5.4104, 5.2667, 5.2743]\n",
    "\n",
    "\n",
    "neigh = KNeighborsRegressor(n_neighbors=2)\n",
    "\n",
    "neigh.fit(cotacAoCompraVenda, cotacaoMaximaDia)\n",
    "\n",
    "print(neigh.predict([[5.2554,5.2565]]))\n",
    "\n",
    "#De acordo com a UOL, no dia 16/04/2020 \n",
    "#as cotações de compra/venda 5,2554 e 5,2565 referem-se a um dia com máxima de  5,2659\n",
    "# O regressor não acertou tão precisamente, mas indicou uma máxima maior que o valor de venda, o que se reflete \n",
    "#na vida real"
   ]
  },
  {
   "cell_type": "code",
   "execution_count": null,
   "metadata": {},
   "outputs": [],
   "source": [
    "\n"
   ]
  }
 ],
 "metadata": {
  "kernelspec": {
   "display_name": "Python 3",
   "language": "python",
   "name": "python3"
  },
  "language_info": {
   "codemirror_mode": {
    "name": "ipython",
    "version": 3
   },
   "file_extension": ".py",
   "mimetype": "text/x-python",
   "name": "python",
   "nbconvert_exporter": "python",
   "pygments_lexer": "ipython3",
   "version": "3.7.3"
  }
 },
 "nbformat": 4,
 "nbformat_minor": 4
}
