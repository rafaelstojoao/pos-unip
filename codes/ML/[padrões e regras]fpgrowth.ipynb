{
 "cells": [
  {
   "cell_type": "code",
   "execution_count": 5,
   "metadata": {},
   "outputs": [],
   "source": [
    "dataset = [['Milk', 'Onion', 'Nutmeg', 'Kidney Beans', 'Eggs', 'Yogurt'],\n",
    "           ['Dill', 'Onion', 'Nutmeg', 'Kidney Beans', 'Eggs', 'Yogurt'],\n",
    "           ['Milk', 'Apple', 'Kidney Beans', 'Eggs'],\n",
    "           ['Milk', 'Unicorn', 'Corn', 'Kidney Beans', 'Yogurt'],\n",
    "           ['Corn', 'Onion', 'Onion', 'Kidney Beans', 'Ice cream', 'Eggs']]\n",
    "\n",
    "#http://rasbt.github.io/mlxtend/\n",
    "\n"
   ]
  },
  {
   "cell_type": "code",
   "execution_count": 3,
   "metadata": {},
   "outputs": [
    {
     "data": {
      "text/html": [
       "<div>\n",
       "<style scoped>\n",
       "    .dataframe tbody tr th:only-of-type {\n",
       "        vertical-align: middle;\n",
       "    }\n",
       "\n",
       "    .dataframe tbody tr th {\n",
       "        vertical-align: top;\n",
       "    }\n",
       "\n",
       "    .dataframe thead th {\n",
       "        text-align: right;\n",
       "    }\n",
       "</style>\n",
       "<table border=\"1\" class=\"dataframe\">\n",
       "  <thead>\n",
       "    <tr style=\"text-align: right;\">\n",
       "      <th></th>\n",
       "      <th>support</th>\n",
       "      <th>itemsets</th>\n",
       "    </tr>\n",
       "  </thead>\n",
       "  <tbody>\n",
       "    <tr>\n",
       "      <th>0</th>\n",
       "      <td>1.0</td>\n",
       "      <td>(Kidney Beans)</td>\n",
       "    </tr>\n",
       "    <tr>\n",
       "      <th>1</th>\n",
       "      <td>0.8</td>\n",
       "      <td>(Eggs)</td>\n",
       "    </tr>\n",
       "    <tr>\n",
       "      <th>2</th>\n",
       "      <td>0.6</td>\n",
       "      <td>(Yogurt)</td>\n",
       "    </tr>\n",
       "    <tr>\n",
       "      <th>3</th>\n",
       "      <td>0.6</td>\n",
       "      <td>(Onion)</td>\n",
       "    </tr>\n",
       "    <tr>\n",
       "      <th>4</th>\n",
       "      <td>0.6</td>\n",
       "      <td>(Milk)</td>\n",
       "    </tr>\n",
       "    <tr>\n",
       "      <th>5</th>\n",
       "      <td>0.8</td>\n",
       "      <td>(Eggs, Kidney Beans)</td>\n",
       "    </tr>\n",
       "    <tr>\n",
       "      <th>6</th>\n",
       "      <td>0.6</td>\n",
       "      <td>(Yogurt, Kidney Beans)</td>\n",
       "    </tr>\n",
       "    <tr>\n",
       "      <th>7</th>\n",
       "      <td>0.6</td>\n",
       "      <td>(Eggs, Onion)</td>\n",
       "    </tr>\n",
       "    <tr>\n",
       "      <th>8</th>\n",
       "      <td>0.6</td>\n",
       "      <td>(Kidney Beans, Onion)</td>\n",
       "    </tr>\n",
       "    <tr>\n",
       "      <th>9</th>\n",
       "      <td>0.6</td>\n",
       "      <td>(Eggs, Kidney Beans, Onion)</td>\n",
       "    </tr>\n",
       "    <tr>\n",
       "      <th>10</th>\n",
       "      <td>0.6</td>\n",
       "      <td>(Kidney Beans, Milk)</td>\n",
       "    </tr>\n",
       "  </tbody>\n",
       "</table>\n",
       "</div>"
      ],
      "text/plain": [
       "    support                     itemsets\n",
       "0       1.0               (Kidney Beans)\n",
       "1       0.8                       (Eggs)\n",
       "2       0.6                     (Yogurt)\n",
       "3       0.6                      (Onion)\n",
       "4       0.6                       (Milk)\n",
       "5       0.8         (Eggs, Kidney Beans)\n",
       "6       0.6       (Yogurt, Kidney Beans)\n",
       "7       0.6                (Eggs, Onion)\n",
       "8       0.6        (Kidney Beans, Onion)\n",
       "9       0.6  (Eggs, Kidney Beans, Onion)\n",
       "10      0.6         (Kidney Beans, Milk)"
      ]
     },
     "execution_count": 3,
     "metadata": {},
     "output_type": "execute_result"
    }
   ],
   "source": [
    "import pandas as pd\n",
    "from mlxtend.frequent_patterns import fpgrowth\n",
    "\n",
    "\n",
    "datasetVertical = [[False, False, False,  True, False,  True,  True,  True,  True,\n",
    "        False,  True],\n",
    "       [False, False,  True,  True, False,  True, False,  True,  True,\n",
    "        False,  True],\n",
    "       [ True, False, False,  True, False,  True,  True, False, False,\n",
    "        False, False],\n",
    "       [False,  True, False, False, False,  True,  True, False, False,\n",
    "         True,  True],\n",
    "       [False,  True, False,  True,  True,  True, False, False,  True,\n",
    "        False, False]]\n",
    "colunas = ['Apple',\n",
    " 'Corn',\n",
    " 'Dill',\n",
    " 'Eggs',\n",
    " 'Ice cream',\n",
    " 'Kidney Beans',\n",
    " 'Milk',\n",
    " 'Nutmeg',\n",
    " 'Onion',\n",
    " 'Unicorn',\n",
    " 'Yogurt']\n",
    "\n",
    "\n",
    "\n",
    "\n",
    "df = pd.DataFrame(datasetVertical, columns=colunas)\n",
    "\n",
    "# fpgrowth(df, min_support=0.6)\n",
    "\n",
    "\n",
    "\n",
    "\n",
    "fpgrowth(df, min_support=0.6, use_colnames=True)\n"
   ]
  },
  {
   "cell_type": "markdown",
   "metadata": {},
   "source": [
    "Note que o fpgrowth da biblioteca mlxtend  não contempla a geração de regras de associação...\n",
    "\n",
    "Mas como implementar uma construção de regras de associação?"
   ]
  },
  {
   "cell_type": "code",
   "execution_count": 131,
   "metadata": {},
   "outputs": [],
   "source": [
    "#com vocês...."
   ]
  },
  {
   "cell_type": "markdown",
   "metadata": {},
   "source": [
    "# Outra biblioteca disponível na internet. Essa com construção de regras de associação\n",
    " \n",
    " \n",
    " PYFPGROWTH"
   ]
  },
  {
   "cell_type": "code",
   "execution_count": 6,
   "metadata": {},
   "outputs": [
    {
     "name": "stdout",
     "output_type": "stream",
     "text": [
      "\n",
      "\n",
      "\n",
      "\n",
      "regras de associação criadas\n",
      "{('Kidney Beans',): (('Eggs', 'Onion'), 0.8), ('Onion',): (('Eggs', 'Kidney Beans'), 1.0), ('Eggs', 'Kidney Beans'): (('Onion',), 1.0), ('Eggs', 'Onion'): (('Kidney Beans',), 1.0), ('Kidney Beans', 'Onion'): (('Eggs',), 1.0)}\n"
     ]
    }
   ],
   "source": [
    "###PYFPGROWTH###\n",
    "\n",
    "#https://pypi.org/project/pyfpgrowth/\n",
    "\n",
    "import numpy as np\n",
    "    import pyfpgrowth\n",
    "\n",
    "\n",
    "\n",
    "patterns = pyfpgrowth.find_frequent_patterns(dataset, 4) #4 is the minimum threshold set for support count.\n",
    "\n",
    "\n",
    "# for chave,valor in patterns.items():\n",
    "#     print(str(chave)+str(valor))\n",
    "\n",
    "    \n",
    "rules = pyfpgrowth. generate_association_rules(patterns,0.8) #0.8 is the minimum threshold set for confidence.\n",
    "\n",
    "print('\\n\\n\\n\\nregras de associação criadas')\n",
    "\n",
    "print(rules)"
   ]
  }
 ],
 "metadata": {
  "kernelspec": {
   "display_name": "Python 3",
   "language": "python",
   "name": "python3"
  },
  "language_info": {
   "codemirror_mode": {
    "name": "ipython",
    "version": 3
   },
   "file_extension": ".py",
   "mimetype": "text/x-python",
   "name": "python",
   "nbconvert_exporter": "python",
   "pygments_lexer": "ipython3",
   "version": "3.7.3"
  }
 },
 "nbformat": 4,
 "nbformat_minor": 4
}
