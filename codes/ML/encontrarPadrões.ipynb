{
 "cells": [
  {
   "cell_type": "code",
   "execution_count": 46,
   "metadata": {},
   "outputs": [
    {
     "data": {
      "text/plain": [
       "[('index.html', 0.6666666666666666),\n",
       " ('contato.html', 0.5),\n",
       " ('produto3.html', 0.5),\n",
       " ('sobre-nos.html', 0.3333333333333333),\n",
       " ('produto1.html', 0.3333333333333333),\n",
       " ('produto8.html', 0.3333333333333333),\n",
       " ('produto12.html', 0.3333333333333333),\n",
       " ('produto21.html', 0.16666666666666666),\n",
       " ('produto10.html', 0.16666666666666666)]"
      ]
     },
     "execution_count": 46,
     "metadata": {},
     "output_type": "execute_result"
    }
   ],
   "source": [
    "def calcularSuporte(dataset,itemBuscado):\n",
    "    suporte  = 0.0\n",
    "    contador = 0\n",
    "    \n",
    "    for registro in dataset:\n",
    "        for itemDataset in registro:\n",
    "            if itemDataset == itemBuscado:\n",
    "                contador +=1\n",
    "    suporte = contador/len(dataset)\n",
    "    return suporte\n",
    "\n",
    "\n",
    "\n",
    "#supondo um dataset de páginas acessadas por visitantes de um site \n",
    "datasetSite = [\n",
    "            ['index.html','sobre-nos.html','contato.html','produto1.html','produto3.html','produto8.html'],       \n",
    "            ['produto1.html','produto3.html','produto12.html','produto21.html'],\n",
    "            ['index.html'],\n",
    "            ['produto3.html','contato.html','produto8.html','sobre-nos.html'],\n",
    "            ['index.html','produto10.html','produto12.html','contato.html'],\n",
    "            ['index.html']\n",
    "              ]\n",
    "\n",
    "#cada linha da base de dados significa um(a) visitante (ip) e as páginas que ele(a) visitou\n",
    "\n",
    "\n",
    "\n",
    "conjuntoPAdroes = {} #dicionário vazio\n",
    "\n",
    "for linhaDataset in datasetSite:\n",
    "    for item in linhaDataset:\n",
    "        #print(str(item) +' suporte: '+str(calcularSuporte(datasetSite,item)))\n",
    "        conjuntoPAdroes.update({item:calcularSuporte(datasetSite,item)})\n",
    "        \n",
    "        \n",
    "\n",
    "padroesOrdenados = sorted(conjuntoPAdroes.items(), key=lambda indice: indice[1],reverse=True)\n",
    "padroesOrdenados\n",
    "\n"
   ]
  },
  {
   "cell_type": "code",
   "execution_count": 45,
   "metadata": {},
   "outputs": [
    {
     "name": "stdout",
     "output_type": "stream",
     "text": [
      "('index.html', 0.6666666666666666) é padrao\n",
      "('contato.html', 0.5) é padrao\n",
      "('produto3.html', 0.5) é padrao\n",
      "('sobre-nos.html', 0.3333333333333333) Não é padrao\n",
      "('produto1.html', 0.3333333333333333) Não é padrao\n",
      "('produto8.html', 0.3333333333333333) Não é padrao\n",
      "('produto12.html', 0.3333333333333333) Não é padrao\n",
      "('produto21.html', 0.16666666666666666) Não é padrao\n",
      "('produto10.html', 0.16666666666666666) Não é padrao\n"
     ]
    }
   ],
   "source": [
    "minimum_support = 0.5\n",
    "\n",
    "for sequencia in padroesOrdenados:\n",
    "    if(sequencia[1]>= minimum_support):\n",
    "        print(str(sequencia)+' é padrao')\n",
    "    else:\n",
    "        print(str(sequencia)+' Não é padrao')"
   ]
  }
 ],
 "metadata": {
  "kernelspec": {
   "display_name": "Python 3",
   "language": "python",
   "name": "python3"
  },
  "language_info": {
   "codemirror_mode": {
    "name": "ipython",
    "version": 3
   },
   "file_extension": ".py",
   "mimetype": "text/x-python",
   "name": "python",
   "nbconvert_exporter": "python",
   "pygments_lexer": "ipython3",
   "version": "3.7.3"
  }
 },
 "nbformat": 4,
 "nbformat_minor": 4
}
