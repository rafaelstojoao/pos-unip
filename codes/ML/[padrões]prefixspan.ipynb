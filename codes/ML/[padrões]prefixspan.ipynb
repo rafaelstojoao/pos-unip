{
 "cells": [
  {
   "cell_type": "code",
   "execution_count": 2,
   "metadata": {},
   "outputs": [],
   "source": [
    "from prefixspan import PrefixSpan\n",
    "\n",
    "dataset = [\n",
    "    [0, 1, 2, 3, 4],\n",
    "    [1, 1, 1, 3, 4],\n",
    "    [2, 1, 2, 2, 0],\n",
    "    [1, 1, 1, 2, 2],\n",
    "]\n",
    "\n",
    "\n",
    "ds = [['pão','muçarela','presunto'],\n",
    "               ['pão','muçarela','presunto','mortadela', 'leite'],\n",
    "               ['pão','muçarela','mortadela'],\n",
    "               ['pão','presunto','mortadela','leite'],\n",
    "               ['pão','muçarela','presunto','mortadela'],\n",
    "               ['mortadela','pão'],\n",
    "               ['ovo','leite']]\n",
    "\n",
    "modeloPrefixSpan = PrefixSpan(ds)"
   ]
  },
  {
   "cell_type": "code",
   "execution_count": 4,
   "metadata": {},
   "outputs": [
    {
     "name": "stdout",
     "output_type": "stream",
     "text": [
      "(6, ['pão'])\n",
      "(4, ['pão', 'muçarela'])\n",
      "(3, ['pão', 'muçarela', 'presunto'])\n",
      "(2, ['pão', 'muçarela', 'presunto', 'mortadela'])\n",
      "(3, ['pão', 'muçarela', 'mortadela'])\n",
      "(4, ['pão', 'presunto'])\n",
      "(3, ['pão', 'presunto', 'mortadela'])\n",
      "(2, ['pão', 'presunto', 'mortadela', 'leite'])\n",
      "(2, ['pão', 'presunto', 'leite'])\n",
      "(4, ['pão', 'mortadela'])\n",
      "(2, ['pão', 'mortadela', 'leite'])\n",
      "(2, ['pão', 'leite'])\n",
      "(4, ['muçarela'])\n",
      "(3, ['muçarela', 'presunto'])\n",
      "(2, ['muçarela', 'presunto', 'mortadela'])\n",
      "(3, ['muçarela', 'mortadela'])\n",
      "(4, ['presunto'])\n",
      "(3, ['presunto', 'mortadela'])\n",
      "(2, ['presunto', 'mortadela', 'leite'])\n",
      "(2, ['presunto', 'leite'])\n",
      "(5, ['mortadela'])\n",
      "(2, ['mortadela', 'leite'])\n",
      "(3, ['leite'])\n"
     ]
    }
   ],
   "source": [
    "#para  \n",
    "for frequente in modeloPrefixSpan.frequent(2):\n",
    "    print(frequente)\n"
   ]
  }
 ],
 "metadata": {
  "kernelspec": {
   "display_name": "Python 3",
   "language": "python",
   "name": "python3"
  },
  "language_info": {
   "codemirror_mode": {
    "name": "ipython",
    "version": 3
   },
   "file_extension": ".py",
   "mimetype": "text/x-python",
   "name": "python",
   "nbconvert_exporter": "python",
   "pygments_lexer": "ipython3",
   "version": "3.7.3"
  }
 },
 "nbformat": 4,
 "nbformat_minor": 4
}
