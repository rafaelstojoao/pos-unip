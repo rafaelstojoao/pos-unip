{
 "cells": [
  {
   "cell_type": "code",
   "execution_count": 6,
   "metadata": {},
   "outputs": [
    {
     "name": "stdout",
     "output_type": "stream",
     "text": [
      "alta\n",
      "\n",
      " Probabilidades\n",
      "[[0.33333333 0.66666667]]\n"
     ]
    }
   ],
   "source": [
    "\n",
    "from sklearn.neighbors import KNeighborsClassifier\n",
    "\n",
    "\n",
    "alturasTreinamento = [ # a base de dados 2Dimensional é composta pela altura de indivíduos e a descrição se usam ou não sapatos na hora da medida\n",
    "    [1.50,0], \n",
    "    [1.51,1], \n",
    "    [1.82,0], \n",
    "    [1.93,0]\n",
    "]\n",
    "\n",
    "\n",
    "classificacao = [0, 0, 1, 1]  #0 é baixa e 1 é a classe para pessoas altas\n",
    "classificacaoTAG =['baixa','alta']\n",
    "\n",
    "\n",
    "\n",
    "\n",
    "\n",
    "classificadorKNN = KNeighborsClassifier(n_neighbors=3)  # construção do classificador\n",
    "classificadorKNN.fit(alturasTreinamento, classificacao) # Construção do modelo de treinamento\n",
    "\n",
    "\n",
    "##Resultados##\n",
    "print(\"\\n A pessoa submetida ao teste é classificada como: \"+str(classificacaoTAG[int(classificadorKNN.predict([[1.91,1]]))]))\n",
    "print(\"\\n Probabilidades\")\n",
    "print(classificadorKNN.predict_proba([[1.91,1]]))\n",
    "\n",
    "\n",
    "\n",
    "\n"
   ]
  },
  {
   "cell_type": "code",
   "execution_count": null,
   "metadata": {},
   "outputs": [],
   "source": []
  },
  {
   "cell_type": "code",
   "execution_count": null,
   "metadata": {},
   "outputs": [],
   "source": []
  }
 ],
 "metadata": {
  "kernelspec": {
   "display_name": "Python 3",
   "language": "python",
   "name": "python3"
  },
  "language_info": {
   "codemirror_mode": {
    "name": "ipython",
    "version": 3
   },
   "file_extension": ".py",
   "mimetype": "text/x-python",
   "name": "python",
   "nbconvert_exporter": "python",
   "pygments_lexer": "ipython3",
   "version": "3.7.3"
  }
 },
 "nbformat": 4,
 "nbformat_minor": 4
}
