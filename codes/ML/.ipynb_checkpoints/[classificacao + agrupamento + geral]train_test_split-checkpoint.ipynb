{
 "cells": [
  {
   "cell_type": "code",
   "execution_count": 74,
   "metadata": {},
   "outputs": [
    {
     "data": {
      "text/plain": [
       "[1, 1]"
      ]
     },
     "execution_count": 74,
     "metadata": {},
     "output_type": "execute_result"
    }
   ],
   "source": [
    "from sklearn.model_selection import train_test_split\n",
    "\n",
    "dados = [[1,2],\n",
    "         [2,1],\n",
    "         [2,2],\n",
    "         [1,1],\n",
    "         [0,1],\n",
    "         [1,22],\n",
    "         [11,2],\n",
    "         [1,20]]\n",
    "\n",
    "classes = [1,1,0,1,1,1,1,0]\n",
    "\n",
    "Dados_treino, Dados_teste, Classes_treino, Classes_teste = train_test_split(dados, classes)\n",
    "\n",
    "#Dados_treino\n",
    "#Dados_teste\n",
    "Classes_treino\n",
    "Classes_teste\n"
   ]
  },
  {
   "cell_type": "code",
   "execution_count": 72,
   "metadata": {},
   "outputs": [
    {
     "data": {
      "text/plain": [
       "[1, 0, 1, 0]"
      ]
     },
     "execution_count": 72,
     "metadata": {},
     "output_type": "execute_result"
    }
   ],
   "source": [
    "from sklearn.model_selection import train_test_split\n",
    "\n",
    "dados = [[1,2],\n",
    "         [2,1],\n",
    "         [2,2],\n",
    "         [1,1],\n",
    "         [0,1],\n",
    "         [1,22],\n",
    "         [11,2],\n",
    "         [1,20]]\n",
    "classes = [1,1,0,1,0,1,1,0]\n",
    "#inclusão do tamanho do conjunto\n",
    "\n",
    "Dados_treino, Dados_teste, Classes_treino, Classes_teste = train_test_split(dados, classes, test_size=0.5)\n",
    "Dados_treino\n",
    "Dados_teste\n",
    "Classes_treino\n",
    "Classes_teste\n"
   ]
  },
  {
   "cell_type": "code",
   "execution_count": 76,
   "metadata": {},
   "outputs": [
    {
     "data": {
      "text/plain": [
       "[[1, 2], [2, 1], [2, 2], [1, 1], [0, 1], [1, 22]]"
      ]
     },
     "execution_count": 76,
     "metadata": {},
     "output_type": "execute_result"
    }
   ],
   "source": [
    "from sklearn.model_selection import train_test_split\n",
    "\n",
    "dados = [[1,2],\n",
    "         [2,1],\n",
    "         [2,2],\n",
    "         [1,1],\n",
    "         [0,1],\n",
    "         [1,22],\n",
    "         [11,2],\n",
    "         [1,20]]\n",
    "classes = [1,1,0,1,0,1,1,0]\n",
    "\n",
    "# Desabilitando embaralhamento \n",
    "Dados_treino, Dados_teste, Classes_treino, Classes_teste = train_test_split(dados, classes, test_size=0.25,shuffle=False)\n",
    "Dados_treino\n",
    "#Dados_teste\n",
    "#Classes_treino\n",
    "#Classes_teste\n"
   ]
  },
  {
   "cell_type": "code",
   "execution_count": 115,
   "metadata": {},
   "outputs": [
    {
     "data": {
      "text/plain": [
       "[0, 0, 1, 1, 1, 1]"
      ]
     },
     "execution_count": 115,
     "metadata": {},
     "output_type": "execute_result"
    }
   ],
   "source": [
    "from sklearn.model_selection import train_test_split\n",
    "\n",
    "dados = [[1,2],\n",
    "         [2,1],\n",
    "         [2,2],\n",
    "         [1,1],\n",
    "         [0,1],\n",
    "         [1,22],\n",
    "         [11,2],\n",
    "         [1,20]]\n",
    "\n",
    "classes = [1,1,0,1,0,1,1,0] # 5 valores 1(YES) e 3 valores 0 (NO)\n",
    "\n",
    "#considerando a representatividade\n",
    "Dados_treino, Dados_teste, Classes_treino, Classes_teste = train_test_split(dados, classes, test_size=0.25,shuffle=True,stratify=classes)\n",
    "Dados_treino\n",
    "Dados_teste\n",
    "Classes_treino\n",
    "#Classes_teste\n"
   ]
  },
  {
   "cell_type": "code",
   "execution_count": 130,
   "metadata": {},
   "outputs": [
    {
     "data": {
      "text/plain": [
       "75"
      ]
     },
     "execution_count": 130,
     "metadata": {},
     "output_type": "execute_result"
    }
   ],
   "source": [
    "from urllib.request import urlretrieve\n",
    "\n",
    "import pandas as pd\n",
    "from sklearn.model_selection import train_test_split\n",
    "\n",
    "\n",
    "\n",
    "\n",
    "iris = 'http://archive.ics.uci.edu/ml/machine-learning-databases/iris/iris.data'\n",
    "dataframe = pd.read_csv(iris, sep=',') \n",
    "\n",
    "\n",
    "dataframe.columns = [\"sepal_length\", \"sepal_width\", \"petal_length\", \"petal_width\", \"class\"]\n",
    " \n",
    "classes = dataframe['class']\n",
    "\n",
    "\n",
    "dados_Treino, dados_Teste, classes_Treino, classes_Teste = train_test_split(dataframe, classes, train_size=0.5)\n",
    "# dados_Teste\n",
    "\n",
    "classes_Teste\n",
    "len(classes_Teste)"
   ]
  }
 ],
 "metadata": {
  "kernelspec": {
   "display_name": "Python 3",
   "language": "python",
   "name": "python3"
  },
  "language_info": {
   "codemirror_mode": {
    "name": "ipython",
    "version": 3
   },
   "file_extension": ".py",
   "mimetype": "text/x-python",
   "name": "python",
   "nbconvert_exporter": "python",
   "pygments_lexer": "ipython3",
   "version": "3.7.3"
  }
 },
 "nbformat": 4,
 "nbformat_minor": 4
}
