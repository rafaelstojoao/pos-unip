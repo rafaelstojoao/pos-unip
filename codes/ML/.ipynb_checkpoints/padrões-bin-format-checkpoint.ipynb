{
 "cells": [
  {
   "cell_type": "code",
   "execution_count": 127,
   "metadata": {},
   "outputs": [
    {
     "data": {
      "text/plain": [
       "[('index.html', 0.6666666666666666),\n",
       " ('contato.html', 0.5),\n",
       " ('produto3.html', 0.5),\n",
       " ('sobre-nos.html', 0.3333333333333333),\n",
       " ('produto1.html', 0.3333333333333333),\n",
       " ('produto8.html', 0.3333333333333333),\n",
       " ('produto12.html', 0.3333333333333333),\n",
       " ('produto21.html', 0.16666666666666666),\n",
       " ('produto10.html', 0.16666666666666666)]"
      ]
     },
     "execution_count": 127,
     "metadata": {},
     "output_type": "execute_result"
    }
   ],
   "source": [
    "\n",
    "import numpy as np\n",
    "\n",
    "#supondo um dataset de páginas acessadas por visitantes de um site \n",
    "datasetSite = [\n",
    "            ['index.html','sobre-nos.html','contato.html','produto1.html','produto3.html','produto8.html'],       \n",
    "            ['produto1.html','produto3.html','produto12.html','produto21.html'],\n",
    "            ['index.html'],\n",
    "            ['produto3.html','contato.html','produto8.html','sobre-nos.html'],\n",
    "            ['index.html','produto10.html','produto12.html','contato.html'],\n",
    "            ['index.html']\n",
    "              ]\n",
    "\n",
    "\n",
    "#cada linha da base de dados significa um(a) visitante (ip) e as páginas que ele(a) visitou\n",
    "\n",
    "\n",
    "\n",
    "conjuntoPAdroes = {} #dicionário vazio\n",
    "\n",
    "for linhaDataset in datasetSite:\n",
    "    for item in linhaDataset:\n",
    "        #print(str(item) +' suporte: '+str(calcularSuporte(datasetSite,item)))\n",
    "        conjuntoPAdroes.update({item:calcularSuporte(datasetSite,item)})\n",
    "        \n",
    "        \n",
    "\n",
    "padroesOrdenados = sorted(conjuntoPAdroes.items(), key=lambda indice: indice[1],reverse=True)\n",
    "padroesOrdenados\n",
    "\n"
   ]
  },
  {
   "cell_type": "code",
   "execution_count": null,
   "metadata": {},
   "outputs": [],
   "source": [
    "datasetSite = [\n",
    "           \n",
    "    \n",
    "    ['index.html','sobre-nos.html','contato.html','produto1.html','produto3.html','produto8.html'],       \n",
    "           \n",
    "    \n",
    "    \n",
    "    ['produto1.html','produto3.html','produto12.html','produto21.html'],\n",
    "            ['index.html'],\n",
    "            ['produto3.html','contato.html','produto8.html','sobre-nos.html'],\n",
    "            ['index.html','produto10.html','produto12.html','contato.html'],\n",
    "            ['index.html']\n",
    "              ]\n",
    "\n",
    "\n",
    "\n",
    "###como ficaria a base de dados datasetSite convertida para representação binária??"
   ]
  },
  {
   "cell_type": "code",
   "execution_count": 137,
   "metadata": {},
   "outputs": [
    {
     "name": "stdout",
     "output_type": "stream",
     "text": [
      "{'produto8.html', 'produto3.html', 'sobre-nos.html', 'produto1.html', 'index.html', 'produto12.html', 'produto21.html', 'produto10.html', 'contato.html'}\n",
      "[[1. 1. 1. 1. 1. 0. 0. 0. 1.]\n",
      " [0. 1. 0. 1. 0. 1. 1. 0. 0.]\n",
      " [0. 0. 0. 0. 1. 0. 0. 0. 0.]\n",
      " [1. 1. 1. 0. 0. 0. 0. 0. 1.]\n",
      " [0. 0. 0. 0. 1. 1. 0. 1. 1.]\n",
      " [0. 0. 0. 0. 1. 0. 0. 0. 0.]]\n"
     ]
    }
   ],
   "source": [
    "conjAtributos = set() #set não permite repetições\n",
    "\n",
    "\n",
    "\n",
    "\n",
    "for linha in datasetSite:\n",
    "    \n",
    "    for coluna in linha:\n",
    "        conjAtributos.add(str(coluna))\n",
    "\n",
    "print(conjAtributos)\n",
    "\n",
    " \n",
    "\n",
    "for i in range(len(datasetSite)):\n",
    "    for j in range(len(conjAtributos)):\n",
    "\n",
    "        if list(conjAtributos)[j] in datasetSite[i]:\n",
    "             dataBin[i][j] = 1\n",
    "        else:\n",
    "             dataBin[i][j] = 0\n",
    "\n",
    "# print(conjAtributos)\n",
    "print(dataBin)\n",
    "\n"
   ]
  },
  {
   "cell_type": "code",
   "execution_count": 139,
   "metadata": {},
   "outputs": [
    {
     "name": "stdout",
     "output_type": "stream",
     "text": [
      "[2. 3. 2. 2. 4. 2. 1. 1. 3.]\n",
      "\n",
      " Item:produto8.html suporte: 2.0/6 == 0.2222222222222222\n",
      "\n",
      " Item:produto3.html suporte: 3.0/6 == 0.3333333333333333\n",
      "\n",
      " Item:sobre-nos.html suporte: 2.0/6 == 0.2222222222222222\n",
      "\n",
      " Item:produto1.html suporte: 2.0/6 == 0.2222222222222222\n",
      "\n",
      " Item:index.html suporte: 4.0/6 == 0.4444444444444444\n",
      "\n",
      " Item:produto12.html suporte: 2.0/6 == 0.2222222222222222\n",
      "\n",
      " Item:produto21.html suporte: 1.0/6 == 0.1111111111111111\n",
      "\n",
      " Item:produto10.html suporte: 1.0/6 == 0.1111111111111111\n",
      "\n",
      " Item:contato.html suporte: 3.0/6 == 0.3333333333333333\n"
     ]
    }
   ],
   "source": [
    "somas = np.sum(dataBin, axis=0)\n",
    "\n",
    "cont = 0\n",
    "print(somas)\n",
    "\n",
    "for item in conjAtributos:\n",
    "    print('\\n Item:' + str(item) + ' suporte: ' + str(somas[cont]) + '/' + str(len(dataBin)) + ' == ' + str(\n",
    "        somas[cont] / len(conjAtributos)))\n",
    "    cont += 1"
   ]
  }
 ],
 "metadata": {
  "kernelspec": {
   "display_name": "Python 3",
   "language": "python",
   "name": "python3"
  },
  "language_info": {
   "codemirror_mode": {
    "name": "ipython",
    "version": 3
   },
   "file_extension": ".py",
   "mimetype": "text/x-python",
   "name": "python",
   "nbconvert_exporter": "python",
   "pygments_lexer": "ipython3",
   "version": "3.7.3"
  }
 },
 "nbformat": 4,
 "nbformat_minor": 4
}
