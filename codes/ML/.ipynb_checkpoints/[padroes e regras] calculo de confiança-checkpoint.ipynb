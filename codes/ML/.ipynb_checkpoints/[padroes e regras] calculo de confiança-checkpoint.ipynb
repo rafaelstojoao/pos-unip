{
 "cells": [
  {
   "cell_type": "code",
   "execution_count": 37,
   "metadata": {},
   "outputs": [],
   "source": [
    "dataset = [\n",
    "            ['a','b','c','d'],\n",
    "            ['e','f','a','c'],\n",
    "            ['a','c','f'],\n",
    "            ['a','c','d']]\n",
    " \n",
    "    \n",
    "    \n",
    "    \n",
    "padrao = ['a','c','d']\n",
    "         \n",
    "        \n",
    "regraExemplo = [ ['a','c'] , ['d'] ]  #R: X-> Y    R: ac -> d\n",
    "#regraExemplo[0] # é o X\n",
    "#regraExemplo[1] # é o Y\n",
    "contador = 0\n",
    "#    para X\n",
    "#for registro in dataset: # o algoritmo DEVE percorrer a base de daos N vezes: N = numero de candidatos\n",
    "#         if set(regraExemplo[0]).intersection(set(registro)):\n",
    "#            contador += 1\n",
    "# \n",
    "# suporteX = contador / len(dataset)\n",
    "contador = 0\n",
    "#    para y\n",
    "#for registro in dataset: # o algoritmo DEVE percorrer a base de daos N vezes: N = numero de candidatos\n",
    "#         if set(regraExemplo[1]).intersection(set(registro)):\n",
    "#            contador += 1\n",
    "# \n",
    "# suporteY = contador / len(dataset)\n",
    "\n",
    "\n",
    "#confianca  =  suporte(R) / suporte(X)    :::  suporte('a','c','d')/ suporte('a','c')\n",
    "#lift       =  clonfianca(R) / suporte(Y)\n",
    "#convicao   =  1 - suporte(Y) / 1 - confianca(R)\n",
    "\n",
    "\n",
    "##como combinar os itens do padrão a fim de construir as regras???\n",
    "#calcular os valores das metricas\n",
    "\n",
    " \n"
   ]
  },
  {
   "cell_type": "code",
   "execution_count": 29,
   "metadata": {},
   "outputs": [
    {
     "data": {
      "text/plain": [
       "3"
      ]
     },
     "execution_count": 29,
     "metadata": {},
     "output_type": "execute_result"
    }
   ],
   "source": [
    "#como combinar os itens do padrão a fim de construir as regras???\n",
    "#ac->d\n",
    "#ad->c\n",
    "#cd->a\n",
    "#a->cd\n",
    "#c->ad\n",
    "#d->ac\n",
    "\n",
    "\n",
    "\n",
    "#após isso, como calcular a confiança, lift e convicção?.....\n",
    "len(padrao)"
   ]
  }
 ],
 "metadata": {
  "kernelspec": {
   "display_name": "Python 3",
   "language": "python",
   "name": "python3"
  },
  "language_info": {
   "codemirror_mode": {
    "name": "ipython",
    "version": 3
   },
   "file_extension": ".py",
   "mimetype": "text/x-python",
   "name": "python",
   "nbconvert_exporter": "python",
   "pygments_lexer": "ipython3",
   "version": "3.7.3"
  }
 },
 "nbformat": 4,
 "nbformat_minor": 4
}
