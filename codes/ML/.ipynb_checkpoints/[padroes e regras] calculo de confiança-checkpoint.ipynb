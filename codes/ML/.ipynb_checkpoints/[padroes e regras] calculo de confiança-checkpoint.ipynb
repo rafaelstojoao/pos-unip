{
 "cells": [
  {
   "cell_type": "code",
   "execution_count": null,
   "metadata": {},
   "outputs": [],
   "source": [
    "dataset = [\n",
    "            ['a','b','c','d'],\n",
    "            ['e','f','a','c'],\n",
    "            ['a','c','f'],\n",
    "            ['a','c','d']]\n",
    " \n",
    "    \n",
    "    \n",
    "    \n",
    "    \n",
    "padrao = ['a','c','d']\n",
    "\n",
    "\n",
    "#como combinar os itens do padrão a fim de construir as regras???\n",
    "#ac->d\n",
    "#ad->c\n",
    "#cd->a\n",
    "#a->cd\n",
    "#c->ad\n",
    "#d->ac\n",
    "\n",
    "\n",
    "\n",
    "#após isso, como calcular a confiança, lift e convicção?....."
   ]
  }
 ],
 "metadata": {
  "kernelspec": {
   "display_name": "Python 3",
   "language": "python",
   "name": "python3"
  },
  "language_info": {
   "codemirror_mode": {
    "name": "ipython",
    "version": 3
   },
   "file_extension": ".py",
   "mimetype": "text/x-python",
   "name": "python",
   "nbconvert_exporter": "python",
   "pygments_lexer": "ipython3",
   "version": "3.7.3"
  }
 },
 "nbformat": 4,
 "nbformat_minor": 4
}
