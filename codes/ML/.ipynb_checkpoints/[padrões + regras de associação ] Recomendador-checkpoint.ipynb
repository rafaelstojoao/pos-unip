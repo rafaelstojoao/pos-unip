{
 "cells": [
  {
   "cell_type": "code",
   "execution_count": 1,
   "metadata": {},
   "outputs": [],
   "source": [
    "%run apriorimodule.py  #apenas para economizar espaço "
   ]
  },
  {
   "cell_type": "code",
   "execution_count": 2,
   "metadata": {},
   "outputs": [
    {
     "data": {
      "text/plain": [
       "0     Star Wars,Pulp fiction, bastardos inglórios, m...\n",
       "1     o Pequeno príncipe, Star Wars, Coração valente...\n",
       "2     Inception,Interestelar, O fabuloso destino de ...\n",
       "3                vingadores, interestelar, forrest gump\n",
       "4     Um Contratempo, Vingadores, Coração Valente, H...\n",
       "5     Planeta dos macacos, Logan, Minha mãe é uma pe...\n",
       "6     O Preço do Amanhã, A Origem, O Menino do Pijam...\n",
       "7     Bad boys, loucademia de polícia, Vingadores, h...\n",
       "8                                    o poço, vingadores\n",
       "9     o menino do pijama listrado, a origem, o poço,...\n",
       "10       star wars, star treck, kill bill, forrest gump\n",
       "11            vingadores, homem de ferro, blade, o poço\n",
       "12    o poço, a lenda do cavaleiro sem cabeça, vinga...\n",
       "13    star wars, o menino do pijama listrado, kill b...\n",
       "14    planeta dos macacos, star wars, o poço, kill b...\n",
       "15                                  Esquadrão Classe A \n",
       "Name: Filmes que gostei, dtype: object"
      ]
     },
     "execution_count": 2,
     "metadata": {},
     "output_type": "execute_result"
    }
   ],
   "source": [
    "file  = 'datasets/feedbackClientes.csv'\n",
    "\n",
    "import pandas as pd\n",
    "df = pd.read_csv(file)\n",
    " \n",
    "df.dropna(how='all',inplace=True) #Remove missing values\n",
    "dataset = df[df.columns[1]]\n",
    "dataset\n",
    "\n"
   ]
  },
  {
   "cell_type": "code",
   "execution_count": 3,
   "metadata": {},
   "outputs": [
    {
     "data": {
      "text/plain": [
       "[['star wars,pulp fiction, bastardos inglórios, motoqueiro fantasma, rei arthur, kill bill, central do brasil, o poço, highlander, o vidente, o coringa, marley e eu'],\n",
       " ['o pequeno príncipe, star wars, coração valente, a lenda do cavaleiro sem cabeça, a bela e a fera, garota exemplar'],\n",
       " ['inception,interestelar, o fabuloso destino de amélie poulain, minha mãe é uma peça, forrest gump, expresso do amanhã, triângulo do medo'],\n",
       " ['vingadores, interestelar, forrest gump'],\n",
       " ['um contratempo, vingadores, coração valente, hereditário, sem limites, falcão negro em perigo'],\n",
       " ['planeta dos macacos, logan, minha mãe é uma peça, a lista de schindler'],\n",
       " ['o preço do amanhã, a origem, o menino do pijama listrado'],\n",
       " ['bad boys, loucademia de polícia, vingadores, homem de ferro, blade, um tira da pesada, o lobo de wall street'],\n",
       " ['o poço, vingadores'],\n",
       " ['o menino do pijama listrado, a origem, o poço, kill bill, highlander'],\n",
       " ['star wars, star treck, kill bill, forrest gump'],\n",
       " ['vingadores, homem de ferro, blade, o poço'],\n",
       " ['o poço, a lenda do cavaleiro sem cabeça, vingadores, o menino do pijama listrado'],\n",
       " ['star wars, o menino do pijama listrado, kill bill, forrest gump, a origem, bird box'],\n",
       " ['planeta dos macacos, star wars, o poço, kill bill, o regresso'],\n",
       " ['esquadrão classe a ']]"
      ]
     },
     "execution_count": 3,
     "metadata": {},
     "output_type": "execute_result"
    }
   ],
   "source": [
    "\n",
    "dados = []\n",
    "for linha in dataset:\n",
    "    dados.append([linha.lower()])\n",
    "\n",
    "    \n",
    "    \n",
    "dados\n"
   ]
  },
  {
   "cell_type": "code",
   "execution_count": 7,
   "metadata": {},
   "outputs": [
    {
     "data": {
      "text/plain": [
       "{'star wars': 'MD01',\n",
       " 'pulp fiction': 'MD02',\n",
       " 'bastardos inglórios': 'MD03',\n",
       " 'motoqueiro fantasma': 'MD04',\n",
       " 'rei arthur': 'MD05',\n",
       " 'kill bill': 'MD06',\n",
       " 'central do brasil': 'MD07',\n",
       " 'o poço': 'MD08',\n",
       " 'highlander': 'MD09',\n",
       " 'o vidente': 'MD10',\n",
       " 'o coringa': 'MD11',\n",
       " 'marley e eu': 'MD12',\n",
       " 'o pequeno príncipe': 'MD13',\n",
       " 'coração valente': 'MD14',\n",
       " 'a lenda do cavaleiro sem cabeça': 'MD15',\n",
       " 'a bela e a fera': 'MD16',\n",
       " 'garota exemplar': 'MD17',\n",
       " 'inception': 'MD18',\n",
       " 'interestelar': 'MD19',\n",
       " 'o fabuloso destino de amélie poulain': 'MD20',\n",
       " 'minha mãe é uma peça': 'MD21',\n",
       " 'forrest gump': 'MD22',\n",
       " 'expresso do amanhã': 'MD23',\n",
       " 'triângulo do medo': 'MD24',\n",
       " 'um contratempo': 'MD25',\n",
       " 'vingadores': 'MD26',\n",
       " 'hereditário': 'MD27',\n",
       " 'sem limites': 'MD28',\n",
       " 'falcão negro em perigo': 'MD29',\n",
       " 'planeta dos macacos': 'MD30',\n",
       " 'logan': 'MD31',\n",
       " 'a lista de schindler': 'MD32',\n",
       " 'o preço do amanhã': 'MD33',\n",
       " 'a origem': 'MD34',\n",
       " 'o menino do pijama listrado': 'MD35',\n",
       " 'bad boys': 'MD36',\n",
       " 'loucademia de polícia': 'MD37',\n",
       " 'homem de ferro': 'MD38',\n",
       " 'blade': 'MD39',\n",
       " 'um tira da pesada': 'MD40',\n",
       " 'o lobo de wall street': 'MD41',\n",
       " 'esquadrão classe a': 'MD42',\n",
       " 'sexta feira 13': 'MD43',\n",
       " 'bird box': 'MD44',\n",
       " 'o predestinado': 'MD45',\n",
       " 'era uma vez em hollywood': 'MD46',\n",
       " 'os oito odiados': 'MD47',\n",
       " 'dr. dolittle': 'MD48',\n",
       " 'o campo do medo': 'MD49',\n",
       " 'john carter': 'MD50',\n",
       " 'lagoa azul': 'MD51',\n",
       " 'o regresso': 'MD52',\n",
       " 'fim dos tempos': 'MD53',\n",
       " 'star treck': 'MD54'}"
      ]
     },
     "execution_count": 7,
     "metadata": {},
     "output_type": "execute_result"
    }
   ],
   "source": [
    "\n",
    "\n",
    "\n",
    "file  = 'datasets/filmesCodigos.csv'\n",
    " \n",
    "df = pd.read_csv(file)\n",
    "df.dropna(how='all',inplace=True)\n",
    "\n",
    " \n",
    "dicionarioDeCodigos = dict(zip(df[df.columns[0]], df[df.columns[1]])) #construindo um dicionário de codigos\n",
    "dicionarioDeCodigos\n",
    "#dicionarioDeCodigos['o pequeno príncipe']"
   ]
  },
  {
   "cell_type": "code",
   "execution_count": 9,
   "metadata": {},
   "outputs": [
    {
     "name": "stdout",
     "output_type": "stream",
     "text": [
      "[['star wars,pulp fiction, bastardos inglórios, motoqueiro fantasma, rei arthur, kill bill, central do brasil, o poço, highlander, o vidente, o coringa, marley e eu'], ['o pequeno príncipe, star wars, coração valente, a lenda do cavaleiro sem cabeça, a bela e a fera, garota exemplar'], ['inception,interestelar, o fabuloso destino de amélie poulain, minha mãe é uma peça, forrest gump, expresso do amanhã, triângulo do medo'], ['vingadores, interestelar, forrest gump'], ['um contratempo, vingadores, coração valente, hereditário, sem limites, falcão negro em perigo'], ['planeta dos macacos, logan, minha mãe é uma peça, a lista de schindler'], ['o preço do amanhã, a origem, o menino do pijama listrado'], ['bad boys, loucademia de polícia, vingadores, homem de ferro, blade, um tira da pesada, o lobo de wall street'], ['o poço, vingadores'], ['o menino do pijama listrado, a origem, o poço, kill bill, highlander'], ['star wars, star treck, kill bill, forrest gump'], ['vingadores, homem de ferro, blade, o poço'], ['o poço, a lenda do cavaleiro sem cabeça, vingadores, o menino do pijama listrado'], ['star wars, o menino do pijama listrado, kill bill, forrest gump, a origem, bird box'], ['planeta dos macacos, star wars, o poço, kill bill, o regresso'], ['esquadrão classe a ']]\n",
      "\n",
      "\n",
      "\n",
      " DADOS CODIFICADOS....\n",
      "[['MD01', 'MD02', 'MD03', 'MD04', 'MD05', 'MD06', 'MD07', 'MD08', 'MD09', 'MD10', 'MD11', 'MD12'], ['MD13', 'MD01', 'MD14', 'MD15', 'MD16', 'MD17'], ['MD18', 'MD19', 'MD20', 'MD21', 'MD22', 'MD23', 'MD24'], ['MD26', 'MD19', 'MD22'], ['MD25', 'MD26', 'MD14', 'MD27', 'MD28', 'MD29'], ['MD30', 'MD31', 'MD21', 'MD32'], ['MD33', 'MD34', 'MD35'], ['MD36', 'MD37', 'MD26', 'MD38', 'MD39', 'MD40', 'MD41'], ['MD08', 'MD26'], ['MD35', 'MD34', 'MD08', 'MD06', 'MD09'], ['MD01', 'MD54', 'MD06', 'MD22'], ['MD26', 'MD38', 'MD39', 'MD08'], ['MD08', 'MD15', 'MD26', 'MD35'], ['MD01', 'MD35', 'MD06', 'MD22', 'MD34', 'MD44'], ['MD30', 'MD01', 'MD08', 'MD06', 'MD52'], ['MD42']]\n"
     ]
    }
   ],
   "source": [
    "dadosCodificados =[]\n",
    "for transacao in dados:\n",
    "        linhaDadosCodificados = []\n",
    "        \n",
    "        for valor in transacao:\n",
    "            filmes = valor.split(',')\n",
    "            filmes = [x.strip(' ') for x in filmes] #remover os espaços em branco\n",
    "            filmes = [x.lower() for x in filmes] #colocar todas as palavras em caixa baixa\n",
    "            \n",
    "            for x in filmes:\n",
    "                linhaDadosCodificados.append(dicionarioDeCodigos[x])\n",
    "        \n",
    "        dadosCodificados.append(linhaDadosCodificados)    \n",
    "print(dados)\n",
    "print('\\n\\n\\n DADOS CODIFICADOS....')\n",
    "print(dadosCodificados)\n",
    " "
   ]
  },
  {
   "cell_type": "code",
   "execution_count": 188,
   "metadata": {
    "scrolled": true
   },
   "outputs": [
    {
     "name": "stdout",
     "output_type": "stream",
     "text": [
      "gerando candidatos de tamanho = 1 \n",
      "Validando candidatos de tamanho: 1\n",
      "minsup: 0.1\n",
      "padrões: \n",
      "['MD01'] suporte: 0.3125\n",
      "['MD06'] suporte: 0.3125\n",
      "['MD08'] suporte: 0.375\n",
      "['MD09'] suporte: 0.125\n",
      "['MD14'] suporte: 0.125\n",
      "['MD15'] suporte: 0.125\n",
      "['MD19'] suporte: 0.125\n",
      "['MD21'] suporte: 0.125\n",
      "['MD22'] suporte: 0.25\n",
      "['MD26'] suporte: 0.375\n",
      "['MD30'] suporte: 0.125\n",
      "['MD34'] suporte: 0.1875\n",
      "['MD35'] suporte: 0.25\n",
      "['MD38'] suporte: 0.125\n",
      "['MD39'] suporte: 0.125\n",
      "\n",
      "\n",
      " gerando candidatos de tamanho = 2\n",
      "Validando candidatos de tamanho: 2\n",
      "minsup: 0.1\n",
      "padrões: \n",
      "['MD01', 'MD06'] suporte: 0.25\n",
      "['MD01', 'MD08'] suporte: 0.125\n",
      "['MD01', 'MD22'] suporte: 0.125\n",
      "['MD06', 'MD08'] suporte: 0.1875\n",
      "['MD06', 'MD09'] suporte: 0.125\n",
      "['MD06', 'MD22'] suporte: 0.125\n",
      "['MD06', 'MD34'] suporte: 0.125\n",
      "['MD06', 'MD35'] suporte: 0.125\n",
      "['MD08', 'MD09'] suporte: 0.125\n",
      "['MD08', 'MD26'] suporte: 0.1875\n",
      "['MD08', 'MD35'] suporte: 0.125\n",
      "['MD19', 'MD22'] suporte: 0.125\n",
      "['MD26', 'MD38'] suporte: 0.125\n",
      "['MD26', 'MD39'] suporte: 0.125\n",
      "['MD34', 'MD35'] suporte: 0.1875\n",
      "['MD38', 'MD39'] suporte: 0.125\n",
      "\n",
      "\n",
      " gerando candidatos de tamanho = 3\n",
      "Validando candidatos de tamanho: 3\n",
      "minsup: 0.1\n",
      "padrões: \n",
      "['MD01', 'MD06', 'MD08'] suporte: 0.125\n",
      "['MD01', 'MD06', 'MD22'] suporte: 0.125\n",
      "['MD06', 'MD08', 'MD09'] suporte: 0.125\n",
      "['MD06', 'MD34', 'MD35'] suporte: 0.125\n",
      "['MD26', 'MD38', 'MD39'] suporte: 0.125\n",
      "\n",
      "\n",
      " gerando candidatos de tamanho = 4\n",
      "Validando candidatos de tamanho: 4\n",
      "minsup: 0.1\n",
      "padrões: \n",
      "Não se pode construir mais candidatos\n",
      "Gerando regras\n",
      "['MD01'] --> ['MD06'] sup:  0.25  conf: 0.8 lift:  2.56 conviction:  3.438\n",
      "['MD19'] --> ['MD22'] sup:  0.125  conf: 1.0 lift:  4.0 conviction:  0.0\n",
      "['MD34'] --> ['MD35'] sup:  0.1875  conf: 1.0 lift:  4.0 conviction:  0.0\n",
      "['MD38'] --> ['MD39'] sup:  0.125  conf: 1.0 lift:  8.0 conviction:  0.0\n",
      "['MD06', 'MD34'] --> ['MD35'] sup:  0.125  conf: 1.0 lift:  4.0 conviction:  0.0\n",
      "['MD26', 'MD38'] --> ['MD39'] sup:  0.125  conf: 1.0 lift:  8.0 conviction:  0.0\n"
     ]
    }
   ],
   "source": [
    "apr = Apryori()\n",
    "\n",
    "dataset = dadosCodificados\n",
    "\n",
    "minsup = 0.1  #10% de ocorrência configura um padrão\n",
    "minconf = 0.8 #confiança de 80% é o mínimo para eu dizer que a regra é BOA\n",
    "\n",
    "apr.apriori(dataset,minsup,minconf)"
   ]
  },
  {
   "cell_type": "markdown",
   "metadata": {},
   "source": [
    "# Traduzindo as regras geradas....\n"
   ]
  },
  {
   "cell_type": "code",
   "execution_count": 215,
   "metadata": {},
   "outputs": [
    {
     "name": "stdout",
     "output_type": "stream",
     "text": [
      "star wars\n",
      "['MD01']-->['MD06']sup: 0.25 conf:0.8lift: 2.56conviction: 3.438\n",
      "\n",
      "['MD19']-->['MD22']sup: 0.125 conf:1.0lift: 4.0conviction: 0.0\n",
      "\n",
      "['MD34']-->['MD35']sup: 0.1875 conf:1.0lift: 4.0conviction: 0.0\n",
      "\n",
      "['MD38']-->['MD39']sup: 0.125 conf:1.0lift: 8.0conviction: 0.0\n",
      "\n",
      "['MD06', 'MD34']-->['MD35']sup: 0.125 conf:1.0lift: 4.0conviction: 0.0\n",
      "\n",
      "['MD26', 'MD38']-->['MD39']sup: 0.125 conf:1.0lift: 8.0conviction: 0.0\n",
      "\n"
     ]
    }
   ],
   "source": [
    "arqRegras = open('rules.rul','r')\n",
    "conteudo = arqRegras.readlines()\n",
    "# dicionarioDeCodigos\n",
    "\n",
    "\n",
    "\n",
    "for key, value in dicionarioDeCodigos.items():  # for name, age in dictionary.iteritems():  (for Python 2.x)\n",
    "    if value == 'MD01':\n",
    "        print(key)\n",
    "\n",
    "\n",
    "for linha in conteudo:\n",
    "    print(linha)\n",
    "    \n",
    "    \n",
    "    #agora é hora de converter os códigos em nomes de filmes... e  aí uma recomendação está feita :)\n"
   ]
  }
 ],
 "metadata": {
  "kernelspec": {
   "display_name": "Python 3",
   "language": "python",
   "name": "python3"
  },
  "language_info": {
   "codemirror_mode": {
    "name": "ipython",
    "version": 3
   },
   "file_extension": ".py",
   "mimetype": "text/x-python",
   "name": "python",
   "nbconvert_exporter": "python",
   "pygments_lexer": "ipython3",
   "version": "3.7.3"
  }
 },
 "nbformat": 4,
 "nbformat_minor": 4
}
