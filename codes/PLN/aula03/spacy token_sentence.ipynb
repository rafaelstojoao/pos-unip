{
 "cells": [
  {
   "cell_type": "code",
   "execution_count": 16,
   "metadata": {},
   "outputs": [],
   "source": [
    "import spacy\n",
    "pln = spacy.load('pt')\n",
    "info = pln('Teste de uso. Esse exemplo mostra como o spacy funciona')\n",
    "\n",
    "\n"
   ]
  },
  {
   "cell_type": "code",
   "execution_count": 17,
   "metadata": {},
   "outputs": [
    {
     "name": "stdout",
     "output_type": "stream",
     "text": [
      "Teste de uso.\n",
      "Esse exemplo mostra como o spacy funciona\n"
     ]
    }
   ],
   "source": [
    "#cada sentença da frase\n",
    "for sentenca in info.sents:\n",
    "    print(sentenca)"
   ]
  },
  {
   "cell_type": "code",
   "execution_count": 18,
   "metadata": {},
   "outputs": [
    {
     "name": "stdout",
     "output_type": "stream",
     "text": [
      "Teste\n",
      "de\n",
      "uso\n",
      ".\n",
      "Esse\n",
      "exemplo\n",
      "mostra\n",
      "como\n",
      "o\n",
      "spacy\n",
      "funciona\n"
     ]
    }
   ],
   "source": [
    "#cada termo da frase\n",
    "\n",
    "for token in info:\n",
    "    print(token)"
   ]
  },
  {
   "cell_type": "code",
   "execution_count": 19,
   "metadata": {},
   "outputs": [
    {
     "name": "stdout",
     "output_type": "stream",
     "text": [
      "Teste NOUN\n",
      "de ADP\n",
      "uso NOUN\n",
      ". PUNCT\n",
      "Esse DET\n",
      "exemplo NOUN\n",
      "mostra VERB\n",
      "como ADP\n",
      "o DET\n",
      "spacy NOUN\n",
      "funciona VERB\n"
     ]
    }
   ],
   "source": [
    "#cada termo da frase com seu tipo associado\n",
    "\n",
    "for token in info:\n",
    "    print(token,token.pos_)\n",
    "    \n",
    "    \n",
    "#NOUN:  substantivo\n",
    "#ADP:  preposição\n",
    "#PUNCT: pontuação\n",
    "#DET: determinante\n",
    "#VERB: verbo\n"
   ]
  },
  {
   "cell_type": "markdown",
   "metadata": {},
   "source": [
    "# A partir dessa entrada, como você selecionaria o melhor termo (token) para servir como uma busca no Google e indexar sites que tem conteúdo similar (web crawler)..."
   ]
  },
  {
   "cell_type": "markdown",
   "metadata": {},
   "source": [
    "Vale normalizar o texto?\n",
    "\n",
    "Vale lemmatizar?\n",
    "\n",
    "vale remover stop words?\n",
    "\n",
    "\n",
    "lembre-se que o spacy já tem módulo de lingua portuguesa, corpus e conversas."
   ]
  },
  {
   "cell_type": "code",
   "execution_count": 36,
   "metadata": {},
   "outputs": [
    {
     "name": "stdout",
     "output_type": "stream",
     "text": [
      "Token: Eu, Lemma: Eu, TIPO: PRON\n",
      "Token: só, Lemma: só, TIPO: ADV\n",
      "Token: queria, Lemma: querer, TIPO: VERB\n",
      "Token: saber, Lemma: saber, TIPO: VERB\n",
      "Token: quando, Lemma: quando, TIPO: ADV\n",
      "Token: essa, Lemma: esse, TIPO: DET\n",
      "Token: aula, Lemma: aula, TIPO: NOUN\n",
      "Token: vai, Lemma: ir, TIPO: AUX\n",
      "Token: acabar, Lemma: acabar, TIPO: VERB\n",
      "Token: ..., Lemma: ..., TIPO: PUNCT\n"
     ]
    }
   ],
   "source": [
    "import spacy\n",
    "nlp = spacy.load('pt_core_news_lg')\n",
    "\n",
    "\n",
    "doc = nlp('Eu só queria saber quando essa aula vai acabar...')\n",
    "\n",
    "for token in doc:\n",
    "    print(\"Token: {}, Lemma: {}, TIPO: {}\".format(token, token.lemma_, token.pos_))\n"
   ]
  }
 ],
 "metadata": {
  "kernelspec": {
   "display_name": "Python 3",
   "language": "python",
   "name": "python3"
  },
  "language_info": {
   "codemirror_mode": {
    "name": "ipython",
    "version": 3
   },
   "file_extension": ".py",
   "mimetype": "text/x-python",
   "name": "python",
   "nbconvert_exporter": "python",
   "pygments_lexer": "ipython3",
   "version": "3.7.3"
  }
 },
 "nbformat": 4,
 "nbformat_minor": 4
}
