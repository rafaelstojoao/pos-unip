{
 "cells": [
  {
   "cell_type": "code",
   "execution_count": 24,
   "metadata": {},
   "outputs": [],
   "source": [
    "#https://www.earthdatascience.org/courses/use-data-open-source-python/intro-to-apis/twitter-data-in-python/\n",
    "import os\n",
    "import tweepy as tw\n",
    "import pandas as pd\n",
    "\n",
    "APIkey= '2xmZzKzI5XSydWu7bF0nAuFOn'\n",
    "APIkeysecret= 'drzoukxLeVRnXGcqbfZehepnWClVS1gHWkg4jvBmG7l3Z5ZSp2'\n",
    "\n",
    "access_token= '1307181393479380993-bbejpwItu84p6KLSRdRTqT2Nmv4L49'\n",
    "access_token_secret= 'qxstwRWL7hF9vYKLND1rOaCIHDylz8extTN7LK60wP6Ms'\n",
    "\n",
    "auth = tw.OAuthHandler(APIkey, APIkeysecret)\n",
    "auth.set_access_token(access_token, access_token_secret)\n",
    "\n",
    "api = tw.API(auth, wait_on_rate_limit=True)\n",
    "\n",
    "termoDeBusca = \"robôs\" #é  a classe do 'sentimento'\n",
    "a_partir_de = \"2020-09-19\"\n",
    "\n",
    "tweets = tw.Cursor(api.search, #vou fazer uma busca no api do Twitter\n",
    "              q=termoDeBusca, #com o termo que está na variável termoDeBusca\n",
    "              lang=\"pt\", #somente em portugues do Brasil\n",
    "              since=a_partir_de).items(100) #e a partir desta data na variavel a_partir_de\n",
    "\n",
    "\n",
    "\n",
    "for tweet in tweets:\n",
    "#     print(tweet.text)\n",
    "    palavras = tweet.text.split(' ')\n",
    "    \n",
    "    if 'Bolsonaro' not in palavras:\n",
    "#         print(tweet.text)\n",
    "        \n",
    "        conteudo = [[tweet.user.screen_name,tweet.user.location,tweet.created_at,tweet.text,termoDeBusca]]\n",
    "\n",
    "# localizacao = [[tweet.user.screen_name, tweet.user.location, tweet.created_at,tweet.text,termoDeBusca] for tweet in tweets]\n",
    "pdTweet = pd.DataFrame(data=localizacao, columns=['Nome', \"Localização\",'Data','Tweet','classe'])\n",
    "\n",
    "pdTweet\n",
    " "
   ]
  }
 ],
 "metadata": {
  "kernelspec": {
   "display_name": "Python 3",
   "language": "python",
   "name": "python3"
  },
  "language_info": {
   "codemirror_mode": {
    "name": "ipython",
    "version": 3
   },
   "file_extension": ".py",
   "mimetype": "text/x-python",
   "name": "python",
   "nbconvert_exporter": "python",
   "pygments_lexer": "ipython3",
   "version": "3.7.3"
  }
 },
 "nbformat": 4,
 "nbformat_minor": 4
}
