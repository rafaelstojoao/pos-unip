{
 "cells": [
  {
   "cell_type": "code",
   "execution_count": 43,
   "metadata": {},
   "outputs": [],
   "source": [
    "from chatterbot.trainers import ListTrainer\n",
    "from chatterbot import ChatBot"
   ]
  },
  {
   "cell_type": "code",
   "execution_count": 44,
   "metadata": {},
   "outputs": [
    {
     "name": "stdout",
     "output_type": "stream",
     "text": [
      "List Trainer: [####################] 100%\n"
     ]
    }
   ],
   "source": [
    "bot = ChatBot('BotinhoUnip')\n",
    "\n",
    "conversa = ['Bom dia', 'Bom dia', \n",
    "            'Tudo bem?','Tudo bem e você?', \n",
    "            'Tudo bem e você?','Tudo ótimo', \n",
    "            'Qual seu nome?', 'Botinho da Unip e você?',\n",
    "            'Qual seu esporte favorito?', 'Programar',\n",
    "            'Qual chocolate é mais gostoso?','galak, com certeza'\n",
    "           ]\n",
    "\n",
    "trainer = ListTrainer(bot)\n",
    "\n",
    "trainer.train(conversa)"
   ]
  },
  {
   "cell_type": "code",
   "execution_count": null,
   "metadata": {},
   "outputs": [
    {
     "name": "stdout",
     "output_type": "stream",
     "text": [
      "Usuário: Bom dia\n",
      "BotinhoUnip:  Bom dia\n",
      "Usuário: Tudo bem?\n",
      "BotinhoUnip:  Tudo bem e você?\n",
      "Usuário: Bem tambem\n",
      "BotinhoUnip:  Você gosta de que?\n",
      "Usuário: Gosto de chocolate\n",
      "BotinhoUnip:  Eu gostaria de ser o Chapeleiro Maluco.\n",
      "Usuário: Eu não\n",
      "BotinhoUnip:  O que te incomoda?\n",
      "Usuário: Você\n",
      "BotinhoUnip:  Quem? Quem é senão uma forma seguindo a função de quê\n",
      "Usuário: O que te incomoda?\n",
      "BotinhoUnip:  Ele tem muitas inconsistências.\n",
      "Usuário: O que te incomoda?\n",
      "BotinhoUnip:  Ele tem muitas inconsistências.\n",
      "Usuário: Okay\n",
      "BotinhoUnip:  Botinho da Unip e você?\n"
     ]
    }
   ],
   "source": [
    "while True:\n",
    "    pergunta = input(\"Usuário: \")\n",
    "    resposta = bot.get_response(pergunta)\n",
    "    print('BotinhoUnip: ', resposta)\n",
    "    "
   ]
  },
  {
   "cell_type": "markdown",
   "metadata": {},
   "source": [
    "# Dando um pouco mais de confiança para as respostas..."
   ]
  },
  {
   "cell_type": "code",
   "execution_count": null,
   "metadata": {},
   "outputs": [],
   "source": [
    "while True:\n",
    "    pergunta = input(\"Usuário: \")\n",
    "    resposta = bot.get_response(pergunta)\n",
    "    if float(resposta.confidence) > 0.5:\n",
    "        print('BotinhoUnip: ', resposta)\n",
    "    else:\n",
    "        print('hmm.. não sei te responder')\n",
    "        trainer.train(conversa)\n"
   ]
  },
  {
   "cell_type": "markdown",
   "metadata": {},
   "source": [
    "# Mas partir do zero é um pouco frustrante... como inserir um conhecimento prévio?"
   ]
  },
  {
   "cell_type": "code",
   "execution_count": 41,
   "metadata": {},
   "outputs": [
    {
     "name": "stdout",
     "output_type": "stream",
     "text": [
      "Training conversations.yml: [####################] 100%\n"
     ]
    }
   ],
   "source": [
    "from chatterbot.trainers import ChatterBotCorpusTrainer\n",
    "\n",
    "botMenosBurro = ChatBot('BotinhoUnip')\n",
    "\n",
    "treinoComCorpus = ChatterBotCorpusTrainer(botMenosBurro)\n",
    "# treinoComCorpus.train('chatterbot.corpus.portuguese')\n",
    "treinoComCorpus.train('chatterbot.corpus.portuguese.conversations')\n",
    "#https://github.com/gunthercox/chatterbot-corpus/tree/master/chatterbot_corpus/data/portuguese"
   ]
  },
  {
   "cell_type": "code",
   "execution_count": null,
   "metadata": {},
   "outputs": [
    {
     "name": "stdout",
     "output_type": "stream",
     "text": [
      "Usuário: Olá\n",
      "TW Bot:  Oi\n",
      "Usuário: Bom dia\n",
      "TW Bot:  Eu estou bem, e você?\n",
      "Usuário: bem, também\n",
      "TW Bot:  Eu já viveu?\n",
      "Usuário: já\n",
      "TW Bot:  Depende de como você define a vida\n",
      "Usuário: concordo\n",
      "TW Bot:  Simples é melhor que complexo.\n",
      "Usuário: depende\n",
      "TW Bot:  Não, não é. O bolo é delicioso.\n"
     ]
    }
   ],
   "source": [
    "pergunta =''\n",
    "while pergunta !='fim':\n",
    "    pergunta = input(\"Usuário: \")\n",
    "    resposta = botMenosBurro.get_response(pergunta)\n",
    "    print('Bot: ', resposta)"
   ]
  },
  {
   "cell_type": "code",
   "execution_count": null,
   "metadata": {},
   "outputs": [],
   "source": [
    "pergunta =''\n",
    "while pergunta !='fim':\n",
    "    pergunta = input(\"Usuário: \")\n",
    "    \n",
    "    resposta = botMenosBurro.get_response(pergunta)\n",
    "    print('Bot: ', resposta)"
   ]
  },
  {
   "cell_type": "code",
   "execution_count": null,
   "metadata": {},
   "outputs": [
    {
     "name": "stdout",
     "output_type": "stream",
     "text": [
      "Usuário: Olá\n",
      "BotinhoUnip:  Oi\n",
      "Usuário: Você gosta de chocolate?\n",
      "BotinhoUnip:  Eu uso Python, Java e C ++ com bastante frequência.\n",
      "Usuário: você come?\n",
      "hmm.. não sei te responder\n",
      "List Trainer: [####################] 100%\n",
      "Usuário: Você gosta de que?\n",
      "hmm.. não sei te responder\n",
      "List Trainer: [####################] 100%\n",
      "Usuário: ok\n",
      "hmm.. não sei te responder\n",
      "List Trainer: [####################] 100%\n"
     ]
    }
   ],
   "source": [
    "pergunta =''\n",
    "while pergunta !='fim':\n",
    "    pergunta = input(\"Usuário: \")\n",
    "    \n",
    "    resposta = botMenosBurro.get_response(pergunta)\n",
    "    if float(resposta.confidence) > 0.5:\n",
    "        print('BotinhoUnip: ', resposta)\n",
    "    else:\n",
    "        print('hmm.. não sei te responder')\n",
    "        conversa.append('não me enche')\n",
    "        trainer.train(conversa)\n"
   ]
  }
 ],
 "metadata": {
  "kernelspec": {
   "display_name": "Python 3",
   "language": "python",
   "name": "python3"
  },
  "language_info": {
   "codemirror_mode": {
    "name": "ipython",
    "version": 3
   },
   "file_extension": ".py",
   "mimetype": "text/x-python",
   "name": "python",
   "nbconvert_exporter": "python",
   "pygments_lexer": "ipython3",
   "version": "3.7.3"
  }
 },
 "nbformat": 4,
 "nbformat_minor": 4
}
