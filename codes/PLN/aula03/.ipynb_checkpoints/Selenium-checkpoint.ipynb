{
 "cells": [
  {
   "cell_type": "code",
   "execution_count": null,
   "metadata": {},
   "outputs": [],
   "source": [
    "\n"
   ]
  },
  {
   "cell_type": "code",
   "execution_count": null,
   "metadata": {},
   "outputs": [],
   "source": []
  },
  {
   "cell_type": "code",
   "execution_count": null,
   "metadata": {},
   "outputs": [],
   "source": []
  },
  {
   "cell_type": "code",
   "execution_count": null,
   "metadata": {},
   "outputs": [],
   "source": []
  },
  {
   "cell_type": "code",
   "execution_count": 34,
   "metadata": {},
   "outputs": [],
   "source": [
    "\n",
    "import requests\n",
    "from selenium import webdriver\n",
    "import bs4\n",
    "\n",
    "driver = webdriver.Chrome() #enter the path\n",
    "\n",
    "data=requests.request('get','https://www.google.com/search?q=prato') #any website\n",
    "\n",
    "s=bs4.BeautifulSoup(data.text,'html.parser')\n",
    "\n",
    "for link in s.findAll(class_='mw'):\n",
    "    print(link)"
   ]
  },
  {
   "cell_type": "markdown",
   "metadata": {},
   "source": [
    "# Utilizar o comando \n",
    "links_da_pagina = browser.find_elements_by_tag_name('a')\n",
    "# para encontrar todos os links associados a um termo de busca...\n",
    "\n",
    "# ... armazenar uma lista de links associados..."
   ]
  },
  {
   "cell_type": "markdown",
   "metadata": {},
   "source": [
    "# Pronto, você acabou de fazer um webcrawler...\n",
    "\n",
    "\n",
    "# ele busca uma informação e indexa páginas que tem potencial de similaridade...."
   ]
  }
 ],
 "metadata": {
  "kernelspec": {
   "display_name": "Python 3",
   "language": "python",
   "name": "python3"
  },
  "language_info": {
   "codemirror_mode": {
    "name": "ipython",
    "version": 3
   },
   "file_extension": ".py",
   "mimetype": "text/x-python",
   "name": "python",
   "nbconvert_exporter": "python",
   "pygments_lexer": "ipython3",
   "version": "3.7.3"
  }
 },
 "nbformat": 4,
 "nbformat_minor": 4
}
