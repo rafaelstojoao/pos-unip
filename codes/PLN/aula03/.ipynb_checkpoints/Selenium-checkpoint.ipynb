{
 "cells": [
  {
   "cell_type": "code",
   "execution_count": null,
   "metadata": {},
   "outputs": [],
   "source": [
    "\n"
   ]
  },
  {
   "cell_type": "code",
   "execution_count": null,
   "metadata": {},
   "outputs": [],
   "source": []
  },
  {
   "cell_type": "code",
   "execution_count": null,
   "metadata": {},
   "outputs": [],
   "source": []
  },
  {
   "cell_type": "code",
   "execution_count": null,
   "metadata": {},
   "outputs": [],
   "source": []
  },
  {
   "cell_type": "code",
   "execution_count": 28,
   "metadata": {},
   "outputs": [
    {
     "name": "stdout",
     "output_type": "stream",
     "text": [
      "<div class=\"BNeawe vvjwJb AP7Wnd\">Pratos na Havan com as melhores ofertas em até 10x sem juros</div>\n",
      "<div class=\"BNeawe UPmit AP7Wnd\">www.havan.com.br › utilidades-domesticas › loucas › pratos</div>\n",
      "<div class=\"BNeawe s3v9rd AP7Wnd\"><div><div><div class=\"BNeawe s3v9rd AP7Wnd\">Pratos para quem procura o melhor custo benefício, as melhores marcas em até 10x sem juros na Havan.</div></div></div></div>\n",
      "<div class=\"BNeawe s3v9rd AP7Wnd\">Pratos para quem procura o melhor custo benefício, as melhores marcas em até 10x sem juros na Havan.</div>\n",
      "<div class=\"BNeawe vvjwJb AP7Wnd\">Louça Pratos no Mercado Livre Brasil</div>\n",
      "<div class=\"BNeawe UPmit AP7Wnd\">lista.mercadolivre.com.br › ... › Louça e Artigos para Servir › Louça</div>\n",
      "<div class=\"BNeawe s3v9rd AP7Wnd\"><div><div><div class=\"BNeawe s3v9rd AP7Wnd\">Encontre Louça Pratos no Mercado Livre Brasil. Descubra a melhor forma de comprar online.</div></div></div></div>\n",
      "<div class=\"BNeawe s3v9rd AP7Wnd\">Encontre Louça Pratos no Mercado Livre Brasil. Descubra a melhor forma de comprar online.</div>\n",
      "<div class=\"BNeawe deIvCb AP7Wnd\"><span class=\"BNeawe\"><a href=\"https://www.google.com/search?ie=UTF-8&amp;ei=10mBX8KOGP215OUPiqKliAg&amp;q=prato&amp;tbm=isch&amp;sa=X&amp;ved=2ahUKEwiC1uvHqKnsAhX9GrkGHQpRCYEQsAR6BAgFEAE\"><span class=\"deIvCb AP7Wnd\"><span class=\"FCUp0c rQMQod\">Imagens</span></span></a></span></div>\n",
      "<span class=\"BNeawe\"><a href=\"https://www.google.com/search?ie=UTF-8&amp;ei=10mBX8KOGP215OUPiqKliAg&amp;q=prato&amp;tbm=isch&amp;sa=X&amp;ved=2ahUKEwiC1uvHqKnsAhX9GrkGHQpRCYEQsAR6BAgFEAE\"><span class=\"deIvCb AP7Wnd\"><span class=\"FCUp0c rQMQod\">Imagens</span></span></a></span>\n",
      "<div class=\"BNeawe tAd8D AP7Wnd\"><span class=\"BNeawe\"><a href=\"https://www.google.com/search?ie=UTF-8&amp;ei=10mBX8KOGP215OUPiqKliAg&amp;q=prato&amp;tbm=isch&amp;sa=X&amp;ved=2ahUKEwiC1uvHqKnsAhX9GrkGHQpRCYEQ7Al6BAgFEAI\"><span class=\"tAd8D AP7Wnd\"><span class=\"rQMQod Xb5VRe\">Ver tudo</span></span></a></span></div>\n",
      "<span class=\"BNeawe\"><a href=\"https://www.google.com/search?ie=UTF-8&amp;ei=10mBX8KOGP215OUPiqKliAg&amp;q=prato&amp;tbm=isch&amp;sa=X&amp;ved=2ahUKEwiC1uvHqKnsAhX9GrkGHQpRCYEQ7Al6BAgFEAI\"><span class=\"tAd8D AP7Wnd\"><span class=\"rQMQod Xb5VRe\">Ver tudo</span></span></a></span>\n",
      "<div class=\"BNeawe ji5jpf tAd8D AP7Wnd\">Ver tudo</div>\n",
      "<div class=\"BNeawe vvjwJb AP7Wnd\">Pratos - Oxford Porcelanas</div>\n",
      "<div class=\"BNeawe UPmit AP7Wnd\">www.oxfordporcelanas.com.br › pratos</div>\n",
      "<div class=\"BNeawe s3v9rd AP7Wnd\"><div><div><div class=\"BNeawe s3v9rd AP7Wnd\">Conjunto de 6 Pratos Rasos 26cm Unni Bothanica. R$ 105,21 no boleto. R$ 111, 05 em 1x no cartão crédito/débito. R$ 116,90. ou 2x de R$ 58,45. sem juros.\n",
      "<span class=\"BNeawe\"><a href=\"/url?q=https://www.oxfordporcelanas.com.br/pratos/redondos&amp;sa=U&amp;ved=2ahUKEwiC1uvHqKnsAhX9GrkGHQpRCYEQ0gIwCHoECAcQAg&amp;usg=AOvVaw21vSfmK4OUdzy-NB-jhbsM\"><span class=\"XLloXe AP7Wnd\">Redondos</span></a></span> · <span class=\"BNeawe\"><a href=\"/url?q=https://www.oxfordporcelanas.com.br/unni-raso-bothanica/p&amp;sa=U&amp;ved=2ahUKEwiC1uvHqKnsAhX9GrkGHQpRCYEQ0gIwCHoECAcQAw&amp;usg=AOvVaw3bbphWaaN2KBEybOnoOYyI\"><span class=\"XLloXe AP7Wnd\">Conjunto de 6 Pratos Rasos ...</span></a></span> · <span class=\"BNeawe\"><a href=\"/url?q=https://www.oxfordporcelanas.com.br/pratos/quadrados&amp;sa=U&amp;ved=2ahUKEwiC1uvHqKnsAhX9GrkGHQpRCYEQ0gIwCHoECAcQBA&amp;usg=AOvVaw0wOWuY_HNw8GsryM95b3HH\"><span class=\"XLloXe AP7Wnd\">Quadrados</span></a></span> · <span class=\"BNeawe\"><a href=\"/url?q=https://www.oxfordporcelanas.com.br/pratos/chef&amp;sa=U&amp;ved=2ahUKEwiC1uvHqKnsAhX9GrkGHQpRCYEQ0gIwCHoECAcQBQ&amp;usg=AOvVaw2OUJZOCMd5KR-Y0brd11J1\"><span class=\"XLloXe AP7Wnd\">Chef</span></a></span></div></div></div></div>\n",
      "<div class=\"BNeawe s3v9rd AP7Wnd\">Conjunto de 6 Pratos Rasos 26cm Unni Bothanica. R$ 105,21 no boleto. R$ 111, 05 em 1x no cartão crédito/débito. R$ 116,90. ou 2x de R$ 58,45. sem juros.\n",
      "<span class=\"BNeawe\"><a href=\"/url?q=https://www.oxfordporcelanas.com.br/pratos/redondos&amp;sa=U&amp;ved=2ahUKEwiC1uvHqKnsAhX9GrkGHQpRCYEQ0gIwCHoECAcQAg&amp;usg=AOvVaw21vSfmK4OUdzy-NB-jhbsM\"><span class=\"XLloXe AP7Wnd\">Redondos</span></a></span> · <span class=\"BNeawe\"><a href=\"/url?q=https://www.oxfordporcelanas.com.br/unni-raso-bothanica/p&amp;sa=U&amp;ved=2ahUKEwiC1uvHqKnsAhX9GrkGHQpRCYEQ0gIwCHoECAcQAw&amp;usg=AOvVaw3bbphWaaN2KBEybOnoOYyI\"><span class=\"XLloXe AP7Wnd\">Conjunto de 6 Pratos Rasos ...</span></a></span> · <span class=\"BNeawe\"><a href=\"/url?q=https://www.oxfordporcelanas.com.br/pratos/quadrados&amp;sa=U&amp;ved=2ahUKEwiC1uvHqKnsAhX9GrkGHQpRCYEQ0gIwCHoECAcQBA&amp;usg=AOvVaw0wOWuY_HNw8GsryM95b3HH\"><span class=\"XLloXe AP7Wnd\">Quadrados</span></a></span> · <span class=\"BNeawe\"><a href=\"/url?q=https://www.oxfordporcelanas.com.br/pratos/chef&amp;sa=U&amp;ved=2ahUKEwiC1uvHqKnsAhX9GrkGHQpRCYEQ0gIwCHoECAcQBQ&amp;usg=AOvVaw2OUJZOCMd5KR-Y0brd11J1\"><span class=\"XLloXe AP7Wnd\">Chef</span></a></span></div>\n",
      "<span class=\"BNeawe\"><a href=\"/url?q=https://www.oxfordporcelanas.com.br/pratos/redondos&amp;sa=U&amp;ved=2ahUKEwiC1uvHqKnsAhX9GrkGHQpRCYEQ0gIwCHoECAcQAg&amp;usg=AOvVaw21vSfmK4OUdzy-NB-jhbsM\"><span class=\"XLloXe AP7Wnd\">Redondos</span></a></span>\n",
      "<span class=\"BNeawe\"><a href=\"/url?q=https://www.oxfordporcelanas.com.br/unni-raso-bothanica/p&amp;sa=U&amp;ved=2ahUKEwiC1uvHqKnsAhX9GrkGHQpRCYEQ0gIwCHoECAcQAw&amp;usg=AOvVaw3bbphWaaN2KBEybOnoOYyI\"><span class=\"XLloXe AP7Wnd\">Conjunto de 6 Pratos Rasos ...</span></a></span>\n",
      "<span class=\"BNeawe\"><a href=\"/url?q=https://www.oxfordporcelanas.com.br/pratos/quadrados&amp;sa=U&amp;ved=2ahUKEwiC1uvHqKnsAhX9GrkGHQpRCYEQ0gIwCHoECAcQBA&amp;usg=AOvVaw0wOWuY_HNw8GsryM95b3HH\"><span class=\"XLloXe AP7Wnd\">Quadrados</span></a></span>\n",
      "<span class=\"BNeawe\"><a href=\"/url?q=https://www.oxfordporcelanas.com.br/pratos/chef&amp;sa=U&amp;ved=2ahUKEwiC1uvHqKnsAhX9GrkGHQpRCYEQ0gIwCHoECAcQBQ&amp;usg=AOvVaw2OUJZOCMd5KR-Y0brd11J1\"><span class=\"XLloXe AP7Wnd\">Chef</span></a></span>\n",
      "<div class=\"BNeawe vvjwJb AP7Wnd\">Prato em Promoção nas americanas</div>\n",
      "<div class=\"BNeawe UPmit AP7Wnd\">www.americanas.com.br › busca › prato</div>\n",
      "<div class=\"BNeawe s3v9rd AP7Wnd\"><div><div><div class=\"BNeawe s3v9rd AP7Wnd\">Encontre Prato com as melhores ofertas e promoções nas americanas. Preço baixo e entrega rápida. Aproveite o frete grátis pelo americanas prime!\n",
      "<span class=\"BNeawe\"><a href=\"/url?q=https://www.americanas.com.br/busca/pratos&amp;sa=U&amp;ved=2ahUKEwiC1uvHqKnsAhX9GrkGHQpRCYEQ0gIwCXoECAkQAg&amp;usg=AOvVaw15gYjcEN4BBCVSEctUyfE_\"><span class=\"XLloXe AP7Wnd\">Prato De Sobremesa Em ...</span></a></span> · <span class=\"BNeawe\"><a href=\"/url?q=https://www.americanas.com.br/busca/jogo-de-pratos&amp;sa=U&amp;ved=2ahUKEwiC1uvHqKnsAhX9GrkGHQpRCYEQ0gIwCXoECAkQAw&amp;usg=AOvVaw2tRGchJ7IfMnhMEgex5dxI\"><span class=\"XLloXe AP7Wnd\">Jogo De Pratos</span></a></span> · <span class=\"BNeawe\"><a href=\"/url?q=https://www.americanas.com.br/busca/conjunto-de-pratos&amp;sa=U&amp;ved=2ahUKEwiC1uvHqKnsAhX9GrkGHQpRCYEQ0gIwCXoECAkQBA&amp;usg=AOvVaw1THF7enBOYgkrgtkef0qKQ\"><span class=\"XLloXe AP7Wnd\">Conjunto De Pratos</span></a></span></div></div></div></div>\n",
      "<div class=\"BNeawe s3v9rd AP7Wnd\">Encontre Prato com as melhores ofertas e promoções nas americanas. Preço baixo e entrega rápida. Aproveite o frete grátis pelo americanas prime!\n",
      "<span class=\"BNeawe\"><a href=\"/url?q=https://www.americanas.com.br/busca/pratos&amp;sa=U&amp;ved=2ahUKEwiC1uvHqKnsAhX9GrkGHQpRCYEQ0gIwCXoECAkQAg&amp;usg=AOvVaw15gYjcEN4BBCVSEctUyfE_\"><span class=\"XLloXe AP7Wnd\">Prato De Sobremesa Em ...</span></a></span> · <span class=\"BNeawe\"><a href=\"/url?q=https://www.americanas.com.br/busca/jogo-de-pratos&amp;sa=U&amp;ved=2ahUKEwiC1uvHqKnsAhX9GrkGHQpRCYEQ0gIwCXoECAkQAw&amp;usg=AOvVaw2tRGchJ7IfMnhMEgex5dxI\"><span class=\"XLloXe AP7Wnd\">Jogo De Pratos</span></a></span> · <span class=\"BNeawe\"><a href=\"/url?q=https://www.americanas.com.br/busca/conjunto-de-pratos&amp;sa=U&amp;ved=2ahUKEwiC1uvHqKnsAhX9GrkGHQpRCYEQ0gIwCXoECAkQBA&amp;usg=AOvVaw1THF7enBOYgkrgtkef0qKQ\"><span class=\"XLloXe AP7Wnd\">Conjunto De Pratos</span></a></span></div>\n",
      "<span class=\"BNeawe\"><a href=\"/url?q=https://www.americanas.com.br/busca/pratos&amp;sa=U&amp;ved=2ahUKEwiC1uvHqKnsAhX9GrkGHQpRCYEQ0gIwCXoECAkQAg&amp;usg=AOvVaw15gYjcEN4BBCVSEctUyfE_\"><span class=\"XLloXe AP7Wnd\">Prato De Sobremesa Em ...</span></a></span>\n",
      "<span class=\"BNeawe\"><a href=\"/url?q=https://www.americanas.com.br/busca/jogo-de-pratos&amp;sa=U&amp;ved=2ahUKEwiC1uvHqKnsAhX9GrkGHQpRCYEQ0gIwCXoECAkQAw&amp;usg=AOvVaw2tRGchJ7IfMnhMEgex5dxI\"><span class=\"XLloXe AP7Wnd\">Jogo De Pratos</span></a></span>\n",
      "<span class=\"BNeawe\"><a href=\"/url?q=https://www.americanas.com.br/busca/conjunto-de-pratos&amp;sa=U&amp;ved=2ahUKEwiC1uvHqKnsAhX9GrkGHQpRCYEQ0gIwCXoECAkQBA&amp;usg=AOvVaw1THF7enBOYgkrgtkef0qKQ\"><span class=\"XLloXe AP7Wnd\">Conjunto De Pratos</span></a></span>\n",
      "<div class=\"BNeawe deIvCb AP7Wnd\"><span class=\"FCUp0c rQMQod\">Pesquisas relacionadas</span></div>\n",
      "<div class=\"BNeawe s3v9rd AP7Wnd lRVwie\">Prato Branco</div>\n",
      "<div class=\"BNeawe s3v9rd AP7Wnd lRVwie\">Conjunto Pratos</div>\n",
      "<div class=\"BNeawe s3v9rd AP7Wnd lRVwie\">Pratos Porcelana</div>\n",
      "<div class=\"BNeawe s3v9rd AP7Wnd lRVwie\">Jogo de Prato</div>\n",
      "<div class=\"BNeawe deIvCb AP7Wnd\">Prato</div>\n",
      "<div class=\"BNeawe tAd8D AP7Wnd\">perto de Pacaembu, SP</div>\n",
      "<div class=\"BNeawe deIvCb AP7Wnd\">Restaurante Prato Fino</div>\n",
      "<div class=\"BNeawe tAd8D AP7Wnd\"><span class=\"r0bn4c rQMQod tP9Zud\"> <span aria-hidden=\"true\" class=\"Eq0J8 oqSTJd\">4,4</span> <div aria-label=\"Classificado como 4.4 entre 5\" class=\"Hk2yDb KsR1A\" role=\"img\"><span style=\"width:63px\"></span></div> <span class=\"Eq0J8\">(194)</span> </span> · $<br/>Restaurante · Dracena - SP<br/>Abre às 11:00</div>\n",
      "<div class=\"BNeawe deIvCb AP7Wnd\">Restaurante Prato Fino - Vany Buffet</div>\n",
      "<div class=\"BNeawe tAd8D AP7Wnd\"><span class=\"r0bn4c rQMQod tP9Zud\"> <span aria-hidden=\"true\" class=\"Eq0J8 oqSTJd\">4,4</span> <div aria-label=\"Classificado como 4.4 entre 5\" class=\"Hk2yDb KsR1A\" role=\"img\"><span style=\"width:63px\"></span></div> <span class=\"Eq0J8\">(49)</span> </span> · $<br/>Bufê · Araçatuba - SP<br/>Abre às 10:00</div>\n",
      "<div class=\"BNeawe deIvCb AP7Wnd\">Magda Disk Marmitex Prato Quente</div>\n",
      "<div class=\"BNeawe tAd8D AP7Wnd\"><span class=\"r0bn4c rQMQod tP9Zud\"> <span aria-hidden=\"true\" class=\"Eq0J8 oqSTJd\">4,1</span> <div aria-label=\"Classificado como 4.1 entre 5\" class=\"Hk2yDb KsR1A\" role=\"img\"><span style=\"width:56px\"></span></div> <span class=\"Eq0J8\">(65)</span> </span> · $<br/>Restaurante · Valparaíso - SP<br/>Abre às 10:30</div>\n",
      "<div class=\"BNeawe vvjwJb AP7Wnd\">Pratos - Utilidades Domésticas | Magazine Luiza</div>\n",
      "<div class=\"BNeawe UPmit AP7Wnd\">www.magazineluiza.com.br › magalu.com › Utilidades Domésticas › Pratos</div>\n",
      "<div class=\"BNeawe s3v9rd AP7Wnd\"><div><div><div class=\"BNeawe s3v9rd AP7Wnd\">Prato: acerte na escolha. Saiba com quais tipos de pratos você pode contar pra qualquer ocasião! + leia mais.</div></div></div></div>\n",
      "<div class=\"BNeawe s3v9rd AP7Wnd\">Prato: acerte na escolha. Saiba com quais tipos de pratos você pode contar pra qualquer ocasião! + leia mais.</div>\n",
      "<div class=\"BNeawe vvjwJb AP7Wnd\">Prato Raso - Utilidades Domésticas | Magazine Luiza</div>\n",
      "<div class=\"BNeawe UPmit AP7Wnd\">www.magazineluiza.com.br › ... › Pratos › Prato Raso</div>\n",
      "<div class=\"BNeawe s3v9rd AP7Wnd\"><div><div><div class=\"BNeawe s3v9rd AP7Wnd\">Prato Raso. marcas -. Porto Brasil(1041)</div></div></div></div>\n",
      "<div class=\"BNeawe s3v9rd AP7Wnd\">Prato Raso. marcas -. Porto Brasil(1041)</div>\n",
      "<div class=\"BNeawe vvjwJb AP7Wnd\">Pratos Avulsos: Mesa Posta - Camicado</div>\n",
      "<div class=\"BNeawe UPmit AP7Wnd\">www.camicado.com.br › mesa-e-faqueiros › mesa-posta › pratos-avulsos</div>\n",
      "<div class=\"BNeawe s3v9rd AP7Wnd\"><div><div><div class=\"BNeawe s3v9rd AP7Wnd\">Na Camicado você encontra Pratos Avulsos e outros itens para garantir que sua mesa posta seja cheia de charme. Em até 10x e com entrega para todo o Brasil ...</div></div></div></div>\n",
      "<div class=\"BNeawe s3v9rd AP7Wnd\">Na Camicado você encontra Pratos Avulsos e outros itens para garantir que sua mesa posta seja cheia de charme. Em até 10x e com entrega para todo o Brasil ...</div>\n",
      "<div class=\"BNeawe vvjwJb AP7Wnd\">Pratos | Etna</div>\n",
      "<div class=\"BNeawe UPmit AP7Wnd\">www.etna.com.br › utensilios-domesticos › pratos-avulsos</div>\n",
      "<div class=\"BNeawe s3v9rd AP7Wnd\"><div><div><div class=\"BNeawe s3v9rd AP7Wnd\">Confira Ofertas de Pratos de diversos Materiais e cores. Aproveite nossos preços . Produtos em até 10x sem juros.</div></div></div></div>\n",
      "<div class=\"BNeawe s3v9rd AP7Wnd\">Confira Ofertas de Pratos de diversos Materiais e cores. Aproveite nossos preços . Produtos em até 10x sem juros.</div>\n",
      "<div class=\"BNeawe vvjwJb AP7Wnd\">Prato – Wikipédia, a enciclopédia livre</div>\n",
      "<div class=\"BNeawe UPmit AP7Wnd\">pt.wikipedia.org › wiki › Prato</div>\n",
      "<div class=\"BNeawe s3v9rd AP7Wnd\"><div><div><div class=\"BNeawe s3v9rd AP7Wnd\">Um prato é um tipo de utensílio, normalmente côncavo e circular, cuja finalidade principal é acomodar os alimentos a serem consumidos. Podem ser feitos de ...</div></div></div></div>\n",
      "<div class=\"BNeawe s3v9rd AP7Wnd\">Um prato é um tipo de utensílio, normalmente côncavo e circular, cuja finalidade principal é acomodar os alimentos a serem consumidos. Podem ser feitos de ...</div>\n",
      "<div class=\"BNeawe deIvCb AP7Wnd\"><span class=\"FCUp0c rQMQod\">Pesquisas relacionadas</span></div>\n",
      "<div class=\"BNeawe s3v9rd AP7Wnd lRVwie\">Pratos Avulsos</div>\n",
      "<div class=\"BNeawe s3v9rd AP7Wnd lRVwie\">Pratos Quadrados</div>\n",
      "<div class=\"BNeawe s3v9rd AP7Wnd lRVwie\">Prato desenho</div>\n",
      "<div class=\"BNeawe s3v9rd AP7Wnd lRVwie\">Prato quadrado</div>\n",
      "<div class=\"BNeawe s3v9rd AP7Wnd lRVwie\">Pratos baratos</div>\n",
      "<div class=\"BNeawe s3v9rd AP7Wnd lRVwie\">Prato raso</div>\n",
      "<div class=\"BNeawe s3v9rd AP7Wnd lRVwie\">Prato Cerâmica</div>\n",
      "<div class=\"BNeawe s3v9rd AP7Wnd lRVwie\">Pratos de Porcelana avulsos</div>\n"
     ]
    }
   ],
   "source": [
    "\n",
    "import requests\n",
    "from selenium import webdriver\n",
    "import bs4\n",
    "driver = webdriver.Chrome() #enter the path\n",
    "data=requests.request('get','https://www.google.com/search?q=prato') #any website\n",
    "s=bs4.BeautifulSoup(data.text,'html.parser')\n",
    "for link in s.findAll(class_='BNeawe'):\n",
    "    print(link)"
   ]
  },
  {
   "cell_type": "markdown",
   "metadata": {},
   "source": [
    "# Utilizar o comando \n",
    "links_da_pagina = browser.find_elements_by_tag_name('a')\n",
    "# para encontrar todos os links associados a um termo de busca...\n",
    "\n",
    "# ... armazenar uma lista de links associados..."
   ]
  },
  {
   "cell_type": "markdown",
   "metadata": {},
   "source": [
    "# Pronto, você acabou de fazer um webcrawler...\n",
    "\n",
    "\n",
    "# ele busca uma informação e indexa páginas que tem potencial de similaridade...."
   ]
  }
 ],
 "metadata": {
  "kernelspec": {
   "display_name": "Python 3",
   "language": "python",
   "name": "python3"
  },
  "language_info": {
   "codemirror_mode": {
    "name": "ipython",
    "version": 3
   },
   "file_extension": ".py",
   "mimetype": "text/x-python",
   "name": "python",
   "nbconvert_exporter": "python",
   "pygments_lexer": "ipython3",
   "version": "3.7.3"
  }
 },
 "nbformat": 4,
 "nbformat_minor": 4
}
