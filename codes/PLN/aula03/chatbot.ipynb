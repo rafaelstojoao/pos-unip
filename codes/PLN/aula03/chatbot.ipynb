{
 "cells": [
  {
   "cell_type": "code",
   "execution_count": 26,
   "metadata": {},
   "outputs": [
    {
     "name": "stdout",
     "output_type": "stream",
     "text": [
      "List Trainer: [####################] 100%\n"
     ]
    }
   ],
   "source": [
    "from chatterbot.trainers import ListTrainer\n",
    "from chatterbot import ChatBot\n",
    "\n",
    "\n",
    "bot = ChatBot('BotinhoUnip')\n",
    "\n",
    "conversa = ['Bom dia', 'Bom dia', \n",
    "            'Tudo bem?','Tudo bem e você?', \n",
    "            'Tudo bem e você?','Tudo ótimo', \n",
    "            'Qual seu nome?', 'Botinho da Unip e você?',\n",
    "            'Qual seu esporte favorito?', 'Programar',\n",
    "            'Qual chocolate é mais gostoso?','galak, com certeza'\n",
    "           ]\n",
    "\n",
    "trainer = ListTrainer(bot)\n",
    "\n",
    "trainer.train(conversa)"
   ]
  },
  {
   "cell_type": "code",
   "execution_count": 24,
   "metadata": {},
   "outputs": [
    {
     "name": "stdout",
     "output_type": "stream",
     "text": [
      "Collecting LifeMatchesProject\n",
      "\u001b[31mCould not install packages due to an EnvironmentError: 404 Client Error: Not Found for url: https://pypi.org/simple/lifematchesproject/\n",
      "\u001b[0m\n"
     ]
    },
    {
     "ename": "ModuleNotFoundError",
     "evalue": "No module named 'LifeMatchesProject'",
     "output_type": "error",
     "traceback": [
      "\u001b[0;31m---------------------------------------------------------------------------\u001b[0m",
      "\u001b[0;31mModuleNotFoundError\u001b[0m                       Traceback (most recent call last)",
      "\u001b[0;32m<ipython-input-24-ee53af148fd3>\u001b[0m in \u001b[0;36m<module>\u001b[0;34m\u001b[0m\n\u001b[1;32m      1\u001b[0m \u001b[0;32mimport\u001b[0m \u001b[0mscrapy\u001b[0m\u001b[0;34m\u001b[0m\u001b[0;34m\u001b[0m\u001b[0m\n\u001b[1;32m      2\u001b[0m \u001b[0mget_ipython\u001b[0m\u001b[0;34m(\u001b[0m\u001b[0;34m)\u001b[0m\u001b[0;34m.\u001b[0m\u001b[0msystem\u001b[0m\u001b[0;34m(\u001b[0m\u001b[0;34m'pip3 install LifeMatchesProject'\u001b[0m\u001b[0;34m)\u001b[0m\u001b[0;34m\u001b[0m\u001b[0;34m\u001b[0m\u001b[0m\n\u001b[0;32m----> 3\u001b[0;31m \u001b[0;32mfrom\u001b[0m \u001b[0mLifeMatchesProject\u001b[0m\u001b[0;34m.\u001b[0m\u001b[0mitems\u001b[0m \u001b[0;32mimport\u001b[0m \u001b[0mLifeMatchsItem\u001b[0m\u001b[0;34m\u001b[0m\u001b[0;34m\u001b[0m\u001b[0m\n\u001b[0m\u001b[1;32m      4\u001b[0m \u001b[0;34m\u001b[0m\u001b[0m\n\u001b[1;32m      5\u001b[0m \u001b[0;34m\u001b[0m\u001b[0m\n",
      "\u001b[0;31mModuleNotFoundError\u001b[0m: No module named 'LifeMatchesProject'"
     ]
    }
   ],
   "source": [
    "import scrapy\n",
    "!pip3 install LifeMatchesProject\n",
    "from LifeMatchesProject.items import LifeMatchsItem\n",
    "\n",
    "\n",
    "class LifeMatchesSpider(scrapy.Spider):\n",
    "        name = 'life_matches'\n",
    "        start_urls = ['http://www.betfair.com/sport/home#sscpl=ro/']\n",
    "\n",
    "        custom_settings = {'FEED_EXPORT_ENCODING': 'utf-8'}\n",
    "\n",
    "        def parse(self, response):\n",
    "            for event in response.xpath('//div[contains(@class,\"events-title\")]'):\n",
    "                for element in event.xpath('./following-sibling::ul[1]/li'):\n",
    "                    item = LifeMatchsItem()\n",
    "                    item['Event'] = event.xpath('./a/@title').get()\n",
    "                    item['Match'] = element.xpath('.//div[contains(@class,\"event-name-info\")]/a/@data-event').get()\n",
    "                    item['Date'] = element.xpath('normalize-space(.//div[contains(@class,\"event-name-info\")]/a//span[@class=\"date\"]/text())').get()\n",
    "                    yield item"
   ]
  },
  {
   "cell_type": "code",
   "execution_count": 21,
   "metadata": {},
   "outputs": [
    {
     "ename": "SyntaxError",
     "evalue": "invalid syntax (<ipython-input-21-e8307b5bbca3>, line 1)",
     "output_type": "error",
     "traceback": [
      "\u001b[0;36m  File \u001b[0;32m\"<ipython-input-21-e8307b5bbca3>\"\u001b[0;36m, line \u001b[0;32m1\u001b[0m\n\u001b[0;31m    scrapy crawl aliexpress_tablets\u001b[0m\n\u001b[0m               ^\u001b[0m\n\u001b[0;31mSyntaxError\u001b[0m\u001b[0;31m:\u001b[0m invalid syntax\n"
     ]
    }
   ],
   "source": []
  },
  {
   "cell_type": "code",
   "execution_count": 19,
   "metadata": {},
   "outputs": [],
   "source": [
    "!"
   ]
  }
 ],
 "metadata": {
  "kernelspec": {
   "display_name": "Python 3",
   "language": "python",
   "name": "python3"
  },
  "language_info": {
   "codemirror_mode": {
    "name": "ipython",
    "version": 3
   },
   "file_extension": ".py",
   "mimetype": "text/x-python",
   "name": "python",
   "nbconvert_exporter": "python",
   "pygments_lexer": "ipython3",
   "version": "3.7.3"
  }
 },
 "nbformat": 4,
 "nbformat_minor": 4
}
