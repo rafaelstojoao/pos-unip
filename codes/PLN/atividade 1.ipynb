{
 "cells": [
  {
   "cell_type": "code",
   "execution_count": 1,
   "metadata": {},
   "outputs": [],
   "source": [
    "#Rafael Stoffalette João\n",
    "#Unip - Araçatuba\n",
    "#2020-04-09\n"
   ]
  },
  {
   "cell_type": "code",
   "execution_count": 5,
   "metadata": {},
   "outputs": [],
   "source": [
    "textoEntrada = \"O rato roeu a roupa do rei de Roma quando o rei viajava para a Romênia\""
   ]
  },
  {
   "cell_type": "code",
   "execution_count": 6,
   "metadata": {},
   "outputs": [
    {
     "name": "stdout",
     "output_type": "stream",
     "text": [
      "O\n",
      "rato\n",
      "roeu\n",
      "a\n",
      "roupa\n",
      "do\n",
      "rei\n",
      "de\n",
      "Roma\n",
      "quando\n",
      "o\n",
      "rei\n",
      "viajava\n",
      "para\n",
      "a\n",
      "Romênia\n"
     ]
    }
   ],
   "source": [
    "vetorTextoEntrada = textoEntrada.split(\" \")\n",
    "for termo in vetorTextoEntrada:\n",
    "    print(termo)"
   ]
  },
  {
   "cell_type": "markdown",
   "metadata": {},
   "source": [
    "# Como contar a ocorrência de cada termo?"
   ]
  },
  {
   "cell_type": "markdown",
   "metadata": {},
   "source": [
    "Crie uma lista de palavras não significativas"
   ]
  }
 ],
 "metadata": {
  "kernelspec": {
   "display_name": "Python 3",
   "language": "python",
   "name": "python3"
  },
  "language_info": {
   "codemirror_mode": {
    "name": "ipython",
    "version": 3
   },
   "file_extension": ".py",
   "mimetype": "text/x-python",
   "name": "python",
   "nbconvert_exporter": "python",
   "pygments_lexer": "ipython3",
   "version": "3.7.3"
  }
 },
 "nbformat": 4,
 "nbformat_minor": 4
}
