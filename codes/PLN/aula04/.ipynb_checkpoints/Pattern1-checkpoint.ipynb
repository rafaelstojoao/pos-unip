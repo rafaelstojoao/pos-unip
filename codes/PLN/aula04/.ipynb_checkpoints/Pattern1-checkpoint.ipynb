{
 "cells": [
  {
   "cell_type": "code",
   "execution_count": 6,
   "metadata": {},
   "outputs": [
    {
     "data": {
      "text/plain": [
       "<http.client.HTTPResponse at 0x7f65185f2978>"
      ]
     },
     "execution_count": 6,
     "metadata": {},
     "output_type": "execute_result"
    }
   ],
   "source": [
    "from pattern.web import URL, extension\n",
    "url = URL('https://www.hojemais.com.br/aracatuba/cidade/aracatuba')\n",
    "url.open(timeout=10, proxy=None)"
   ]
  },
  {
   "cell_type": "code",
   "execution_count": 8,
   "metadata": {},
   "outputs": [
    {
     "name": "stdout",
     "output_type": "stream",
     "text": [
      "carregando...\n",
      "None\n",
      "carregando...\n",
      "None\n",
      "carregando...\n",
      "None\n",
      "carregando...\n",
      "None\n",
      "carregando...\n",
      "None\n",
      "carregando...\n",
      "None\n",
      "carregando...\n",
      "None\n",
      "carregando...\n",
      "[Result({'url': 'https://www.cdc.gov/coronavirus/2019-ncov/symptoms-testing/symptoms.html', 'title': 'Symptoms of Coronavirus | CDC', 'text': '... People with <b>COVID</b>-19 have had a wide range of symptoms reported – ranging <br>\\nfrom mild symptoms to severe illness. Symptoms may appear&nbsp;...', 'date': 'May 13, 2020'}), Result({'url': 'https://www.who.int/emergencies/diseases/novel-coronavirus-2019', 'title': 'Coronavirus disease (COVID-19)', 'text': 'Information on <b>COVID</b>-19, the infectious disease caused by the most recently <br>\\ndiscovered coronavirus.'}), Result({'url': 'https://www.cdc.gov/coronavirus/2019-ncov/index.html', 'title': 'Coronavirus Disease 2019 (COVID-19) | CDC', 'text': 'Coronavirus (<b>COVID</b>-19) Home Page.'}), Result({'url': 'https://coronavirus.ohio.gov/wps/portal/gov/covid-19/home', 'title': 'COVID-19', 'text': 'Everything you need to know to prepare for, and protect yourself from <br>\\nCoronavirus Disease 2019 (<b>COVID</b>-19)'}), Result({'url': 'https://covid.cdc.gov/covid-data-tracker/', 'title': 'CDC COVID Data Tracker', 'text': 'United States <b>COVID</b>-19 Cases and Deaths by State. Reported to the CDC since <br>\\nJanuary 21, 2020. TOTAL CASES. 7,894,768. +59,761 New Cases. CASES IN&nbsp;...'}), Result({'url': 'https://www.worldometers.info/coronavirus/', 'title': 'Coronavirus Update (Live): 42,372,234 Cases and 1,147,214 ...', 'text': 'The coronavirus <b>COVID</b>-19 is affecting 215 countries and territories around the <br>\\nworld and 2 international conveyances. The day is reset after midnight GMT+0.'}), Result({'url': 'https://www.health.state.mn.us/diseases/coronavirus/', 'title': 'Coronavirus Disease 2019 (COVID-19) - Minnesota Dept. of Health', 'text': 'About <b>COVID</b>-19 disease, what it is, and background information. Symptoms &amp; <br>\\nTesting. Symptoms, when to see a doctor, how to get tested. If You&nbsp;...'}), Result({'url': 'https://www.epa.gov/pesticide-registration/list-n-disinfectants-coronavirus-covid-19', 'title': 'List N: Disinfectants for Coronavirus (COVID-19) | Pesticide ...', 'text': 'EPA expects all products on List N to kill the coronavirus SARS-CoV-2 (<b>COVID</b>-<br>\\n19) when used according to the label directions. To find a product, locate the EPA<br>\\n&nbsp;...'}), Result({'url': 'https://www.osha.gov/Publications/OSHA3990.pdf', 'title': 'Guidance on Preparing Workplaces for COVID-19', 'text': 'The Occupational Safety and Health Administration (OSHA) developed this <br>\\n<b>COVID</b>-19 planning guidance based on traditional infection prevention and <br>\\nindustrial&nbsp;...'}), Result({'url': 'https://www.sba.gov/page/coronavirus-covid-19-small-business-guidance-loan-resources', 'title': 'Coronavirus (COVID-19): Small Business Guidance & Loan ...', 'text': 'Coronavirus (<b>COVID</b>-19): Small Business Guidance &amp; Loan Resources. Health <br>\\nand government officials are working together to maintain the safety, security,&nbsp;...'})]\n"
     ]
    }
   ],
   "source": [
    "#requisição assíncrona\n",
    "\n",
    "\n",
    "from pattern.web import asynchronous, time, Google\n",
    " \n",
    "request = asynchronous(Google().search, 'covid', timeout=4)\n",
    "while not request.done:\n",
    "    time.sleep(0.1)\n",
    "    print ('carregando...')\n",
    "    print (request.value)"
   ]
  },
  {
   "cell_type": "code",
   "execution_count": 13,
   "metadata": {},
   "outputs": [
    {
     "name": "stdout",
     "output_type": "stream",
     "text": [
      "RT @augustosnunes: O presidente eleito da Bolívia, Luiz Arce, vai exigir mudanças no acordo sobre o gás revisado em 2019 pq o Brasil negociou com “um governo ilegítimo\". Se é assim, ñ são legítimas as eleições realizadas pelo mesmo governo q assinou o acordo. E Arce é um futuro presidente ilegítimo https://t.co/C9Si3bv4Qw\n",
      "RT @Adolfo_Dias_I: Todos criticam o Vieira por não aceitar debates e por antecipar eleições, mas ninguém lhe agradece por ainda nos deixar votar.\n",
      "RT @ConflitoeGuerrA: Guerra Civil nos EUA?\n",
      "\n",
      "Um relatório divulgado pelo Bloomberg, alerta que os americanos estão estocando armamentos temendo pelo pior\n",
      "\n",
      "O relatório diz que faltando menos de duas semanas para as eleições, o número de vendas de armamentos no país,  cresceu em 20 vezes https://t.co/usVCCxIDse\n",
      "RT @esqrever: #Podcast 🎙️ 🏳️‍🌈\n",
      "Novo episódio onde abordamos muitos tópicos e notícias LGBTI, não percam!\n",
      "\n",
      "Woman's World: Eleições Norte-americanas, resistência na Hungria e Mulher!\n",
      "https://t.co/Jkmc0w1qE7\n",
      "\n",
      "#LGBTPodcasters\n",
      "RT @DilmaResiste: .@Gleisi disse q “é muita cara de pau” o juiz Luiz Antonio Bonat, substituto de Moro na L.Jato, ter aceito em vésperas de eleições “a denúncia fajuta sobre as doações ao Instituto Lula” https://t.co/qmMfZ8ljDb\n",
      "#Resistencia932Dias #HeiBolsonaroVaiTomarNoCu\n",
      "Instagram @DilmaResiste\n",
      "Mesquita nunca vai ser diferente,  que acabe as eleições e chupações de saco...\n",
      "RT @chegatv: AÇORES - Eleições Regionais\n",
      "\n",
      "Domingo dia 25 de Outubro Vota Partido Chega! https://t.co/N02Xalh7k1\n",
      "RT @bernardokuster2: Não quero desanimar ninguém nem ser um Átila alarmista, mas podem esperar, depois das eleições, mais lockdowns, novas medidas restritivas e ditatoriais por aqui. No início de abril, eu avisei que iria ocorrer novamente. Aguardem e aproveitem enquanto os políticos estão \"mansos\".\n",
      "@joaomiranda Neste momento temos a balança desequilibrada para o lado da saúde  e contra as liberdades individuais. Lembra-te que em França, no princípio da pandemia, até eleições foram suspensas.\n",
      "Estamos a passar algumas linhas amarelas com o apoio da maioria da população.\n",
      "RT @RodP13: Biden diz que vacina contra Covid-19 será gratuita se ele vencer eleições\n",
      "https://t.co/VoGKFQyKY7\n",
      "RT @g1: Agricultor instala placa contra entrada de políticos em propriedade de SC: \"Só nos visitam quando tem eleições. Depois eles esquecem e não voltam mais\" https://t.co/eAZpySvpL1 #G1 https://t.co/LzT9ogqIH1\n",
      "Trump vota hoje na Florida onde apelou ao voto latino https://t.co/zu75joX6Ne\n",
      "@Nilsonhandebol Agora virou rotina. Todos exigem  grandeza do PT, de preferência, deixar de disputar eleições. Melhor ainda, deixar de existir.\n",
      "\n",
      "Bem democrático isso!\n",
      "@marcosdoval Demorou pra falar do assunto hein senador? Será que são as eleições municipais de aproximando?\n",
      "Covardes, começou a  perseguição. TRE-SP considera campanha de Boulos com ator Wagner Moura como irregular https://t.co/Xs68aPeDeq via @UOLNoticias @UOL\n",
      "Pouca coisa mudará nessas eleições. Tudo que esta acontecendo no Brasil é pouco.\n",
      "RT @PATRlOTAS: Russomanno: “Sou contra a obrigatoriedade da vacina e o lockdown”\n",
      "https://t.co/BoVTuUkbmC\n",
      "RT @PATRlOTAS: Russomanno: “Sou contra a obrigatoriedade da vacina e o lockdown”\n",
      "https://t.co/BoVTuUkbmC\n",
      "RT @bernardokuster2: Não quero desanimar ninguém nem ser um Átila alarmista, mas podem esperar, depois das eleições, mais lockdowns, novas medidas restritivas e ditatoriais por aqui. No início de abril, eu avisei que iria ocorrer novamente. Aguardem e aproveitem enquanto os políticos estão \"mansos\".\n",
      "RT @bernardokuster2: Não quero desanimar ninguém nem ser um Átila alarmista, mas podem esperar, depois das eleições, mais lockdowns, novas medidas restritivas e ditatoriais por aqui. No início de abril, eu avisei que iria ocorrer novamente. Aguardem e aproveitem enquanto os políticos estão \"mansos\".\n",
      "RT @ricardope: O objetivo de mais essa denúncia da Lava-Jato sem pé nem cabeça contra Lula nem é o petista, mas conter o crescimento das candidaturas de Esquerda nas eleições municipais. Agem como serjo moro em 2018 que divulgou áudio de Palocci para prejudicar Haddad. Segue o GOLPE.\n",
      "Estas eleições vão marcar o funeral do PT, mas tem um tal de Lafayete, candidato a prefeito de Belo Horizonte que associou seu nome a Bolsonaro mas mesmo assim vai ter pouquíssimos votos.  Ainda existe vida inteligente na Terra.\n",
      "RT @MVAlianca38: Enfraqueçam PT e PSDB nas eleições de 2022 !\n",
      "\n",
      "Não eleja nas municipais, seus prefeitos e vereadores. Se atentem às coligações, se juntam a outros partidos, em troca de cargos, votações no congresso e outras maracutaias, que atrasam o brasileiro.\n",
      "Folha acusa Boulos de omitir do patrimônio na Justiça Eleitoral saldo de R$ 579,53 em conta corrente https://t.co/pjNoxpY2qP via @Revista Fórum\n",
      "RT @Estadao: Rodovia é 'fronteira' entre duas Campinas (via @EstadaoPolitica)\n",
      "https://t.co/srVBG0l4oP\n",
      "RT @Kalebctba: Não concordo com o PSL ele é um partido traíra mostrou a cara depois das eleições. Outros foram alvos de investigação mas nesses dois últimos anos estão apoiando Bolsonaro e o que buscamos https://t.co/qmigCziuPX\n",
      "RT @gleisi: Como sempre faz em véspera de eleições, a Lava Jato ataca o presidente Lula. Não há outra razão para o juiz Bonat ter aceito hoje a denúncia fajuta sobre as doações ao Instituo Lula, que ele sabe que são totalmente legais. É muita cara de pau\n",
      "RT @carlosjordy: Escute o que o Presidente Bolsonaro fala sobre as eleições municipais e lembre-se do retrospecto do Prefeito de Niterói e como ele agiu de forma ditatorial e irresponsável durante a pandemia.\n",
      "\n",
      "#AllanLyraPrefeito36 https://t.co/DxXxy17B9g\n",
      "RT @_makavelijones: Meu pirraia, até Datena tá impressionado com Boulos. O homem é uma máquina. Preparado, com firme compromisso popular, conhece a cidade, coragem para enfrentar o poder econômico burguês e experiência de anos de movimento social. Vem com nós que é sucesso! \n",
      "\n",
      "https://t.co/HSKfVhNg4d\n",
      "RT @gleisi: Como sempre faz em véspera de eleições, a Lava Jato ataca o presidente Lula. Não há outra razão para o juiz Bonat ter aceito hoje a denúncia fajuta sobre as doações ao Instituo Lula, que ele sabe que são totalmente legais. É muita cara de pau\n"
     ]
    }
   ],
   "source": [
    "#Consulta ao Twitter\n",
    "\n",
    "from pattern.web import Twitter\n",
    "\n",
    "t = Twitter()\n",
    "inicio = None \n",
    "for j in range(3):\n",
    "    for tweet in t.search('Eleições', start=inicio, count=10):\n",
    "        print (tweet.text)\n",
    "        inicio = tweet.id #note que o inicio é atualizado para realizar uma busca profunda...\n",
    "        "
   ]
  },
  {
   "cell_type": "code",
   "execution_count": 23,
   "metadata": {},
   "outputs": [
    {
     "name": "stdout",
     "output_type": "stream",
     "text": [
      "['#AFLGF', '#来年あなたが推してそうなひと', '#ふとんが吹っ飛んだ系のダジャレで攻めて', '森下くん', '#2023ElectionforYouth', '#1YearofWeMadeIt', '탈빠합니', 'れおほー', '巻き添えの女子学生', 'Dohyon', '체지방률', 'SENSATIONAL TREASURE', 'モイネロ', 'CRAVITY GOLDEN ROOKIE', 'サンズ退場', 'Namgi', '戦争容認', 'ヴァンドギャルド', 'FC東京', 'エクスカリバー', 'フィーチャー', '体脂肪率10', '同人女の感情', 'ラウダシオン', 'TOP20', 'joonie', '天使度テスト', 'Grand Final', 'HARLEY QUINN', '宵月の館', '綾城さん', 'おりほー', 'ボトルマン', 'ひなたくん', '오란고교', '人気投票ガチャ', 'Knightsイベ', '富士ステークス', '#イコノイ24', '#cumartesi', '#SnowMan2D2D_day3', '#SaturdayThoughts', '#shiseidoultimunexWin', '#半妖の夜叉姫', '#モンスト', '#CuidemosTodosDeTodos', '#TheHouseArrestOfUsEp01', '#PORTOFCALL', '#Napoli', '#옹성우_6시_왜몰랐었을까']\n"
     ]
    }
   ],
   "source": [
    "#assuntos do momento no Twitter\n",
    "\n",
    "\n",
    "from pattern.web import Twitter\n",
    "\n",
    "\n",
    "print (Twitter(language='pt').trends(cached=False))\n",
    "\n"
   ]
  },
  {
   "cell_type": "code",
   "execution_count": 9,
   "metadata": {},
   "outputs": [
    {
     "name": "stdout",
     "output_type": "stream",
     "text": [
      "https://www.corinthians.com.br/\n",
      "PRÓXIMA PARTIDACopa do Brasil 2020. Corinthians x América-MG. 28/10/2020\n",
      "21h30. SP - São Paulo - Neo Química Arena ...\n",
      "https://globoesporte.globo.com/futebol/times/corinthians/\n",
      "Jogos do Corinthians, vídeos, reforços, escalação e notícias do Corinthians ao\n",
      "vivo. Veja tudo sobre o meu Timão no ge.globo.\n",
      "https://twitter.com/corinthians\n",
      "The latest Tweets from Corinthians (@Corinthians). Perfil oficial do Sport Club\n",
      "Corinthians Paulista. São Paulo/Brasil.\n",
      "https://www.instagram.com/corinthians/\n",
      "5.1m Followers, 120 Following, 17k Posts - See Instagram photos and videos\n",
      "from Corinthians (@corinthians)\n",
      "https://www.gazetaesportiva.com/times/corinthians/\n",
      "Acompanhe as notícias e resultado dos jogos do Corinthians - Gazeta Esportiva.\n",
      "https://www.uol.com.br/esporte/futebol/times/corinthians/\n",
      "Ao vivo, como assistir, próximos jogos, resultados, escalação, gols, mercado da\n",
      "bola, tabelas, estatísticas e últimas notícias do Corinthians.\n",
      "https://www.meutimao.com.br/\n",
      "Notícias do Corinthians, vídeos do Corinthians, jogos e resultados do\n",
      "Corinthians você encontra no Meu Timão.\n",
      "https://pt.wikipedia.org/wiki/Sport_Club_Corinthians_Paulista\n",
      "O Sport Club Corinthians Paulista (mais conhecido como Corinthians, e pelos\n",
      "apelidos de \"Timão\" e \"Coringão\") é um clube multiesportivo brasileiro da cidade\n",
      "...\n",
      "https://www.facebook.com/corinthians/\n",
      "SC Corinthians Paulista, São Paulo, Brazil. 11195071 likes · 252294 talking\n",
      "about this · 187339 were here. Página oficial do Sport Club Corinthians...\n",
      "https://www.espn.com.br/futebol/time/_/id/874/corinthians\n",
      "Receba as últimas Corinthians Notícias, resultados, estatísticas, tabelas e\n",
      "rumores - ESPN.\n"
     ]
    }
   ],
   "source": [
    "# Utilização de buscadores\n",
    "from pattern.web import Google, plaintext\n",
    "# Google, Gmail, Bing, Twitter, Facebook, Wikipedia, Wiktionary, DBPedia, Flickr, ...\n",
    "\n",
    "res = Google(language='pt') \n",
    "for noticia in res.search('\"Corinthians\"', cached=False):\n",
    "        print(plaintext(noticia.url))\n",
    "        print(plaintext(noticia.text))\n",
    "    "
   ]
  }
 ],
 "metadata": {
  "kernelspec": {
   "display_name": "Python 3",
   "language": "python",
   "name": "python3"
  },
  "language_info": {
   "codemirror_mode": {
    "name": "ipython",
    "version": 3
   },
   "file_extension": ".py",
   "mimetype": "text/x-python",
   "name": "python",
   "nbconvert_exporter": "python",
   "pygments_lexer": "ipython3",
   "version": "3.7.3"
  }
 },
 "nbformat": 4,
 "nbformat_minor": 4
}
