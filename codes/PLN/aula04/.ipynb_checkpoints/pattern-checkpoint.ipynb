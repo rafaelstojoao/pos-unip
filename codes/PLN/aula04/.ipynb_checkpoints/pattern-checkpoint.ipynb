{
 "cells": [
  {
   "cell_type": "markdown",
   "metadata": {},
   "source": [
    "#  Crawler"
   ]
  },
  {
   "cell_type": "code",
   "execution_count": null,
   "metadata": {},
   "outputs": [],
   "source": [
    "\n"
   ]
  },
  {
   "cell_type": "code",
   "execution_count": null,
   "metadata": {},
   "outputs": [],
   "source": []
  },
  {
   "cell_type": "code",
   "execution_count": null,
   "metadata": {},
   "outputs": [],
   "source": []
  },
  {
   "cell_type": "code",
   "execution_count": null,
   "metadata": {},
   "outputs": [],
   "source": []
  },
  {
   "cell_type": "code",
   "execution_count": null,
   "metadata": {},
   "outputs": [],
   "source": [
    "from pattern.web import Crawler\n",
    "\n",
    "\n",
    "class Polly(Crawler): \n",
    "    def visit(self, link, source=None):\n",
    "        print('link acessado:', repr(link.url),  ' a partir de : ', link.referrer)\n",
    "        def fail(self, link):\n",
    "            print ('falha:', repr(link.url))\n",
    "            \n",
    "p = Polly(links=['http://www.unip.br'], delay=3)\n",
    "\n",
    "while not p.done:\n",
    "    p.crawl( cached=False, throttle=3)\n",
    "\n"
   ]
  },
  {
   "cell_type": "code",
   "execution_count": null,
   "metadata": {},
   "outputs": [],
   "source": [
    "from pattern.web import crawl\n",
    "\n",
    "\n",
    "for link, source in crawl('http://www.clips.ua.ac.be/', delay=3, throttle=3):\n",
    "    print (link)"
   ]
  },
  {
   "cell_type": "code",
   "execution_count": null,
   "metadata": {},
   "outputs": [],
   "source": [
    "from pattern.web import download\n",
    "html = download('http://www.clips.ua.ac.be/', unicode=True)"
   ]
  }
 ],
 "metadata": {
  "kernelspec": {
   "display_name": "Python 3",
   "language": "python",
   "name": "python3"
  },
  "language_info": {
   "codemirror_mode": {
    "name": "ipython",
    "version": 3
   },
   "file_extension": ".py",
   "mimetype": "text/x-python",
   "name": "python",
   "nbconvert_exporter": "python",
   "pygments_lexer": "ipython3",
   "version": "3.7.3"
  }
 },
 "nbformat": 4,
 "nbformat_minor": 4
}
