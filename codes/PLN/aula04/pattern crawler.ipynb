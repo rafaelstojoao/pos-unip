{
 "cells": [
  {
   "cell_type": "markdown",
   "metadata": {},
   "source": [
    "#  Crawler"
   ]
  },
  {
   "cell_type": "code",
   "execution_count": null,
   "metadata": {},
   "outputs": [],
   "source": [
    "\n"
   ]
  },
  {
   "cell_type": "code",
   "execution_count": null,
   "metadata": {},
   "outputs": [],
   "source": []
  },
  {
   "cell_type": "code",
   "execution_count": null,
   "metadata": {},
   "outputs": [],
   "source": []
  },
  {
   "cell_type": "code",
   "execution_count": null,
   "metadata": {},
   "outputs": [],
   "source": []
  },
  {
   "cell_type": "code",
   "execution_count": 3,
   "metadata": {},
   "outputs": [
    {
     "name": "stdout",
     "output_type": "stream",
     "text": [
      "link acessado: 'https://www.unip.br'  a partir de :  \n",
      "link acessado: 'https://www.unip.br/atualizar_navegador.aspx'  a partir de :  https://www.unip.br\n",
      "link acessado: 'https://www.unip.br/#processoseletivo'  a partir de :  https://www.unip.br\n",
      "link acessado: 'https://unip.br/presencial/'  a partir de :  https://www.unip.br\n",
      "link acessado: 'https://unip.br/presencial'  a partir de :  https://unip.br/presencial/\n",
      "link acessado: 'https://unip.br/presencial/servicos/aluno/como_acessar.aspx'  a partir de :  https://unip.br/presencial/\n",
      "link acessado: 'https://unip.br/presencial/#sair'  a partir de :  https://unip.br/presencial/\n",
      "link acessado: 'https://unip.br/atendimento/presencial'  a partir de :  https://unip.br/presencial/\n",
      "link acessado: 'https://unip.br/'  a partir de :  https://unip.br/presencial/\n",
      "link acessado: 'https://unip.br/presencial/central'  a partir de :  https://unip.br/presencial/\n",
      "link acessado: 'https://unip.br/transferenciaimediata'  a partir de :  https://unip.br/presencial/\n",
      "link acessado: 'https://unip.br/presencial/universidade/arquivo_academico.aspx'  a partir de :  https://unip.br/presencial/\n",
      "link acessado: 'https://unip.br/presencial/universidade/campi.aspx'  a partir de :  https://unip.br/presencial/\n",
      "link acessado: 'https://unip.br/presencial/universidade/clinicas.aspx'  a partir de :  https://unip.br/presencial/\n",
      "link acessado: 'https://unip.br/presencial/universidade/cpa.aspx'  a partir de :  https://unip.br/presencial/\n",
      "link acessado: 'https://unip.br/presencial/universidade/dados_institucionais.aspx'  a partir de :  https://unip.br/presencial/\n",
      "link acessado: 'https://unip.br/presencial/universidade/estatuto.aspx'  a partir de :  https://unip.br/presencial/\n",
      "link acessado: 'https://unip.br/presencial/universidade/historico.aspx'  a partir de :  https://unip.br/presencial/\n",
      "link acessado: 'https://unip.br/presencial/universidade/institutos.aspx'  a partir de :  https://unip.br/presencial/\n",
      "link acessado: 'https://unip.br/presencial/universidade/internacionalizacao_academica'  a partir de :  https://unip.br/presencial/\n",
      "link acessado: 'https://unip.br/presencial/universidade/missao.aspx'  a partir de :  https://unip.br/presencial/\n",
      "link acessado: 'https://unip.br/presencial/universidade/objetivos.aspx'  a partir de :  https://unip.br/presencial/\n",
      "link acessado: 'https://unip.br/ouvidoria'  a partir de :  https://unip.br/presencial/\n",
      "link acessado: 'https://unip.br/presencial/universidade/reitoria.aspx'  a partir de :  https://unip.br/presencial/\n",
      "link acessado: 'https://unip.br/presencial/universidade/regimento.aspx'  a partir de :  https://unip.br/presencial/\n",
      "link acessado: 'https://unip.br/presencial/universidade/mapa.aspx'  a partir de :  https://unip.br/presencial/\n",
      "link acessado: 'https://unip.br/presencial/pesquisa'  a partir de :  https://unip.br/presencial/\n",
      "link acessado: 'https://unip.br/presencial/servicos'  a partir de :  https://unip.br/presencial/\n",
      "link acessado: 'https://unip.br/presencial/comunicacao/agenda.asp'  a partir de :  https://unip.br/presencial/\n",
      "link acessado: 'https://unip.br/presencial/comunicacao/desenvolvimento.aspx'  a partir de :  https://unip.br/presencial/\n",
      "link acessado: 'https://unip.br/presencial/trabalheconosco/index.aspx'  a partir de :  https://unip.br/presencial/\n",
      "link acessado: 'https://unip.br/presencial/comunicacao/tvunip'  a partir de :  https://unip.br/presencial/\n",
      "link acessado: 'https://unip.br/tvweb'  a partir de :  https://unip.br/presencial/\n",
      "link acessado: 'https://unip.br/presencial/vestibular/aprovados'  a partir de :  https://unip.br/presencial/\n",
      "link acessado: 'https://unip.br/presencial/ensino/graduacao/index.asp'  a partir de :  https://unip.br/presencial/\n",
      "link acessado: 'https://unip.br/ead/ensino/cursos_graduacao_pos_graduacao'  a partir de :  https://unip.br/presencial/\n",
      "link acessado: 'https://unip.br/presencial/ensino/extensao_comunitaria/index.aspx'  a partir de :  https://unip.br/presencial/\n",
      "link acessado: 'https://unip.br/presencial/servicos/aluno/estagio_licenciatura.aspx'  a partir de :  https://unip.br/presencial/\n",
      "link acessado: 'https://unip.br/presencial/servicos/aluno/diploma.aspx'  a partir de :  https://unip.br/presencial/\n",
      "link acessado: 'https://unip.br/fies'  a partir de :  https://unip.br/presencial/\n",
      "link acessado: 'https://unip.br/presencial/transferenciaimediata'  a partir de :  https://unip.br/presencial/\n",
      "link acessado: 'https://unip.br/presencial/ensino/graduacao/index.asp?modalidade=tradicional'  a partir de :  https://unip.br/presencial/\n",
      "link acessado: 'https://unip.br/presencial/ensino/graduacao/index.asp?modalidade=menor-duracao'  a partir de :  https://unip.br/presencial/\n",
      "link acessado: 'https://unip.br/reaberturadematricula'  a partir de :  https://unip.br/presencial/\n",
      "link acessado: 'https://unip.br/presencial/vestibular/aprovados/'  a partir de :  https://unip.br/presencial/\n",
      "link acessado: 'https://unip.br/presencial/vestibular/gabarito/'  a partir de :  https://unip.br/presencial/\n",
      "link acessado: 'https://unip.br/umdianocampus'  a partir de :  https://unip.br/presencial/\n",
      "link acessado: 'https://unip.br/presencial/universidade/empresas_conveniadas.aspx'  a partir de :  https://unip.br/presencial/\n",
      "link acessado: 'https://unip.br/presencial/servicos/aluno/manual_informacoes_academicas_calendario_escolar.aspx'  a partir de :  https://unip.br/presencial/\n",
      "link acessado: 'https://unip.br/prouni'  a partir de :  https://unip.br/presencial/\n",
      "link acessado: 'https://www.posunip.com.br/'  a partir de :  https://www.unip.br\n",
      "link acessado: 'https://unip.br/presencial/universidade/campi/alphaville.aspx'  a partir de :  https://unip.br/presencial/\n",
      "link acessado: 'https://www.posunip.com.br/login'  a partir de :  https://www.posunip.com.br/\n",
      "link acessado: 'https://unip.br/presencial/universidade/campi/anchieta.aspx'  a partir de :  https://unip.br/presencial/\n"
     ]
    },
    {
     "ename": "RecursionError",
     "evalue": "maximum recursion depth exceeded while calling a Python object",
     "output_type": "error",
     "traceback": [
      "\u001b[0;31m---------------------------------------------------------------------------\u001b[0m",
      "\u001b[0;31mRecursionError\u001b[0m                            Traceback (most recent call last)",
      "\u001b[0;32m<ipython-input-3-25ff5e677987>\u001b[0m in \u001b[0;36m<module>\u001b[0;34m\u001b[0m\n\u001b[1;32m     17\u001b[0m \u001b[0;34m\u001b[0m\u001b[0m\n\u001b[1;32m     18\u001b[0m \u001b[0;32mwhile\u001b[0m \u001b[0;32mnot\u001b[0m \u001b[0mp\u001b[0m\u001b[0;34m.\u001b[0m\u001b[0mdone\u001b[0m\u001b[0;34m:\u001b[0m\u001b[0;34m\u001b[0m\u001b[0;34m\u001b[0m\u001b[0m\n\u001b[0;32m---> 19\u001b[0;31m     \u001b[0mp\u001b[0m\u001b[0;34m.\u001b[0m\u001b[0mcrawl\u001b[0m\u001b[0;34m(\u001b[0m \u001b[0mcached\u001b[0m\u001b[0;34m=\u001b[0m\u001b[0;32mFalse\u001b[0m\u001b[0;34m,\u001b[0m \u001b[0mthrottle\u001b[0m\u001b[0;34m=\u001b[0m\u001b[0;36m3\u001b[0m\u001b[0;34m)\u001b[0m\u001b[0;34m\u001b[0m\u001b[0;34m\u001b[0m\u001b[0m\n\u001b[0m\u001b[1;32m     20\u001b[0m \u001b[0;34m\u001b[0m\u001b[0m\n",
      "\u001b[0;32m/usr/local/lib/python3.7/dist-packages/Pattern-3.6-py3.7.egg/pattern/web/__init__.py\u001b[0m in \u001b[0;36mcrawl\u001b[0;34m(self, method, **kwargs)\u001b[0m\n\u001b[1;32m   4178\u001b[0m             \u001b[0mt\u001b[0m \u001b[0;34m=\u001b[0m \u001b[0mtime\u001b[0m\u001b[0;34m.\u001b[0m\u001b[0mtime\u001b[0m\u001b[0;34m(\u001b[0m\u001b[0;34m)\u001b[0m\u001b[0;34m\u001b[0m\u001b[0;34m\u001b[0m\u001b[0m\n\u001b[1;32m   4179\u001b[0m             \u001b[0murl\u001b[0m \u001b[0;34m=\u001b[0m \u001b[0mURL\u001b[0m\u001b[0;34m(\u001b[0m\u001b[0mlink\u001b[0m\u001b[0;34m.\u001b[0m\u001b[0murl\u001b[0m\u001b[0;34m)\u001b[0m\u001b[0;34m\u001b[0m\u001b[0;34m\u001b[0m\u001b[0m\n\u001b[0;32m-> 4180\u001b[0;31m             \u001b[0;32mif\u001b[0m \u001b[0murl\u001b[0m\u001b[0;34m.\u001b[0m\u001b[0mmimetype\u001b[0m \u001b[0;34m==\u001b[0m \u001b[0;34m\"text/html\"\u001b[0m\u001b[0;34m:\u001b[0m\u001b[0;34m\u001b[0m\u001b[0;34m\u001b[0m\u001b[0m\n\u001b[0m\u001b[1;32m   4181\u001b[0m                 \u001b[0;32mtry\u001b[0m\u001b[0;34m:\u001b[0m\u001b[0;34m\u001b[0m\u001b[0;34m\u001b[0m\u001b[0m\n\u001b[1;32m   4182\u001b[0m                     \u001b[0mkwargs\u001b[0m\u001b[0;34m.\u001b[0m\u001b[0msetdefault\u001b[0m\u001b[0;34m(\u001b[0m\u001b[0;34m\"unicode\"\u001b[0m\u001b[0;34m,\u001b[0m \u001b[0;32mTrue\u001b[0m\u001b[0;34m)\u001b[0m\u001b[0;34m\u001b[0m\u001b[0;34m\u001b[0m\u001b[0m\n",
      "\u001b[0;32m/usr/local/lib/python3.7/dist-packages/Pattern-3.6-py3.7.egg/pattern/web/__init__.py\u001b[0m in \u001b[0;36mmimetype\u001b[0;34m(self, timeout)\u001b[0m\n\u001b[1;32m    640\u001b[0m         \"\"\"\n\u001b[1;32m    641\u001b[0m         \u001b[0;32mtry\u001b[0m\u001b[0;34m:\u001b[0m\u001b[0;34m\u001b[0m\u001b[0;34m\u001b[0m\u001b[0m\n\u001b[0;32m--> 642\u001b[0;31m             \u001b[0;32mreturn\u001b[0m \u001b[0mself\u001b[0m\u001b[0;34m.\u001b[0m\u001b[0mheaders\u001b[0m\u001b[0;34m[\u001b[0m\u001b[0;34m\"content-type\"\u001b[0m\u001b[0;34m]\u001b[0m\u001b[0;34m.\u001b[0m\u001b[0msplit\u001b[0m\u001b[0;34m(\u001b[0m\u001b[0;34m\";\"\u001b[0m\u001b[0;34m)\u001b[0m\u001b[0;34m[\u001b[0m\u001b[0;36m0\u001b[0m\u001b[0;34m]\u001b[0m\u001b[0;34m\u001b[0m\u001b[0;34m\u001b[0m\u001b[0m\n\u001b[0m\u001b[1;32m    643\u001b[0m         \u001b[0;32mexcept\u001b[0m \u001b[0mKeyError\u001b[0m\u001b[0;34m:\u001b[0m\u001b[0;34m\u001b[0m\u001b[0;34m\u001b[0m\u001b[0m\n\u001b[1;32m    644\u001b[0m             \u001b[0;32mreturn\u001b[0m \u001b[0;32mNone\u001b[0m\u001b[0;34m\u001b[0m\u001b[0;34m\u001b[0m\u001b[0m\n",
      "\u001b[0;32m/usr/local/lib/python3.7/dist-packages/Pattern-3.6-py3.7.egg/pattern/web/__init__.py\u001b[0m in \u001b[0;36mheaders\u001b[0;34m(self, timeout)\u001b[0m\n\u001b[1;32m    650\u001b[0m         \u001b[0;32mif\u001b[0m \u001b[0mself\u001b[0m\u001b[0;34m.\u001b[0m\u001b[0m__dict__\u001b[0m\u001b[0;34m[\u001b[0m\u001b[0;34m\"_headers\"\u001b[0m\u001b[0;34m]\u001b[0m \u001b[0;32mis\u001b[0m \u001b[0;32mNone\u001b[0m\u001b[0;34m:\u001b[0m\u001b[0;34m\u001b[0m\u001b[0;34m\u001b[0m\u001b[0m\n\u001b[1;32m    651\u001b[0m             \u001b[0;32mtry\u001b[0m\u001b[0;34m:\u001b[0m\u001b[0;34m\u001b[0m\u001b[0;34m\u001b[0m\u001b[0m\n\u001b[0;32m--> 652\u001b[0;31m                 \u001b[0mh\u001b[0m \u001b[0;34m=\u001b[0m \u001b[0mdict\u001b[0m\u001b[0;34m(\u001b[0m\u001b[0mself\u001b[0m\u001b[0;34m.\u001b[0m\u001b[0mopen\u001b[0m\u001b[0;34m(\u001b[0m\u001b[0mtimeout\u001b[0m\u001b[0;34m)\u001b[0m\u001b[0;34m.\u001b[0m\u001b[0minfo\u001b[0m\u001b[0;34m(\u001b[0m\u001b[0;34m)\u001b[0m\u001b[0;34m)\u001b[0m\u001b[0;34m\u001b[0m\u001b[0;34m\u001b[0m\u001b[0m\n\u001b[0m\u001b[1;32m    653\u001b[0m             \u001b[0;32mexcept\u001b[0m \u001b[0mURLError\u001b[0m\u001b[0;34m:\u001b[0m\u001b[0;34m\u001b[0m\u001b[0;34m\u001b[0m\u001b[0m\n\u001b[1;32m    654\u001b[0m                 \u001b[0mh\u001b[0m \u001b[0;34m=\u001b[0m \u001b[0;34m{\u001b[0m\u001b[0;34m}\u001b[0m\u001b[0;34m\u001b[0m\u001b[0;34m\u001b[0m\u001b[0m\n",
      "\u001b[0;32m/usr/local/lib/python3.7/dist-packages/Pattern-3.6-py3.7.egg/pattern/web/__init__.py\u001b[0m in \u001b[0;36mopen\u001b[0;34m(self, timeout, proxy, user_agent, referrer, authentication)\u001b[0m\n\u001b[1;32m    514\u001b[0m             \u001b[0mWhen\u001b[0m \u001b[0man\u001b[0m \u001b[0merror\u001b[0m \u001b[0moccurs\u001b[0m\u001b[0;34m,\u001b[0m \u001b[0mraises\u001b[0m \u001b[0ma\u001b[0m \u001b[0mURLError\u001b[0m \u001b[0;34m(\u001b[0m\u001b[0me\u001b[0m\u001b[0;34m.\u001b[0m\u001b[0mg\u001b[0m\u001b[0;34m.\u001b[0m \u001b[0mHTTP404NotFound\u001b[0m\u001b[0;34m)\u001b[0m\u001b[0;34m.\u001b[0m\u001b[0;34m\u001b[0m\u001b[0;34m\u001b[0m\u001b[0m\n\u001b[1;32m    515\u001b[0m         \"\"\"\n\u001b[0;32m--> 516\u001b[0;31m         \u001b[0murl\u001b[0m \u001b[0;34m=\u001b[0m \u001b[0mself\u001b[0m\u001b[0;34m.\u001b[0m\u001b[0mstring\u001b[0m\u001b[0;34m\u001b[0m\u001b[0;34m\u001b[0m\u001b[0m\n\u001b[0m\u001b[1;32m    517\u001b[0m         \u001b[0;31m# Handle local files directly\u001b[0m\u001b[0;34m\u001b[0m\u001b[0;34m\u001b[0m\u001b[0;34m\u001b[0m\u001b[0m\n\u001b[1;32m    518\u001b[0m         \u001b[0;32mif\u001b[0m \u001b[0mos\u001b[0m\u001b[0;34m.\u001b[0m\u001b[0mpath\u001b[0m\u001b[0;34m.\u001b[0m\u001b[0mexists\u001b[0m\u001b[0;34m(\u001b[0m\u001b[0murl\u001b[0m\u001b[0;34m)\u001b[0m\u001b[0;34m:\u001b[0m\u001b[0;34m\u001b[0m\u001b[0;34m\u001b[0m\u001b[0m\n",
      "\u001b[0;32m/usr/local/lib/python3.7/dist-packages/Pattern-3.6-py3.7.egg/pattern/web/__init__.py\u001b[0m in \u001b[0;36m_get_string\u001b[0;34m(self)\u001b[0m\n\u001b[1;32m    456\u001b[0m     \u001b[0;31m# URL.string yields unicode(URL) by joining the different parts,\u001b[0m\u001b[0;34m\u001b[0m\u001b[0;34m\u001b[0m\u001b[0;34m\u001b[0m\u001b[0m\n\u001b[1;32m    457\u001b[0m     \u001b[0;31m# if the URL parts have been modified.\u001b[0m\u001b[0;34m\u001b[0m\u001b[0;34m\u001b[0m\u001b[0;34m\u001b[0m\u001b[0m\n\u001b[0;32m--> 458\u001b[0;31m     \u001b[0;32mdef\u001b[0m \u001b[0m_get_string\u001b[0m\u001b[0;34m(\u001b[0m\u001b[0mself\u001b[0m\u001b[0;34m)\u001b[0m\u001b[0;34m:\u001b[0m \u001b[0;32mreturn\u001b[0m \u001b[0mstr\u001b[0m\u001b[0;34m(\u001b[0m\u001b[0mself\u001b[0m\u001b[0;34m)\u001b[0m\u001b[0;34m\u001b[0m\u001b[0;34m\u001b[0m\u001b[0m\n\u001b[0m\u001b[1;32m    459\u001b[0m \u001b[0;34m\u001b[0m\u001b[0m\n\u001b[1;32m    460\u001b[0m     \u001b[0;32mdef\u001b[0m \u001b[0m_set_string\u001b[0m\u001b[0;34m(\u001b[0m\u001b[0mself\u001b[0m\u001b[0;34m,\u001b[0m \u001b[0mv\u001b[0m\u001b[0;34m)\u001b[0m\u001b[0;34m:\u001b[0m\u001b[0;34m\u001b[0m\u001b[0;34m\u001b[0m\u001b[0m\n",
      "\u001b[0;32m/usr/local/lib/python3.7/dist-packages/Pattern-3.6-py3.7.egg/pattern/web/__init__.py\u001b[0m in \u001b[0;36m__str__\u001b[0;34m(self)\u001b[0m\n\u001b[1;32m    675\u001b[0m     \u001b[0;32mdef\u001b[0m \u001b[0m__str__\u001b[0m\u001b[0;34m(\u001b[0m\u001b[0mself\u001b[0m\u001b[0;34m)\u001b[0m\u001b[0;34m:\u001b[0m\u001b[0;34m\u001b[0m\u001b[0;34m\u001b[0m\u001b[0m\n\u001b[1;32m    676\u001b[0m         \u001b[0;31m# The string representation includes the query attributes with HTTP GET.\u001b[0m\u001b[0;34m\u001b[0m\u001b[0;34m\u001b[0m\u001b[0;34m\u001b[0m\u001b[0m\n\u001b[0;32m--> 677\u001b[0;31m         \u001b[0mP\u001b[0m \u001b[0;34m=\u001b[0m \u001b[0mself\u001b[0m\u001b[0;34m.\u001b[0m\u001b[0mparts\u001b[0m\u001b[0;34m\u001b[0m\u001b[0;34m\u001b[0m\u001b[0m\n\u001b[0m\u001b[1;32m    678\u001b[0m         \u001b[0mu\u001b[0m \u001b[0;34m=\u001b[0m \u001b[0;34m[\u001b[0m\u001b[0;34m]\u001b[0m\u001b[0;34m\u001b[0m\u001b[0;34m\u001b[0m\u001b[0m\n\u001b[1;32m    679\u001b[0m         \u001b[0;32mif\u001b[0m \u001b[0mP\u001b[0m\u001b[0;34m[\u001b[0m\u001b[0mPROTOCOL\u001b[0m\u001b[0;34m]\u001b[0m\u001b[0;34m:\u001b[0m\u001b[0;34m\u001b[0m\u001b[0;34m\u001b[0m\u001b[0m\n",
      "\u001b[0;32m/usr/local/lib/python3.7/dist-packages/Pattern-3.6-py3.7.egg/pattern/web/__init__.py\u001b[0m in \u001b[0;36m__getattr__\u001b[0;34m(self, k)\u001b[0m\n\u001b[1;32m    490\u001b[0m         \u001b[0;32mif\u001b[0m \u001b[0mk\u001b[0m \u001b[0;32min\u001b[0m \u001b[0mself\u001b[0m\u001b[0;34m.\u001b[0m\u001b[0m__dict__\u001b[0m\u001b[0;34m:\u001b[0m\u001b[0;34m\u001b[0m\u001b[0;34m\u001b[0m\u001b[0m\n\u001b[1;32m    491\u001b[0m             \u001b[0;32mreturn\u001b[0m \u001b[0mself\u001b[0m\u001b[0;34m.\u001b[0m\u001b[0m__dict__\u001b[0m\u001b[0;34m[\u001b[0m\u001b[0mk\u001b[0m\u001b[0;34m]\u001b[0m\u001b[0;34m\u001b[0m\u001b[0;34m\u001b[0m\u001b[0m\n\u001b[0;32m--> 492\u001b[0;31m         \u001b[0;32mif\u001b[0m \u001b[0mk\u001b[0m \u001b[0;32min\u001b[0m \u001b[0mself\u001b[0m\u001b[0;34m.\u001b[0m\u001b[0mparts\u001b[0m\u001b[0;34m:\u001b[0m\u001b[0;34m\u001b[0m\u001b[0;34m\u001b[0m\u001b[0m\n\u001b[0m\u001b[1;32m    493\u001b[0m             \u001b[0;32mreturn\u001b[0m \u001b[0mself\u001b[0m\u001b[0;34m.\u001b[0m\u001b[0m__dict__\u001b[0m\u001b[0;34m[\u001b[0m\u001b[0;34m\"_parts\"\u001b[0m\u001b[0;34m]\u001b[0m\u001b[0;34m[\u001b[0m\u001b[0mk\u001b[0m\u001b[0;34m]\u001b[0m\u001b[0;34m\u001b[0m\u001b[0;34m\u001b[0m\u001b[0m\n\u001b[1;32m    494\u001b[0m         \u001b[0;32mraise\u001b[0m \u001b[0mAttributeError\u001b[0m\u001b[0;34m(\u001b[0m\u001b[0;34m\"'URL' object has no attribute '%s'\"\u001b[0m \u001b[0;34m%\u001b[0m \u001b[0mk\u001b[0m\u001b[0;34m)\u001b[0m\u001b[0;34m\u001b[0m\u001b[0;34m\u001b[0m\u001b[0m\n",
      "... last 1 frames repeated, from the frame below ...\n",
      "\u001b[0;32m/usr/local/lib/python3.7/dist-packages/Pattern-3.6-py3.7.egg/pattern/web/__init__.py\u001b[0m in \u001b[0;36m__getattr__\u001b[0;34m(self, k)\u001b[0m\n\u001b[1;32m    490\u001b[0m         \u001b[0;32mif\u001b[0m \u001b[0mk\u001b[0m \u001b[0;32min\u001b[0m \u001b[0mself\u001b[0m\u001b[0;34m.\u001b[0m\u001b[0m__dict__\u001b[0m\u001b[0;34m:\u001b[0m\u001b[0;34m\u001b[0m\u001b[0;34m\u001b[0m\u001b[0m\n\u001b[1;32m    491\u001b[0m             \u001b[0;32mreturn\u001b[0m \u001b[0mself\u001b[0m\u001b[0;34m.\u001b[0m\u001b[0m__dict__\u001b[0m\u001b[0;34m[\u001b[0m\u001b[0mk\u001b[0m\u001b[0;34m]\u001b[0m\u001b[0;34m\u001b[0m\u001b[0;34m\u001b[0m\u001b[0m\n\u001b[0;32m--> 492\u001b[0;31m         \u001b[0;32mif\u001b[0m \u001b[0mk\u001b[0m \u001b[0;32min\u001b[0m \u001b[0mself\u001b[0m\u001b[0;34m.\u001b[0m\u001b[0mparts\u001b[0m\u001b[0;34m:\u001b[0m\u001b[0;34m\u001b[0m\u001b[0;34m\u001b[0m\u001b[0m\n\u001b[0m\u001b[1;32m    493\u001b[0m             \u001b[0;32mreturn\u001b[0m \u001b[0mself\u001b[0m\u001b[0;34m.\u001b[0m\u001b[0m__dict__\u001b[0m\u001b[0;34m[\u001b[0m\u001b[0;34m\"_parts\"\u001b[0m\u001b[0;34m]\u001b[0m\u001b[0;34m[\u001b[0m\u001b[0mk\u001b[0m\u001b[0;34m]\u001b[0m\u001b[0;34m\u001b[0m\u001b[0;34m\u001b[0m\u001b[0m\n\u001b[1;32m    494\u001b[0m         \u001b[0;32mraise\u001b[0m \u001b[0mAttributeError\u001b[0m\u001b[0;34m(\u001b[0m\u001b[0;34m\"'URL' object has no attribute '%s'\"\u001b[0m \u001b[0;34m%\u001b[0m \u001b[0mk\u001b[0m\u001b[0;34m)\u001b[0m\u001b[0;34m\u001b[0m\u001b[0;34m\u001b[0m\u001b[0m\n",
      "\u001b[0;31mRecursionError\u001b[0m: maximum recursion depth exceeded while calling a Python object"
     ]
    }
   ],
   "source": [
    "from pattern.web import Crawler\n",
    "\n",
    "\n",
    "class Polly(Crawler): \n",
    "    \n",
    "    def visit(self, link, source=None):\n",
    "        print('link acessado:', repr(link.url),  ' a partir de : ', link.referrer)\n",
    "        def fail(self, link):\n",
    "            print ('falha:', repr(link.url))\n",
    "          \n",
    "        \n",
    "        \n",
    "        \n",
    "p = Polly(links=['https://www.unip.br'], delay=1)\n",
    "\n",
    "\n",
    "\n",
    "while not p.done:\n",
    "    p.crawl( cached=False, throttle=3)\n",
    "\n"
   ]
  },
  {
   "cell_type": "code",
   "execution_count": null,
   "metadata": {},
   "outputs": [],
   "source": []
  },
  {
   "cell_type": "code",
   "execution_count": null,
   "metadata": {},
   "outputs": [],
   "source": []
  }
 ],
 "metadata": {
  "kernelspec": {
   "display_name": "Python 3",
   "language": "python",
   "name": "python3"
  },
  "language_info": {
   "codemirror_mode": {
    "name": "ipython",
    "version": 3
   },
   "file_extension": ".py",
   "mimetype": "text/x-python",
   "name": "python",
   "nbconvert_exporter": "python",
   "pygments_lexer": "ipython3",
   "version": "3.7.3"
  }
 },
 "nbformat": 4,
 "nbformat_minor": 4
}
