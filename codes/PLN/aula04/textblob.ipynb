{
 "cells": [
  {
   "cell_type": "code",
   "execution_count": 2,
   "metadata": {},
   "outputs": [
    {
     "name": "stdout",
     "output_type": "stream",
     "text": [
      "Defaulting to user installation because normal site-packages is not writeable\n",
      "Requirement already up-to-date: textblob in /home/rafaelstojoao/.local/lib/python3.7/site-packages (0.15.3)\n",
      "Requirement already satisfied, skipping upgrade: nltk>=3.1 in /home/rafaelstojoao/.local/lib/python3.7/site-packages (from textblob) (3.5)\n",
      "Requirement already satisfied, skipping upgrade: joblib in /usr/local/lib/python3.7/dist-packages (from nltk>=3.1->textblob) (0.14.1)\n",
      "Requirement already satisfied, skipping upgrade: regex in /usr/local/lib/python3.7/dist-packages (from nltk>=3.1->textblob) (2020.7.14)\n",
      "Requirement already satisfied, skipping upgrade: tqdm in /home/rafaelstojoao/.local/lib/python3.7/site-packages (from nltk>=3.1->textblob) (4.48.2)\n",
      "Requirement already satisfied, skipping upgrade: click in /usr/local/lib/python3.7/dist-packages (from nltk>=3.1->textblob) (7.0)\n"
     ]
    }
   ],
   "source": [
    "!pip3 install -U textblob\n",
    "# python -m textblob.download_corpora\n",
    "\n",
    "from textblob import TextBlob\n"
   ]
  },
  {
   "cell_type": "markdown",
   "metadata": {},
   "source": [
    "# Operações básicas\n"
   ]
  },
  {
   "cell_type": "code",
   "execution_count": 9,
   "metadata": {},
   "outputs": [
    {
     "data": {
      "text/plain": [
       "'fly'"
      ]
     },
     "execution_count": 9,
     "metadata": {},
     "output_type": "execute_result"
    }
   ],
   "source": [
    "texto = TextBlob('O avião vai flying logo')\n",
    "# texto = TextBlob('This is a simple example')\n",
    "texto.noun_phrases\n",
    "texto.words[3].lemmatize('v')"
   ]
  },
  {
   "cell_type": "code",
   "execution_count": 37,
   "metadata": {},
   "outputs": [
    {
     "data": {
      "text/plain": [
       "WordList(['O', 'avião', 'vai', 'levantar', 'voo', 'e', 'voar', 'logo'])"
      ]
     },
     "execution_count": 37,
     "metadata": {},
     "output_type": "execute_result"
    }
   ],
   "source": [
    "# Tokenização mais simples\n",
    "\n",
    "texto.words"
   ]
  },
  {
   "cell_type": "code",
   "execution_count": 10,
   "metadata": {},
   "outputs": [
    {
     "name": "stdout",
     "output_type": "stream",
     "text": [
      "when\n",
      "I\n",
      "go\n",
      "out\n",
      "I\n",
      "find\n",
      "out\n",
      "my\n",
      "love\n"
     ]
    }
   ],
   "source": [
    "#lemmatização\n",
    "texto = TextBlob(\"when I went out I found out my love\")\n",
    "\n",
    "for palavra in texto.words:\n",
    "    \n",
    "        print(palavra.lemmatize('v')) #v indica lemmatizar os verbos"
   ]
  },
  {
   "cell_type": "code",
   "execution_count": 12,
   "metadata": {},
   "outputs": [
    {
     "name": "stdout",
     "output_type": "stream",
     "text": [
      "I have good spelling!\n"
     ]
    }
   ],
   "source": [
    "b = TextBlob(\"I havv goood speling!\")\n",
    "print(b.correct())"
   ]
  },
  {
   "cell_type": "code",
   "execution_count": 14,
   "metadata": {},
   "outputs": [
    {
     "data": {
      "text/plain": [
       "4"
      ]
     },
     "execution_count": 14,
     "metadata": {},
     "output_type": "execute_result"
    }
   ],
   "source": [
    "#contagem de ocorrências\n",
    "\n",
    "texto = TextBlob(\"Quando tudo parecia longe, o horizonte sumiu com tudo, aí tudo fez sentido. Tudo é tão igual agora!\")\n",
    "\n",
    "texto.word_counts['tudo']"
   ]
  },
  {
   "cell_type": "code",
   "execution_count": 15,
   "metadata": {},
   "outputs": [
    {
     "data": {
      "text/plain": [
       "1"
      ]
     },
     "execution_count": 15,
     "metadata": {},
     "output_type": "execute_result"
    }
   ],
   "source": [
    "texto.words.count('Tudo', case_sensitive=True)"
   ]
  },
  {
   "cell_type": "code",
   "execution_count": 16,
   "metadata": {},
   "outputs": [
    {
     "name": "stdout",
     "output_type": "stream",
     "text": [
      "Quando tudo parecia longe, o horizonte sumiu com tudo, aí tudo fez sentido.\n",
      "---- Início da sentença em 0, fim em 75\n",
      "Tudo é tão igual agora!\n",
      "---- Início da sentença em 76, fim em 99\n"
     ]
    }
   ],
   "source": [
    "for s in texto.sentences:\n",
    "    print(s)\n",
    "    print(\"---- Início da sentença em {}, fim em {}\".format(s.start, s.end))"
   ]
  },
  {
   "cell_type": "markdown",
   "metadata": {},
   "source": [
    "# Análise de sentimentos "
   ]
  },
  {
   "cell_type": "code",
   "execution_count": 26,
   "metadata": {},
   "outputs": [
    {
     "data": {
      "text/plain": [
       "Sentiment(polarity=0.35, subjectivity=0.4)"
      ]
     },
     "execution_count": 26,
     "metadata": {},
     "output_type": "execute_result"
    }
   ],
   "source": [
    "depoimento = TextBlob(\"I love you so much\")\n",
    "depoimento.sentiment\n",
    "\n",
    "# depoimento.sentiment.polarity\n",
    "\n",
    "\n",
    "# Return a tuple of form (polarity, subjectivity ) where polarity is a float within the range [-1.0, 1.0] and subjectivity is a float within the range [0.0, 1.0] where 0.0 is very objective and 1.0 is very subjective."
   ]
  },
  {
   "cell_type": "markdown",
   "metadata": {},
   "source": [
    "# Classificação independente de linguagem\n"
   ]
  },
  {
   "cell_type": "code",
   "execution_count": 28,
   "metadata": {},
   "outputs": [
    {
     "data": {
      "text/plain": [
       "'Ruim'"
      ]
     },
     "execution_count": 28,
     "metadata": {},
     "output_type": "execute_result"
    }
   ],
   "source": [
    "from textblob import TextBlob\n",
    "from textblob.classifiers import NaiveBayesClassifier\n",
    "\n",
    "conjuntoDeTreino = [\n",
    "     ('Eu amo coca cola.', 'Bom'),\n",
    "     ('O filme foi muito bom', 'Bom'),\n",
    "     ('Que alegria te ver.', 'Bom'),\n",
    "     ('Não como isso nunca mais', 'Ruim'),\n",
    "     ('Estou cansado.', 'Ruim'),\n",
    "     (\"Não aguento mais\", 'Ruim'),\n",
    "     (\"Meu chefe é horrível.\", \"Ruim\")\n",
    " ]\n",
    "\n",
    "\n",
    "\n",
    "classificador = NaiveBayesClassifier(conjuntoDeTreino)\n",
    "classificador.classify(\"Eu odeio meu chefe\")\n",
    "\n",
    "\n"
   ]
  },
  {
   "cell_type": "code",
   "execution_count": 29,
   "metadata": {},
   "outputs": [
    {
     "name": "stdout",
     "output_type": "stream",
     "text": [
      "Beber é muito bom.\n",
      "Bom\n",
      "A ressaca é horrível.\n",
      "Ruim\n"
     ]
    }
   ],
   "source": [
    "blob = TextBlob(\"Beber é muito bom. A ressaca é horrível.\", classifier=classificador)\n",
    "\n",
    "for s in blob.sentences:\n",
    "     print(s)\n",
    "     print(s.classify())"
   ]
  },
  {
   "cell_type": "code",
   "execution_count": 32,
   "metadata": {},
   "outputs": [
    {
     "data": {
      "text/plain": [
       "1.0"
      ]
     },
     "execution_count": 32,
     "metadata": {},
     "output_type": "execute_result"
    }
   ],
   "source": [
    "\n",
    "conjuntoDeTeste = [\n",
    "     ('Eu amo abacate', 'Bom'),\n",
    "    ('Eu adoro agua','Bom')\n",
    " ]\n",
    "\n",
    "\n",
    "classificador.accuracy(conjuntoDeTeste)"
   ]
  },
  {
   "cell_type": "markdown",
   "metadata": {},
   "source": [
    "#  Com a nossa API de consullta ao Twitter, podemos fazer buscas e construir um classificador de sentimentos de forma mais fácil? \n",
    "\n",
    "\n",
    "COMO?"
   ]
  }
 ],
 "metadata": {
  "kernelspec": {
   "display_name": "Python 3",
   "language": "python",
   "name": "python3"
  },
  "language_info": {
   "codemirror_mode": {
    "name": "ipython",
    "version": 3
   },
   "file_extension": ".py",
   "mimetype": "text/x-python",
   "name": "python",
   "nbconvert_exporter": "python",
   "pygments_lexer": "ipython3",
   "version": "3.7.3"
  }
 },
 "nbformat": 4,
 "nbformat_minor": 4
}
