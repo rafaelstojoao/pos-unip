{
 "cells": [
  {
   "cell_type": "code",
   "execution_count": 45,
   "metadata": {},
   "outputs": [
    {
     "name": "stdout",
     "output_type": "stream",
     "text": [
      "Defaulting to user installation because normal site-packages is not writeable\n",
      "Requirement already satisfied: SpeechRecognition in /home/rafaelstojoao/.local/lib/python3.7/site-packages (3.8.1)\n",
      "Defaulting to user installation because normal site-packages is not writeable\n",
      "Requirement already satisfied: PyAudio in /usr/lib/python3/dist-packages (0.2.11)\n"
     ]
    },
    {
     "data": {
      "text/plain": [
       "'3.8.1'"
      ]
     },
     "execution_count": 45,
     "metadata": {},
     "output_type": "execute_result"
    }
   ],
   "source": [
    "!pip3 install SpeechRecognition\n",
    "!pip3 install PyAudio\n",
    "sr.__version__"
   ]
  },
  {
   "cell_type": "code",
   "execution_count": 61,
   "metadata": {},
   "outputs": [
    {
     "data": {
      "text/plain": [
       "'este é um teste de gravação em português'"
      ]
     },
     "execution_count": 61,
     "metadata": {},
     "output_type": "execute_result"
    }
   ],
   "source": [
    "import speech_recognition as sr\n",
    "\n",
    "r = sr.Recognizer()\n",
    "harvard = sr.AudioFile('audio2.wav')\n",
    "with harvard as source:\n",
    "    audio = r.record(source)\n",
    "    \n",
    "type(audio)\n",
    "r.recognize_google(audio,language='pt')\n",
    "# r.recognize_google(audio,language='en') em caso de ingles"
   ]
  },
  {
   "cell_type": "code",
   "execution_count": 51,
   "metadata": {},
   "outputs": [
    {
     "data": {
      "text/plain": [
       "['HDA Intel PCH: Generic Analog (hw:0,0)',\n",
       " 'HDA Intel PCH: HDMI 0 (hw:0,3)',\n",
       " 'HDA Intel PCH: HDMI 1 (hw:0,7)',\n",
       " 'HDA Intel PCH: HDMI 2 (hw:0,8)',\n",
       " 'HDA Intel PCH: HDMI 3 (hw:0,9)',\n",
       " 'HDA Intel PCH: HDMI 4 (hw:0,10)',\n",
       " 'sysdefault',\n",
       " 'front',\n",
       " 'surround40',\n",
       " 'surround51',\n",
       " 'surround71',\n",
       " 'hdmi',\n",
       " 'lavrate',\n",
       " 'samplerate',\n",
       " 'speexrate',\n",
       " 'pulse',\n",
       " 'upmix',\n",
       " 'vdownmix',\n",
       " 'dmix',\n",
       " 'default']"
      ]
     },
     "execution_count": 51,
     "metadata": {},
     "output_type": "execute_result"
    }
   ],
   "source": [
    "import speech_recognition as sr\n",
    "mic = sr.Microphone()\n",
    "sr.Microphone.list_microphone_names()"
   ]
  },
  {
   "cell_type": "code",
   "execution_count": 56,
   "metadata": {},
   "outputs": [
    {
     "name": "stdout",
     "output_type": "stream",
     "text": [
      "Diga algo\n",
      "Fim...\n"
     ]
    }
   ],
   "source": [
    "import speech_recognition as sr\n",
    "\n",
    "r = sr.Recognizer()\n",
    "\n",
    "with sr.Microphone() as source:\n",
    "    print(\"Diga algo\")\n",
    "    audio = r.listen(source)\n",
    "    print(\"Fim...\")\n",
    "\n",
    "\n",
    "try:\n",
    "    type(audio)\n",
    "\n",
    "    print(\"Text: \" + r.recognizer_google(audio));\n",
    "    x'\n",
    "except:\n",
    "    pass;\n"
   ]
  },
  {
   "cell_type": "code",
   "execution_count": null,
   "metadata": {},
   "outputs": [],
   "source": []
  }
 ],
 "metadata": {
  "kernelspec": {
   "display_name": "Python 3",
   "language": "python",
   "name": "python3"
  },
  "language_info": {
   "codemirror_mode": {
    "name": "ipython",
    "version": 3
   },
   "file_extension": ".py",
   "mimetype": "text/x-python",
   "name": "python",
   "nbconvert_exporter": "python",
   "pygments_lexer": "ipython3",
   "version": "3.7.3"
  }
 },
 "nbformat": 4,
 "nbformat_minor": 4
}
