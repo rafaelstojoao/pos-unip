{
 "cells": [
  {
   "cell_type": "code",
   "execution_count": 11,
   "metadata": {},
   "outputs": [
    {
     "data": {
      "text/plain": [
       "Table(name='animais', count=0, database='meuDB')"
      ]
     },
     "execution_count": 11,
     "metadata": {},
     "output_type": "execute_result"
    }
   ],
   "source": []
  },
  {
   "cell_type": "code",
   "execution_count": 36,
   "metadata": {},
   "outputs": [
    {
     "data": {
      "text/plain": [
       "Table(name='animais', count=0, database='meuDB.sqlite')"
      ]
     },
     "execution_count": 36,
     "metadata": {},
     "output_type": "execute_result"
    }
   ],
   "source": [
    "from pattern.db import Database, field, pk, STRING, BOOLEAN, DATE, NOW\n",
    "db = Database('meuDB.sqlite')\n",
    "\n",
    "db.create('animais', fields=(\n",
    "     pk(),\n",
    "     field('nome', STRING(80), index=True),\n",
    "     field('tipo', STRING(20)),\n",
    "     field('temRabo', BOOLEAN),\n",
    "     field('nascimento', DATE, default=None),\n",
    "     field('dataRegistro', DATE, default=NOW)\n",
    "))"
   ]
  },
  {
   "cell_type": "code",
   "execution_count": 37,
   "metadata": {},
   "outputs": [
    {
     "data": {
      "text/plain": [
       "4"
      ]
     },
     "execution_count": 37,
     "metadata": {},
     "output_type": "execute_result"
    }
   ],
   "source": [
    "db.animais.append(nome=u'Vira lata caramelo', tipo='cachorro', temRabo=True)\n",
    "db.animais.append(nome=u'Pankeka', tipo='cachorro', temRabo=True)\n",
    "db.animais.append(nome=u'Bob', tipo='gato', temRabo=True)\n",
    "db.animais.append(nome=u'Juca', tipo='gato', temRabo=True)"
   ]
  },
  {
   "cell_type": "code",
   "execution_count": 38,
   "metadata": {},
   "outputs": [
    {
     "name": "stdout",
     "output_type": "stream",
     "text": [
      "(3, 'Bob', 'gato', 1, None, Date('2020-10-24 09:04:38'))\n"
     ]
    }
   ],
   "source": [
    "print( db.animais.rows()[2])"
   ]
  },
  {
   "cell_type": "code",
   "execution_count": 39,
   "metadata": {},
   "outputs": [
    {
     "name": "stdout",
     "output_type": "stream",
     "text": [
      "(1, 'Vira lata caramelo', 'viralata', 1, None, Date('2020-10-24 09:04:37'))\n"
     ]
    }
   ],
   "source": [
    "db.animais.update(1, tipo='viralata') \n",
    "print( db.animais.rows()[0])"
   ]
  },
  {
   "cell_type": "code",
   "execution_count": 40,
   "metadata": {},
   "outputs": [],
   "source": [
    "from pattern.db import Database, eq, all, any\n",
    "db = Database('meuDB')\n",
    "consulta1 = db.animais.search(filters=all(eq('nome', 'Juca'), eq('tipo', 'gato')))\n",
    "consulta2 = db.animais.search(filters=any(eq('tipo', 'cachorro')))"
   ]
  },
  {
   "cell_type": "code",
   "execution_count": 41,
   "metadata": {},
   "outputs": [
    {
     "name": "stdout",
     "output_type": "stream",
     "text": [
      "(2, 'Vira lata caramelo', 'cachorro', 1, None, Date('2020-10-24 09:01:18'))\n",
      "(3, 'Pankeka', 'cachorro', 1, None, Date('2020-10-24 09:01:18'))\n"
     ]
    }
   ],
   "source": [
    "for row in db.animais.search(filters=any(eq('tipo', 'cachorro'))):  \n",
    "    print(row)"
   ]
  }
 ],
 "metadata": {
  "kernelspec": {
   "display_name": "Python 3",
   "language": "python",
   "name": "python3"
  },
  "language_info": {
   "codemirror_mode": {
    "name": "ipython",
    "version": 3
   },
   "file_extension": ".py",
   "mimetype": "text/x-python",
   "name": "python",
   "nbconvert_exporter": "python",
   "pygments_lexer": "ipython3",
   "version": "3.7.3"
  }
 },
 "nbformat": 4,
 "nbformat_minor": 4
}
