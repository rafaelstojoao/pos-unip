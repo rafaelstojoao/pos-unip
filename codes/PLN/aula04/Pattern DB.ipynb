{
 "cells": [
  {
   "cell_type": "code",
   "execution_count": null,
   "metadata": {},
   "outputs": [],
   "source": []
  },
  {
   "cell_type": "code",
   "execution_count": 2,
   "metadata": {},
   "outputs": [],
   "source": [
    "from pattern.db import *\n",
    "\n",
    "\n",
    "#criar um novo banco de dados\n",
    "db = Database('bancoDaauladodia24.sqlite')\n",
    "\n"
   ]
  },
  {
   "cell_type": "code",
   "execution_count": 3,
   "metadata": {},
   "outputs": [
    {
     "data": {
      "text/plain": [
       "Table(name='animais', count=0, database='bancoDaauladodia24.sqlite')"
      ]
     },
     "execution_count": 3,
     "metadata": {},
     "output_type": "execute_result"
    }
   ],
   "source": [
    "\n",
    "#criar tabelas no meu banco de dados\n",
    "db.create('animais', fields=(\n",
    "     pk(),\n",
    "     field('nome', STRING(25), index=True),\n",
    "     field('tipo', STRING(20)),\n",
    "     field('temRabo', BOOLEAN),\n",
    "     field('nascimento', DATE, default=None),\n",
    "     field('dataRegistro', DATE, default=NOW)\n",
    "))"
   ]
  },
  {
   "cell_type": "code",
   "execution_count": 4,
   "metadata": {},
   "outputs": [
    {
     "data": {
      "text/plain": [
       "4"
      ]
     },
     "execution_count": 4,
     "metadata": {},
     "output_type": "execute_result"
    }
   ],
   "source": [
    "#iserir informações na tabela animais no banco de dados bancoDaauladodia24\n",
    "db.animais.append(nome=u'Vira lata caramelo', tipo='cachorro', temRabo=True)\n",
    "\n",
    "db.animais.append(nome=u'Pankeka', tipo='cachorro', temRabo=True)\n",
    "db.animais.append(nome=u'Bob', tipo='gato', temRabo=True)\n",
    "db.animais.append(nome=u'Juca', tipo='gato', temRabo=True)"
   ]
  },
  {
   "cell_type": "code",
   "execution_count": 10,
   "metadata": {},
   "outputs": [
    {
     "name": "stdout",
     "output_type": "stream",
     "text": [
      "(3, 'Bob', 'viralata', 1, None, Date('2020-10-24 14:34:53'))\n"
     ]
    }
   ],
   "source": [
    "#consultas\n",
    "\n",
    "print( db.animais.rows()[2])"
   ]
  },
  {
   "cell_type": "code",
   "execution_count": 11,
   "metadata": {},
   "outputs": [
    {
     "name": "stdout",
     "output_type": "stream",
     "text": [
      "(3, 'Bob', 'viralata mesmo', 1, None, Date('2020-10-24 14:34:53'))\n"
     ]
    }
   ],
   "source": [
    "#atualização de valores na base de dados\n",
    "\n",
    "\n",
    "db.animais.update(3, tipo='viralata mesmo') \n",
    "\n",
    "\n",
    "print( db.animais.rows()[2])"
   ]
  },
  {
   "cell_type": "code",
   "execution_count": 23,
   "metadata": {},
   "outputs": [],
   "source": [
    "\n",
    "#consultas mais complexas\n",
    "\n",
    "from pattern.db import Database, eq, all, any\n",
    "# eq equal = igual\n",
    "# all significa TUDO\n",
    "# any significa qualquer um ou pelo menos um..\n",
    "\n",
    "db = Database('bancoDaauladodia24.sqlite')\n",
    "\n",
    "consulta1 = db.animais.search(filters=all(eq('nome', 'Juca'), eq('tipo', 'gato'))) #AND\n",
    "# consulta1\n",
    "consulta2 = db.animais.search(filters=any(eq('nome', 'Juca'), eq('tipo','gato'))) #OR"
   ]
  },
  {
   "cell_type": "code",
   "execution_count": 24,
   "metadata": {},
   "outputs": [
    {
     "name": "stdout",
     "output_type": "stream",
     "text": [
      "(1, 'Vira lata caramelo', 'cachorro', 1, None, Date('2020-10-24 14:34:53'))\n",
      "(2, 'Pankeka', 'cachorro', 1, None, Date('2020-10-24 14:34:53'))\n"
     ]
    }
   ],
   "source": [
    "\n",
    "for row in db.animais.search(filters=any(eq('nome', 'Pankeka'), eq('tipo', 'cachorro'))):  \n",
    "    print(row)"
   ]
  }
 ],
 "metadata": {
  "kernelspec": {
   "display_name": "Python 3",
   "language": "python",
   "name": "python3"
  },
  "language_info": {
   "codemirror_mode": {
    "name": "ipython",
    "version": 3
   },
   "file_extension": ".py",
   "mimetype": "text/x-python",
   "name": "python",
   "nbconvert_exporter": "python",
   "pygments_lexer": "ipython3",
   "version": "3.7.3"
  }
 },
 "nbformat": 4,
 "nbformat_minor": 4
}
