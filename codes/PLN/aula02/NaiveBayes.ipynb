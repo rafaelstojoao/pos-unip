{
 "cells": [
  {
   "cell_type": "code",
   "execution_count": 70,
   "metadata": {},
   "outputs": [
    {
     "name": "stdout",
     "output_type": "stream",
     "text": [
      "[[0.51689861 0.48310139]]\n"
     ]
    }
   ],
   "source": [
    "#implementação clássica do Naive Bayes\n",
    "\n",
    "from sklearn.naive_bayes import CategoricalNB\n",
    "\n",
    "\n",
    "\n",
    "#1 sol\n",
    "#2 nublado\n",
    "#3 chuva\n",
    "aspecto = [\n",
    "        [1],\n",
    "        [1],\n",
    "        [2],\n",
    "        [3],\n",
    "        [3],\n",
    "        [3],\n",
    "        [2],\n",
    "        [1],\n",
    "        [1],\n",
    "        [3],\n",
    "        [1],\n",
    "        [2],\n",
    "        [2],\n",
    "        [3]    \n",
    "    ]\n",
    "\n",
    "classes = [0,0,1,1,1,0,1,0,1,1,1,1,1,0]\n",
    "conjtoTreino = [aspecto,classes]\n",
    "\n",
    "\n",
    "classificadorNaive = CategoricalNB()\n",
    "classificadorNaive.fit(conjtoTreino[0],conjtoTreino[1])\n",
    "\n",
    " \n",
    "entradaTeste = [[1]]\n",
    "#Qual a chance de ser um bom dia para jogar, visto que faz sol?\n",
    "# print(classificadorNaive.predict(entradaTeste))\n",
    "\n",
    "print(classificadorNaive.predict_proba(entradaTeste))\n"
   ]
  },
  {
   "cell_type": "code",
   "execution_count": 79,
   "metadata": {},
   "outputs": [
    {
     "name": "stdout",
     "output_type": "stream",
     "text": [
      "[[0.67538309 0.32461691]]\n",
      "[-1]\n"
     ]
    }
   ],
   "source": [
    "## from sklearn.naive_bayes import GaussianNB\n",
    "\n",
    "tempo = [\n",
    "        [1,1,1,1],\n",
    "        [1,1,1,2],\n",
    "        [2,1,1,1],\n",
    "        [3,2,1,1],\n",
    "        [3,3,2,1],\n",
    "        [3,3,2,2],\n",
    "        [2,3,2,2],\n",
    "        [1,2,1,1],\n",
    "        [1,1,2,1],\n",
    "        [3,2,2,1],\n",
    "        [1,2,2,2],\n",
    "        [2,2,1,2],\n",
    "        [2,3,2,1],\n",
    "        [3,2,1,2]    \n",
    "    ]\n",
    "\n",
    "\n",
    "\n",
    "classes = [-1,-1,1,1,1,-1,1,-1,1,1,1,1,1,-1]\n",
    "conjtoTreino = [tempo,classes]\n",
    "\n",
    "\n",
    "classificadorNaive2 = GaussianNB()\n",
    "classificadorNaive2.fit(conjtoTreino[0],conjtoTreino[1])\n",
    "\n",
    " \n",
    "entradaTeste = [[3,2,1,2]]\n",
    "#Qual a chance de ser um bom dia para jogar, visto que faz sol?\n",
    "\n",
    "print(classificadorNaive2.predict_proba(entradaTeste))#probabilidades\n",
    "print(classificadorNaive2.predict(entradaTeste))#qual classe?\n"
   ]
  },
  {
   "cell_type": "code",
   "execution_count": null,
   "metadata": {},
   "outputs": [],
   "source": []
  }
 ],
 "metadata": {
  "kernelspec": {
   "display_name": "Python 3",
   "language": "python",
   "name": "python3"
  },
  "language_info": {
   "codemirror_mode": {
    "name": "ipython",
    "version": 3
   },
   "file_extension": ".py",
   "mimetype": "text/x-python",
   "name": "python",
   "nbconvert_exporter": "python",
   "pygments_lexer": "ipython3",
   "version": "3.7.3"
  }
 },
 "nbformat": 4,
 "nbformat_minor": 4
}
