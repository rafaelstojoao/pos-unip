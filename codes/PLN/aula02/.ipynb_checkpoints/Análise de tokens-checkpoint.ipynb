{
 "cells": [
  {
   "cell_type": "code",
   "execution_count": 32,
   "metadata": {},
   "outputs": [],
   "source": [
    "frasesPositivas = ['Que dia bonito',\n",
    "                   'gostei da sua atitude',\n",
    "                   'Adorei a forma como fala',\n",
    "                   'Com certeza compraria novamente',\n",
    "                   'Gostei da qualidade do produto',\n",
    "                   'Adorei que chegou cedo',\n",
    "                   'Com essa atitude você vai longe']\n",
    "\n",
    "frasesNegativas = ['não sei mais o que esperar da vida',\n",
    "                   '']\n",
    "\n",
    "#a palavra não é um forte indicativo de que a frase é negativa (trivial)\n"
   ]
  },
  {
   "cell_type": "code",
   "execution_count": null,
   "metadata": {},
   "outputs": [],
   "source": [
    "#A quantidade de caracteres/palavras dos comentários positivos e negativos pode ser uma forma de análise?\n"
   ]
  },
  {
   "cell_type": "code",
   "execution_count": 33,
   "metadata": {
    "scrolled": true
   },
   "outputs": [
    {
     "name": "stdout",
     "output_type": "stream",
     "text": [
      "\n",
      "\n",
      "sometimes ADV adverb\n",
      "\n",
      "\n",
      "I PRON pronoun, personal\n",
      "\n",
      "\n",
      "think VERB verb, non-3rd person singular present\n",
      "\n",
      "\n",
      "I PRON pronoun, personal\n",
      "\n",
      "\n",
      "can VERB verb, modal auxiliary\n",
      "\n",
      "\n",
      "do AUX verb, base form\n",
      "\n",
      "\n",
      "everything PRON noun, singular or mass\n"
     ]
    }
   ],
   "source": [
    "import spacy\n",
    "import nltk\n",
    "\n",
    "# python -m spacy download pt_core_news_sm\n",
    "# Mais corpus em: https://spacy.io/usage/models\n",
    "\n",
    "pln = spacy.load('en_core_web_sm')\n",
    "# pln = spacy.load(\"pt_core_news_sm\")\n",
    "\n",
    "# frase = pln(\"Análise de uma frase criada pelo Rafael.\")\n",
    "frase = pln(\"sometimes I think I can do everything\")\n",
    "\n",
    "for token in frase:\n",
    "    print('\\n')\n",
    "    print(token.text, token.pos_,spacy.explain(token.tag_))"
   ]
  },
  {
   "cell_type": "code",
   "execution_count": null,
   "metadata": {},
   "outputs": [],
   "source": []
  },
  {
   "cell_type": "code",
   "execution_count": null,
   "metadata": {},
   "outputs": [],
   "source": []
  }
 ],
 "metadata": {
  "kernelspec": {
   "display_name": "Python 3",
   "language": "python",
   "name": "python3"
  },
  "language_info": {
   "codemirror_mode": {
    "name": "ipython",
    "version": 3
   },
   "file_extension": ".py",
   "mimetype": "text/x-python",
   "name": "python",
   "nbconvert_exporter": "python",
   "pygments_lexer": "ipython3",
   "version": "3.7.3"
  }
 },
 "nbformat": 4,
 "nbformat_minor": 4
}
