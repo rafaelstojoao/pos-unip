{
 "cells": [
  {
   "cell_type": "markdown",
   "metadata": {},
   "source": [
    "# TAREFA"
   ]
  },
  {
   "cell_type": "markdown",
   "metadata": {},
   "source": [
    "## Abaixo você encontra 3 emails indicados como SPAM pelo usuário, 3 não indicados e 1 email recém chegado.\n",
    "\n",
    "\n",
    "## Crie um modelo de classificação que seja capaz de identificar se um email é potencial SPAM ou não."
   ]
  },
  {
   "cell_type": "code",
   "execution_count": 33,
   "metadata": {},
   "outputs": [],
   "source": [
    "spam1 = \"We will Run a FREE Mortgage Analysis For you. \\\n",
    "You are under NO Obligation for anything. \\\n",
    "The Analysis Will tell you exactly how many yrs you can take off your Mortgage. \\\n",
    "And how much equity you can build and in what period of time.\\\n",
    "Just Return an email With These Questions Completed \\\n",
    "and your Free Analysis will be E-mailed to you within 5 business days.\"\n",
    "\n",
    "\n",
    "\n",
    "spam2 = \" We will give you $1,000 for sending an e-mail to your friends.  \\\n",
    "AB Mailing, Inc. is proud to announce the start of a new contest.  \\\n",
    "Each day until January, 31 1999, one lucky Internet or AOL user who \\\n",
    "forwards our advertisement to their friends will be randomly picked to receive $1,000! \\\n",
    "You could be the winner! \\\n",
    "Thank you for your time.\"\n",
    "\n",
    "\n",
    "spam3 = \"After many attempts of trying to make money on the Internet I decided to give this one a try!\\\n",
    "I have been through this program once already.\\\n",
    "You have no idea how profitable it is!  It is definitely the fastest thing available.\\\n",
    "We are talking about thousands of dollars in 2 weeks time...\\\n",
    "send it to as many people as you can (even though it says 20...trust me).\\\n",
    "GOOD LUCK...you cant lose\"\n",
    "\n",
    "\n",
    "\n",
    "\n",
    "notSpam1 = \"Dear Professor Foo,\\\n",
    "I am a student in your machine learning class.\\\n",
    "I have a question about the second term project and I was not able to find the\\\n",
    "answer on the syllabus. Should our project be only about the topics listed on\\\n",
    "the second part of the syllabus, or can I incorporate topics from the whole\\\n",
    "course, as long as it fits with the subject of the class?\\\n",
    "I look forward to hearing from you.\\\n",
    "Best regards,\\\n",
    "Bar\"\n",
    "\n",
    "\n",
    "notSpam2 = \"Dear Professor Alice, Im writing to follow up on my email I sent earlier this week regarding a\\\n",
    "question I have about the topic of assignment and the exam. I look forward to\\\n",
    "hearing from you.\\\n",
    "Best regards,\\\n",
    "Michael Kumar \"\n",
    "\n",
    "notSpam3 = \"Dear Professor Hanks,\\\n",
    "I am a student in your class.\\\n",
    "After getting the results of last week's exam, I realized that I am struggling\\\n",
    "with more than one topic in the course. I want to do my best in this class, and\\\n",
    "would like to review my exam with you. Is there a time we could meet later this\\\n",
    "week to talk further?\\\n",
    "I look forward to your reply.\\\n",
    "Best regards,\\\n",
    "Soo Kim\"\n",
    "\n",
    "\n",
    "\n",
    "\n",
    "emailTeste = \"Dear Professor Alice:\\\n",
    "Professor Foo suggested I reach out to you regarding my thesis work about machine learning.\\\n",
    "I know you have done extensive research in this area, and I think meeting with you would help me a lot.\\\n",
    "Would you be available for a short meeting next week?\\\n",
    "I look forward to your reply.\\\n",
    "Sincerely,\\\n",
    "Bob\"\n",
    "\n",
    "\n",
    "#normalizar todos os textos\n",
    "#Tokenizar spams,\n",
    "#tokenizar não spam\n",
    "\n",
    "#remover stopword\n",
    "\n",
    "#construir uma base de dados pandas com as classes (1 = spam 0 não spam)"
   ]
  }
 ],
 "metadata": {
  "kernelspec": {
   "display_name": "Python 3",
   "language": "python",
   "name": "python3"
  },
  "language_info": {
   "codemirror_mode": {
    "name": "ipython",
    "version": 3
   },
   "file_extension": ".py",
   "mimetype": "text/x-python",
   "name": "python",
   "nbconvert_exporter": "python",
   "pygments_lexer": "ipython3",
   "version": "3.7.3"
  }
 },
 "nbformat": 4,
 "nbformat_minor": 4
}
