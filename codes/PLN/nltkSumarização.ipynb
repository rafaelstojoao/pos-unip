{
 "cells": [
  {
   "cell_type": "code",
   "execution_count": 5,
   "metadata": {},
   "outputs": [],
   "source": [
    "noticia = \"A coordenação do Epicovid19-BR, estudo que estima o número de casos de infecção por coronavírus no Brasil, anuncia a realização de nova etapa de entrevistas e testes rápidos, que teve início ontem (27) e vai até domingo (30) em Araçatuba e em outras 132 cidades do Brasil. A continuidade do estudo, que teve três fases anteriores financiadas pelo Ministério da Saúde, tornou-se possível através de investimento do programa Todos pela Saúde, fundo criado pelo Itaú Unibanco para apoiar o enfrentamento da Covid-19 no Brasil em diversas frentes, entre elas, o suporte a iniciativas de pesquisa científica. 'Os números de casos de infecção, internações e mortes por coronavírus se mantêm altos dia após dia no Brasil. Neste momento, precisamos das melhores evidências para embasar ações, preservar a saúde e prevenir mortes evitáveis de brasileiros', diz o epidemiologista e coordenador geral do estudo, Pedro Hallal. A quarta etapa segue a mesma metodologia das três anteriores. Cerca de dois mil entrevistadores do IBOPE Inteligência voltam às ruas, entre os dias 27 e 30 de agosto, para visitar residências e realizar testes rápidos e entrevistas com 250 moradores em cada município incluído no estudo, totalizando amostra nacional de 33.250 participantes somente nesta etapa da pesquisa. O Estudo de Evolução da Prevalência de Infecção por Covid-19 no Brasil (Epicovid19-BR), coordenado pela Universidade Federal de Pelotas, é a maior pesquisa populacional em andamento no mundo a estimar a prevalência de coronavírus. As três primeiras etapas, realizadas de 14 a 21 de maio, 4 a 7 e 21 a 24 de junho, entrevistaram quase 90 mil pessoas. Os dados inéditos permitiram conhecer o comportamento do vírus no Brasil. Para cada diagnóstico confirmado pelas estatísticas, o estudo estimou que existem ao redor de seis casos reais não notificados. De cada cem infectados, um vai a óbito. A pesquisa documenta que, em um mês, a prevalência dobrou na população: os percentuais passaram de 1,9% (1,7 – 2,1%, pela margem de erro), na primeira etapa, para 3,1% (2,8 -4,4%), na segunda, e alcançaram 3,8% (3,5 – 4,2%), na última etapa. Nesse mesmo intervalo, o distanciamento social (percentual de pessoas que ficam sempre em casa) caiu de 23,1% para 18,9%. Os pesquisadores ainda identificaram a existência de “várias epidemias” em curso simultâneo no país, com diferenças entre as regiões brasileiras e desigualdades entre grupos étnicos e socioeconômicos. Enquanto, no Norte, 10% da população, em média, têm ou já teve coronavírus, no Sul, esse percentual está em torno de 1%. Em todas as fases da pesquisa, os 20% mais pobres apresentaram o dobro do risco de infecção em comparação aos 20% mais ricos. Além disso, indígenas tiveram um risco cinco vezes maior do que os brancos. Mostramos que os pobres e os indígenas são os grupos mais vulneráveis, que requerem ainda mais atenção de políticas de saúde pública, diz Hallal. A pesquisa também estimou que crianças têm a mesma chance de adultos para contrair o vírus e, diferente do que cogitava inicialmente a ciência mundial, aproximadamente 90% dos casos apresentam sintomas. Os cinco mais frequentes, relatados por cerca de metade dos entrevistados com anticorpos para a Covid-19, foram dor de cabeça (58%), alteração de olfato ou paladar (57%), febre (52,1%), tosse (47,7%) e dor no corpo (44,1%). Pessoas com perda de olfato e paladar, por exemplo, poderiam ser testadas e isoladas em caso de diagnóstico positivo, já que este sintoma foi cinco vezes mais frequente entre os casos positivos comparados aos negativos, completa. Como funciona a pesquisa: O estudo inclui a cidade mais populosa de cada uma das 133 regiões intermediárias do país, que são divisões do território nacional definidas pelo Instituto Brasileiro de Geografia e Estatística (IBGE). A seleção das residências e das pessoas que serão entrevistadas e testadas ocorre por meio de um sorteio aleatório, utilizando os setores censitários do IBGE como base. Durante a visita, os pesquisadores coletam uma gota de sangue da ponta do dedo do participante, que será analisada pelo aparelho de teste em aproximadamente 15 minutos. Em caso de resultado positivo, os profissionais comunicam a Vigilância Epidemiológica local. O Epicovid19-BR tem aprovação da Comissão Nacional de Ética em Pesquisa e cumpre todos os requisitos de segurança necessários, para proteger os pesquisadores e a população. Araçatuba, da redação.\""
   ]
  },
  {
   "cell_type": "code",
   "execution_count": 17,
   "metadata": {},
   "outputs": [],
   "source": [
    "# print(noticia)"
   ]
  },
  {
   "cell_type": "code",
   "execution_count": 9,
   "metadata": {},
   "outputs": [],
   "source": [
    "import nltk\n",
    "from nltk.tokenize import word_tokenize\n",
    "from nltk.tokenize import sent_tokenize\n",
    "\n",
    "sentence_list = nltk.sent_tokenize(noticia)\n"
   ]
  },
  {
   "cell_type": "code",
   "execution_count": 13,
   "metadata": {},
   "outputs": [],
   "source": [
    "stopwords = nltk.corpus.stopwords.words('portuguese')\n",
    "\n",
    "word_frequencies = {}\n",
    "for word in nltk.word_tokenize(noticia):\n",
    "    if word not in stopwords:\n",
    "        if word not in word_frequencies.keys():\n",
    "            word_frequencies[word] = 1\n",
    "        else:\n",
    "            word_frequencies[word] += 1"
   ]
  },
  {
   "cell_type": "code",
   "execution_count": 14,
   "metadata": {},
   "outputs": [],
   "source": [
    "maximum_frequncy = max(word_frequencies.values())\n",
    "\n",
    "for word in word_frequencies.keys():\n",
    "    word_frequencies[word] = (word_frequencies[word]/maximum_frequncy)"
   ]
  },
  {
   "cell_type": "code",
   "execution_count": 15,
   "metadata": {},
   "outputs": [],
   "source": [
    "sentence_scores = {}\n",
    "for sent in sentence_list:\n",
    "    for word in nltk.word_tokenize(sent.lower()):\n",
    "        if word in word_frequencies.keys():\n",
    "            if len(sent.split(' ')) < 30:\n",
    "                if sent not in sentence_scores.keys():\n",
    "                    sentence_scores[sent] = word_frequencies[word]\n",
    "                else:\n",
    "                    sentence_scores[sent] += word_frequencies[word]"
   ]
  },
  {
   "cell_type": "code",
   "execution_count": 16,
   "metadata": {},
   "outputs": [
    {
     "name": "stdout",
     "output_type": "stream",
     "text": [
      "Enquanto, no Norte, 10% da população, em média, têm ou já teve coronavírus, no Sul, esse percentual está em torno de 1%. Neste momento, precisamos das melhores evidências para embasar ações, preservar a saúde e prevenir mortes evitáveis de brasileiros', diz o epidemiologista e coordenador geral do estudo, Pedro Hallal. As três primeiras etapas, realizadas de 14 a 21 de maio, 4 a 7 e 21 a 24 de junho, entrevistaram quase 90 mil pessoas. Mostramos que os pobres e os indígenas são os grupos mais vulneráveis, que requerem ainda mais atenção de políticas de saúde pública, diz Hallal. Durante a visita, os pesquisadores coletam uma gota de sangue da ponta do dedo do participante, que será analisada pelo aparelho de teste em aproximadamente 15 minutos. Nesse mesmo intervalo, o distanciamento social (percentual de pessoas que ficam sempre em casa) caiu de 23,1% para 18,9%. Em todas as fases da pesquisa, os 20% mais pobres apresentaram o dobro do risco de infecção em comparação aos 20% mais ricos.\n"
     ]
    }
   ],
   "source": [
    "import heapq\n",
    "summary_sentences = heapq.nlargest(7, sentence_scores, key=sentence_scores.get)\n",
    "\n",
    "summary = ' '.join(summary_sentences)\n",
    "print(summary)"
   ]
  }
 ],
 "metadata": {
  "kernelspec": {
   "display_name": "Python 3",
   "language": "python",
   "name": "python3"
  },
  "language_info": {
   "codemirror_mode": {
    "name": "ipython",
    "version": 3
   },
   "file_extension": ".py",
   "mimetype": "text/x-python",
   "name": "python",
   "nbconvert_exporter": "python",
   "pygments_lexer": "ipython3",
   "version": "3.7.3"
  }
 },
 "nbformat": 4,
 "nbformat_minor": 4
}
