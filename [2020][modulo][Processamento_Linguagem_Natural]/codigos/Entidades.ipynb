{
 "cells": [
  {
   "cell_type": "code",
   "execution_count": 31,
   "metadata": {},
   "outputs": [],
   "source": [
    "import spacy\n",
    "pln = spacy.load('pt_core_news_sm')"
   ]
  },
  {
   "cell_type": "code",
   "execution_count": 40,
   "metadata": {},
   "outputs": [],
   "source": [
    "entrada = pln(' Rafael é o cara que diz: O rato roeu a roupa do rei de Roma')\n"
   ]
  },
  {
   "cell_type": "code",
   "execution_count": 41,
   "metadata": {},
   "outputs": [
    {
     "name": "stdout",
     "output_type": "stream",
     "text": [
      "Rafael\n",
      "PER\n",
      "Roma\n",
      "LOC\n"
     ]
    }
   ],
   "source": [
    "for entidade in entrada.ents:\n",
    "    print(entidade)\n",
    "    print(entidade.label_)\n",
    "\n"
   ]
  },
  {
   "cell_type": "code",
   "execution_count": null,
   "metadata": {},
   "outputs": [],
   "source": []
  },
  {
   "cell_type": "markdown",
   "metadata": {},
   "source": [
    "# 1) Encontre as entidades mais frequentes de um livro à sua escolha em\n",
    "https://archive.org/details/booksbylanguage_portuguese?and[]=subject%3A%22Brazil%22\n",
    "\n",
    "Contabilize a frequência (TF) verifique a TF-IDF e as palavras vizinhas mais frequentes.\n",
    "\n",
    "Para compor o corpora pode ser interessante assumir cada capítulo do livro (ou bloco) como um documento\n"
   ]
  },
  {
   "cell_type": "markdown",
   "metadata": {},
   "source": [
    "# 2) Construir uma nuvem de personagens mais presentes no livro:\n",
    "        ver http://localhost:8888/notebooks/nuvemDeTags.ipynb"
   ]
  },
  {
   "cell_type": "markdown",
   "metadata": {},
   "source": []
  }
 ],
 "metadata": {
  "kernelspec": {
   "display_name": "Python 3",
   "language": "python",
   "name": "python3"
  },
  "language_info": {
   "codemirror_mode": {
    "name": "ipython",
    "version": 3
   },
   "file_extension": ".py",
   "mimetype": "text/x-python",
   "name": "python",
   "nbconvert_exporter": "python",
   "pygments_lexer": "ipython3",
   "version": "3.7.3"
  }
 },
 "nbformat": 4,
 "nbformat_minor": 4
}
