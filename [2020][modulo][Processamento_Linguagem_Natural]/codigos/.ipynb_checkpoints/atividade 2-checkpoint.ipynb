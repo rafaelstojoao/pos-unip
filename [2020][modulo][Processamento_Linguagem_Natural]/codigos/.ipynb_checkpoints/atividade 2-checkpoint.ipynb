{
 "cells": [
  {
   "cell_type": "code",
   "execution_count": 1,
   "metadata": {},
   "outputs": [],
   "source": [
    "#Rafael Stoffalette João\n",
    "#Unip - Araçatuba\n",
    "#2020-04-09\n"
   ]
  },
  {
   "cell_type": "code",
   "execution_count": 15,
   "metadata": {},
   "outputs": [],
   "source": [
    "documento1 = \"O cachorro e a cachorra aprenderam programar. Programaram o fim de semana cheio de programação\"\n",
    "documento2 = \"Cachorros estão aprendendo a programar\"\n",
    "documento3 = \"Programação não é mais coisa de gente grande, criança agora também programa\"\n",
    "documento4 = \"Só eu mesmo que não aprendi a programar\""
   ]
  },
  {
   "cell_type": "code",
   "execution_count": 17,
   "metadata": {},
   "outputs": [
    {
     "name": "stdout",
     "output_type": "stream",
     "text": [
      "O\n",
      "cachorro\n",
      "e\n",
      "a\n",
      "cachorra\n",
      "aprenderam\n",
      "programar.\n",
      "Programaram\n",
      "o\n",
      "fim\n",
      "de\n",
      "semana\n",
      "cheio\n",
      "de\n",
      "programação\n"
     ]
    }
   ],
   "source": [
    "vetorTextoEntrada = documento1.split(\" \")\n",
    "for termo in vetorTextoEntrada:\n",
    "    print(termo)"
   ]
  },
  {
   "cell_type": "markdown",
   "metadata": {},
   "source": [
    "# Normalizar a entrada e encontrar os tokens\n"
   ]
  },
  {
   "cell_type": "markdown",
   "metadata": {},
   "source": [
    "# Calcular o TD-IDF "
   ]
  },
  {
   "cell_type": "markdown",
   "metadata": {},
   "source": [
    "# Como contar palavras e rankear as mais frequentes?\n"
   ]
  },
  {
   "cell_type": "markdown",
   "metadata": {},
   "source": [
    "É possível obter algum entendimento simplesmente observando as palavras mais frequentes?"
   ]
  },
  {
   "cell_type": "code",
   "execution_count": null,
   "metadata": {},
   "outputs": [],
   "source": []
  }
 ],
 "metadata": {
  "kernelspec": {
   "display_name": "Python 3",
   "language": "python",
   "name": "python3"
  },
  "language_info": {
   "codemirror_mode": {
    "name": "ipython",
    "version": 3
   },
   "file_extension": ".py",
   "mimetype": "text/x-python",
   "name": "python",
   "nbconvert_exporter": "python",
   "pygments_lexer": "ipython3",
   "version": "3.7.3"
  }
 },
 "nbformat": 4,
 "nbformat_minor": 4
}
