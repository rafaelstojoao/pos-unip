{
 "cells": [
  {
   "cell_type": "markdown",
   "metadata": {
    "colab_type": "text",
    "id": "U5Ey6-u-yrGJ"
   },
   "source": [
    "# Tokenização"
   ]
  },
  {
   "cell_type": "code",
   "execution_count": 13,
   "metadata": {
    "colab": {
     "base_uri": "https://localhost:8080/",
     "height": 71
    },
    "colab_type": "code",
    "id": "KdwOTN4YyrGP",
    "outputId": "d2667056-3956-44aa-f226-0c7acf0bd687"
   },
   "outputs": [
    {
     "ename": "SyntaxError",
     "evalue": "invalid syntax (<ipython-input-13-f9c4e54274b2>, line 1)",
     "output_type": "error",
     "traceback": [
      "\u001b[0;36m  File \u001b[0;32m\"<ipython-input-13-f9c4e54274b2>\"\u001b[0;36m, line \u001b[0;32m1\u001b[0m\n\u001b[0;31m    pip3 install nltk==3.2.5\u001b[0m\n\u001b[0m               ^\u001b[0m\n\u001b[0;31mSyntaxError\u001b[0m\u001b[0;31m:\u001b[0m invalid syntax\n"
     ]
    }
   ],
   "source": [
    "pip3 install -U nltk==3.2.5\n",
    "ipython\n",
    "\n",
    "import nltk\n",
    "nltk.download('popular')\n",
    "\n",
    "# <collection id=\"popular\" name=\"Popular packages\">\n",
    "#   <item ref=\"cmudict\" />\n",
    "#   <item ref=\"gazetteers\" />\n",
    "#   <item ref=\"genesis\" />\n",
    "#   <item ref=\"gutenberg\" />\n",
    "#   <item ref=\"inaugural\" />\n",
    "#   <item ref=\"movie_reviews\" />\n",
    "#   <item ref=\"names\" />\n",
    "#   <item ref=\"shakespeare\" />\n",
    "#   <item ref=\"stopwords\" />\n",
    "#   <item ref=\"treebank\" />\n",
    "#   <item ref=\"Twitter_samples\" />\n",
    "#   <item ref=\"omw\" />\n",
    "#   <item ref=\"wordnet\" />\n",
    "#   <item ref=\"wordnet_ic\" />\n",
    "#   <item ref=\"words\" />\n",
    "#   <item ref=\"maxent_ne_chunker\" />\n",
    "#   <item ref=\"punkt\" />\n",
    "#   <item ref=\"Snowball_data\" />\n",
    "#   <item ref=\"averaged_perceptron_tagger\" />\n",
    "# </collection>\n",
    "\n",
    "\n",
    "#identificação dos tokens\n",
    "text = \"Alguns animais sabem comunicar com gestos.\"\n",
    "tokenizer = nltk.tokenize.TreebankWordTokenizer()\n",
    "tokens = tokenizer.tokenize(text)\n",
    "print(tokens)\n",
    "\n",
    "\n",
    "\n",
    "#stemming\n",
    "from nltk.stem import PorterStemmer\n",
    "from nltk.tokenize import word_tokenize\n",
    "ps = PorterStemmer()\n",
    "words = [\"program\", \"programs\", \"programer\", \"programing\", \"programers\"]\n",
    "for w in words:\n",
    "    print(w, \" : \", ps.stem(w))\n",
    "\n",
    "\n",
    "\n",
    "#lemma\n",
    "from nltk.stem import WordNetLemmatizer\n",
    "lemmatizer = WordNetLemmatizer()\n",
    "print(\"rocks :\", lemmatizer.lemmatize(\"rocks\"))\n",
    "print(\"corpora :\", lemmatizer.lemmatize(\"corpora\"))\n",
    "print(\"cars :\", lemmatizer.lemmatize(\"cars\"))"
   ]
  }
 ],
 "metadata": {
  "colab": {
   "name": "tokenizacao.ipynb",
   "provenance": [],
   "version": "0.3.2"
  },
  "kernelspec": {
   "display_name": "Python 3",
   "language": "python",
   "name": "python3"
  },
  "language_info": {
   "codemirror_mode": {
    "name": "ipython",
    "version": 3
   },
   "file_extension": ".py",
   "mimetype": "text/x-python",
   "name": "python",
   "nbconvert_exporter": "python",
   "pygments_lexer": "ipython3",
   "version": "3.7.3"
  }
 },
 "nbformat": 4,
 "nbformat_minor": 2
}
